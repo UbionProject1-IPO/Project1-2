{
 "cells": [
  {
   "cell_type": "code",
   "execution_count": 2,
   "id": "d2491a3e",
   "metadata": {},
   "outputs": [],
   "source": [
    "import pandas as pd"
   ]
  },
  {
   "cell_type": "code",
   "execution_count": 3,
   "id": "ee7f0e08",
   "metadata": {},
   "outputs": [],
   "source": [
    "df = pd.read_csv('../notion_data/KOSPI200.csv')"
   ]
  },
  {
   "cell_type": "code",
   "execution_count": 6,
   "id": "68c9df8b",
   "metadata": {},
   "outputs": [
    {
     "data": {
      "text/plain": [
       "0"
      ]
     },
     "execution_count": 6,
     "metadata": {},
     "output_type": "execute_result"
    }
   ],
   "source": [
    "df['변동 %'].isna().sum()"
   ]
  },
  {
   "cell_type": "code",
   "execution_count": 8,
   "id": "e2e5e3e2",
   "metadata": {},
   "outputs": [],
   "source": [
    "df = pd.read_csv('../data/소비자물가지수.csv', encoding='cp949')"
   ]
  },
  {
   "cell_type": "code",
   "execution_count": 9,
   "id": "d17350ce",
   "metadata": {},
   "outputs": [
    {
     "name": "stdout",
     "output_type": "stream",
     "text": [
      "<class 'pandas.core.frame.DataFrame'>\n",
      "RangeIndex: 1 entries, 0 to 0\n",
      "Columns: 103 entries, 시도별 to 2023.06\n",
      "dtypes: float64(102), object(1)\n",
      "memory usage: 956.0+ bytes\n"
     ]
    }
   ],
   "source": [
    "df.info()"
   ]
  },
  {
   "cell_type": "code",
   "execution_count": 10,
   "id": "b2b1c190",
   "metadata": {},
   "outputs": [
    {
     "data": {
      "text/html": [
       "<div>\n",
       "<style scoped>\n",
       "    .dataframe tbody tr th:only-of-type {\n",
       "        vertical-align: middle;\n",
       "    }\n",
       "\n",
       "    .dataframe tbody tr th {\n",
       "        vertical-align: top;\n",
       "    }\n",
       "\n",
       "    .dataframe thead th {\n",
       "        text-align: right;\n",
       "    }\n",
       "</style>\n",
       "<table border=\"1\" class=\"dataframe\">\n",
       "  <thead>\n",
       "    <tr style=\"text-align: right;\">\n",
       "      <th></th>\n",
       "      <th>시도별</th>\n",
       "      <th>2015.01</th>\n",
       "      <th>2015.02</th>\n",
       "      <th>2015.03</th>\n",
       "      <th>2015.04</th>\n",
       "      <th>2015.05</th>\n",
       "      <th>2015.06</th>\n",
       "      <th>2015.07</th>\n",
       "      <th>2015.08</th>\n",
       "      <th>2015.09</th>\n",
       "      <th>...</th>\n",
       "      <th>2022.09</th>\n",
       "      <th>2022.10</th>\n",
       "      <th>2022.11</th>\n",
       "      <th>2022.12</th>\n",
       "      <th>2023.01</th>\n",
       "      <th>2023.02</th>\n",
       "      <th>2023.03</th>\n",
       "      <th>2023.04</th>\n",
       "      <th>2023.05</th>\n",
       "      <th>2023.06</th>\n",
       "    </tr>\n",
       "  </thead>\n",
       "  <tbody>\n",
       "    <tr>\n",
       "      <th>0</th>\n",
       "      <td>전국</td>\n",
       "      <td>94.643</td>\n",
       "      <td>94.587</td>\n",
       "      <td>94.596</td>\n",
       "      <td>94.625</td>\n",
       "      <td>94.89</td>\n",
       "      <td>94.909</td>\n",
       "      <td>95.08</td>\n",
       "      <td>95.213</td>\n",
       "      <td>94.966</td>\n",
       "      <td>...</td>\n",
       "      <td>108.82</td>\n",
       "      <td>109.16</td>\n",
       "      <td>109.07</td>\n",
       "      <td>109.26</td>\n",
       "      <td>110.07</td>\n",
       "      <td>110.33</td>\n",
       "      <td>110.52</td>\n",
       "      <td>110.77</td>\n",
       "      <td>111.13</td>\n",
       "      <td>111.16</td>\n",
       "    </tr>\n",
       "  </tbody>\n",
       "</table>\n",
       "<p>1 rows × 103 columns</p>\n",
       "</div>"
      ],
      "text/plain": [
       "  시도별  2015.01  2015.02  2015.03  2015.04  2015.05  2015.06  2015.07  2015.08  \\\n",
       "0  전국   94.643   94.587   94.596   94.625    94.89   94.909    95.08   95.213   \n",
       "\n",
       "   2015.09  ...  2022.09  2022.10  2022.11  2022.12  2023.01  2023.02  \\\n",
       "0   94.966  ...   108.82   109.16   109.07   109.26   110.07   110.33   \n",
       "\n",
       "   2023.03  2023.04  2023.05  2023.06  \n",
       "0   110.52   110.77   111.13   111.16  \n",
       "\n",
       "[1 rows x 103 columns]"
      ]
     },
     "execution_count": 10,
     "metadata": {},
     "output_type": "execute_result"
    }
   ],
   "source": [
    "df.head()"
   ]
  },
  {
   "cell_type": "code",
   "execution_count": 12,
   "id": "b9c22909",
   "metadata": {},
   "outputs": [
    {
     "data": {
      "text/html": [
       "<div>\n",
       "<style scoped>\n",
       "    .dataframe tbody tr th:only-of-type {\n",
       "        vertical-align: middle;\n",
       "    }\n",
       "\n",
       "    .dataframe tbody tr th {\n",
       "        vertical-align: top;\n",
       "    }\n",
       "\n",
       "    .dataframe thead th {\n",
       "        text-align: right;\n",
       "    }\n",
       "</style>\n",
       "<table border=\"1\" class=\"dataframe\">\n",
       "  <thead>\n",
       "    <tr style=\"text-align: right;\">\n",
       "      <th></th>\n",
       "      <th>날짜</th>\n",
       "      <th>CPI</th>\n",
       "    </tr>\n",
       "  </thead>\n",
       "  <tbody>\n",
       "    <tr>\n",
       "      <th>0</th>\n",
       "      <td>2015-01-01</td>\n",
       "      <td>94.643</td>\n",
       "    </tr>\n",
       "    <tr>\n",
       "      <th>1</th>\n",
       "      <td>2015-02-01</td>\n",
       "      <td>94.587</td>\n",
       "    </tr>\n",
       "    <tr>\n",
       "      <th>2</th>\n",
       "      <td>2015-03-01</td>\n",
       "      <td>94.596</td>\n",
       "    </tr>\n",
       "    <tr>\n",
       "      <th>3</th>\n",
       "      <td>2015-04-01</td>\n",
       "      <td>94.625</td>\n",
       "    </tr>\n",
       "    <tr>\n",
       "      <th>4</th>\n",
       "      <td>2015-05-01</td>\n",
       "      <td>94.890</td>\n",
       "    </tr>\n",
       "  </tbody>\n",
       "</table>\n",
       "</div>"
      ],
      "text/plain": [
       "          날짜     CPI\n",
       "0 2015-01-01  94.643\n",
       "1 2015-02-01  94.587\n",
       "2 2015-03-01  94.596\n",
       "3 2015-04-01  94.625\n",
       "4 2015-05-01  94.890"
      ]
     },
     "execution_count": 12,
     "metadata": {},
     "output_type": "execute_result"
    }
   ],
   "source": [
    "# melt로 날짜를 행으로 변환\n",
    "df_melted = pd.melt(df, id_vars=[\"시도별\"], var_name=\"날짜\", value_name=\"CPI\")\n",
    "\n",
    "# '시도별' 열이 '전국' 하나뿐이라면, 해당 열 제거\n",
    "df_cleaned = df_melted.drop(columns=[\"시도별\"])\n",
    "\n",
    "# 날짜 형식 정리 (선택 사항)\n",
    "df_cleaned[\"날짜\"] = pd.to_datetime(df_cleaned[\"날짜\"], format=\"%Y.%m\")\n",
    "\n",
    "# 정렬 (옵션)\n",
    "df_cleaned = df_cleaned.sort_values(\"날짜\").reset_index(drop=True)\n",
    "\n",
    "df_cleaned.head()\n"
   ]
  },
  {
   "cell_type": "code",
   "execution_count": 15,
   "id": "7ee22f8e",
   "metadata": {},
   "outputs": [],
   "source": [
    "df_cleaned.to_csv('소비자물가지수.csv')"
   ]
  },
  {
   "cell_type": "code",
   "execution_count": null,
   "id": "d7583094",
   "metadata": {},
   "outputs": [],
   "source": []
  }
 ],
 "metadata": {
  "kernelspec": {
   "display_name": "base",
   "language": "python",
   "name": "python3"
  },
  "language_info": {
   "codemirror_mode": {
    "name": "ipython",
    "version": 3
   },
   "file_extension": ".py",
   "mimetype": "text/x-python",
   "name": "python",
   "nbconvert_exporter": "python",
   "pygments_lexer": "ipython3",
   "version": "3.12.7"
  }
 },
 "nbformat": 4,
 "nbformat_minor": 5
}

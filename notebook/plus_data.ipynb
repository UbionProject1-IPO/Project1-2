{
 "cells": [
  {
   "cell_type": "markdown",
   "id": "3b05c00d",
   "metadata": {},
   "source": [
    "## 기업 데이터에 추가 데이터 붙이기"
   ]
  },
  {
   "cell_type": "code",
   "execution_count": 1,
   "id": "aab8680c",
   "metadata": {},
   "outputs": [],
   "source": [
    "import pandas as pd\n",
    "\n",
    "giup = pd.read_csv('../data/giup_data.csv')"
   ]
  },
  {
   "cell_type": "code",
   "execution_count": 2,
   "id": "d4dff4f8",
   "metadata": {},
   "outputs": [],
   "source": [
    "giup = giup.iloc[:,1:]"
   ]
  },
  {
   "cell_type": "code",
   "execution_count": 3,
   "id": "4230ad32",
   "metadata": {},
   "outputs": [
    {
     "name": "stdout",
     "output_type": "stream",
     "text": [
      "<class 'pandas.core.frame.DataFrame'>\n",
      "RangeIndex: 533 entries, 0 to 532\n",
      "Data columns (total 65 columns):\n",
      " #   Column           Non-Null Count  Dtype  \n",
      "---  ------           --------------  -----  \n",
      " 0   회사명              533 non-null    object \n",
      " 1   stock_code       533 non-null    int64  \n",
      " 2   업종               532 non-null    object \n",
      " 3   상장주선인            533 non-null    object \n",
      " 4   공모가 (원)          533 non-null    float64\n",
      " 5   공모금액 (천원)        533 non-null    object \n",
      " 6   최초상장주식수 (주)      533 non-null    object \n",
      " 7   call             533 non-null    float64\n",
      " 8   kospi            533 non-null    object \n",
      " 9   modified_esi     533 non-null    float64\n",
      " 10  6개월 확약           533 non-null    float64\n",
      " 11  3개월 확약           533 non-null    float64\n",
      " 12  1개월 확약           533 non-null    float64\n",
      " 13  15일 확약           533 non-null    float64\n",
      " 14  미확약              533 non-null    float64\n",
      " 15  수요예측_최종값         533 non-null    float64\n",
      " 16  회사명_bs           533 non-null    object \n",
      " 17  corp_code        533 non-null    int64  \n",
      " 18  상장일              533 non-null    object \n",
      " 19  업력               533 non-null    int64  \n",
      " 20  유동자산             533 non-null    int64  \n",
      " 21  유동부채             533 non-null    int64  \n",
      " 22  부채총계             533 non-null    int64  \n",
      " 23  자본금              533 non-null    int64  \n",
      " 24  자본총계             533 non-null    int64  \n",
      " 25  매출액              533 non-null    int64  \n",
      " 26  영업이익             533 non-null    int64  \n",
      " 27  당기순이익            533 non-null    int64  \n",
      " 28  TA               533 non-null    int64  \n",
      " 29  WC               533 non-null    int64  \n",
      " 30  log_TA           533 non-null    float64\n",
      " 31  log_S            533 non-null    float64\n",
      " 32  capital_deficit  533 non-null    int64  \n",
      " 33  wc_neg_dummy     533 non-null    int64  \n",
      " 34  ta_negative      533 non-null    int64  \n",
      " 35  current_ratio    533 non-null    float64\n",
      " 36  wc_sales         523 non-null    float64\n",
      " 37  wc_ta            533 non-null    float64\n",
      " 38  cl_tl            533 non-null    float64\n",
      " 39  de_ratio         519 non-null    float64\n",
      " 40  equity_ratio     519 non-null    float64\n",
      " 41  cs_te            519 non-null    float64\n",
      " 42  debt_asset       533 non-null    float64\n",
      " 43  op_margin        523 non-null    float64\n",
      " 44  net_margin       523 non-null    float64\n",
      " 45  roe              519 non-null    float64\n",
      " 46  roe_sign_dummy   519 non-null    float64\n",
      " 47  roe_nan          533 non-null    int64  \n",
      " 48  roa              533 non-null    float64\n",
      " 49  oi_ta            533 non-null    float64\n",
      " 50  ni_oi_ratio      533 non-null    float64\n",
      " 51  asset_turnover   533 non-null    float64\n",
      " 52  sales_equity     519 non-null    float64\n",
      " 53  z_simplified     533 non-null    float64\n",
      " 54  WICS_large       533 non-null    object \n",
      " 55  우리사주조합           533 non-null    object \n",
      " 56  기관투자자            533 non-null    object \n",
      " 57  일반투자자            533 non-null    object \n",
      " 58  target_1d        533 non-null    int64  \n",
      " 59  target_2d        533 non-null    int64  \n",
      " 60  target_7d        533 non-null    int64  \n",
      " 61  target_15d       533 non-null    int64  \n",
      " 62  target_1m        533 non-null    int64  \n",
      " 63  target_3m        533 non-null    int64  \n",
      " 64  target_6m        533 non-null    int64  \n",
      "dtypes: float64(29), int64(24), object(12)\n",
      "memory usage: 270.8+ KB\n"
     ]
    }
   ],
   "source": [
    "giup.info()"
   ]
  },
  {
   "cell_type": "code",
   "execution_count": null,
   "id": "f6ec2a78",
   "metadata": {},
   "outputs": [],
   "source": [
    "# 변환, 원자료\n",
    "kospi = pd.read_csv('../notion_data/코스피지수.csv')"
   ]
  },
  {
   "cell_type": "code",
   "execution_count": null,
   "id": "ff54bddd",
   "metadata": {},
   "outputs": [],
   "source": [
    "# 변환, 원자료 \n",
    "kosdaq = pd.read_csv('../notion_data/코스닥지수.csv')"
   ]
  },
  {
   "cell_type": "code",
   "execution_count": null,
   "id": "b29ed76b",
   "metadata": {},
   "outputs": [],
   "source": [
    "# 변환, 원자료 \n",
    "money = pd.read_csv('../notion_data/주요국통화.csv')"
   ]
  },
  {
   "cell_type": "code",
   "execution_count": 14,
   "id": "4a5e0388",
   "metadata": {},
   "outputs": [],
   "source": [
    "import pandas as pd\n",
    "import numpy as np\n",
    "\n",
    "\n",
    "def compute_pre_listing_returns_calendar(giup, kospi, kosdaq, money, window_days=20):\n",
    "    \"\"\"\n",
    "    For each company's listing date, collect daily returns of KOSPI, KOSDAQ, and USD/KRW\n",
    "    for all trading days falling within the calendar window [listing_date - window_days, listing_date).\n",
    "\n",
    "    Parameters:\n",
    "    - giup: DataFrame with ['회사명', '상장일']\n",
    "    - kospi, kosdaq, money: DataFrames with ['변환', '원자료']\n",
    "    - window_days: number of calendar days to look back (default=20)\n",
    "\n",
    "    Returns:\n",
    "    - DataFrame in long format:\n",
    "      ['회사명', '상장일', 'index', '변환', 'return']\n",
    "      where 'index' is one of 'kospi', 'kosdaq', 'money'.\n",
    "    \"\"\"\n",
    "    # Prepare company dates\n",
    "    giup = giup.copy()\n",
    "    giup['상장일'] = pd.to_datetime(giup['상장일'])\n",
    "\n",
    "    # Prepare market data: set 변환 index, convert to numeric, and compute returns\n",
    "    def prepare(df):\n",
    "        df = df.copy()\n",
    "        # Ensure correct types\n",
    "        df['변환'] = pd.to_datetime(df['변환'])\n",
    "        df['원자료'] = pd.to_numeric(df['원자료'], errors='coerce')\n",
    "        # Sort, index by date\n",
    "        df = df.sort_values('변환').set_index('변환')\n",
    "        # Compute daily pct change, skip NaNs\n",
    "        df['return'] = df['원자료'].pct_change()\n",
    "        return df['return']\n",
    "\n",
    "    series_map = {\n",
    "        'kospi': prepare(kospi),\n",
    "        'kosdaq': prepare(kosdaq),\n",
    "        'money': prepare(money)\n",
    "    }\n",
    "\n",
    "    records = []\n",
    "    # Iterate each company\n",
    "    for _, row in giup.iterrows():\n",
    "        event_date = row['상장일']\n",
    "        start_date = event_date - pd.Timedelta(days=window_days)\n",
    "\n",
    "        for name, series in series_map.items():\n",
    "            # Select window and drop NaN returns\n",
    "            window = series.loc[start_date:event_date - pd.Timedelta(days=1)].dropna()\n",
    "            for dt, ret in window.iteritems():\n",
    "                records.append({\n",
    "                    '회사명': row['회사명'],\n",
    "                    '상장일': event_date,\n",
    "                    'index': name,\n",
    "                    '변환': dt,\n",
    "                    'return': ret\n",
    "                })\n",
    "\n",
    "    # Return assembled DataFrame\n",
    "    return pd.DataFrame(records)\n",
    "\n",
    "# Example usage:\n",
    "# df_long = compute_pre_listing_returns_calendar(giup, kospi, kosdaq, money, window_days=20)\n",
    "# print(df_long.head())\n"
   ]
  },
  {
   "cell_type": "code",
   "execution_count": 15,
   "id": "03961d5d",
   "metadata": {},
   "outputs": [
    {
     "name": "stderr",
     "output_type": "stream",
     "text": [
      "C:\\Users\\Owner\\AppData\\Local\\Temp\\ipykernel_42160\\241844599.py:33: FutureWarning: The default fill_method='pad' in Series.pct_change is deprecated and will be removed in a future version. Either fill in any non-leading NA values prior to calling pct_change or specify 'fill_method=None' to not fill NA values.\n",
      "  df['return'] = df['원자료'].pct_change()\n",
      "C:\\Users\\Owner\\AppData\\Local\\Temp\\ipykernel_42160\\241844599.py:33: FutureWarning: The default fill_method='pad' in Series.pct_change is deprecated and will be removed in a future version. Either fill in any non-leading NA values prior to calling pct_change or specify 'fill_method=None' to not fill NA values.\n",
      "  df['return'] = df['원자료'].pct_change()\n",
      "C:\\Users\\Owner\\AppData\\Local\\Temp\\ipykernel_42160\\241844599.py:33: FutureWarning: The default fill_method='pad' in Series.pct_change is deprecated and will be removed in a future version. Either fill in any non-leading NA values prior to calling pct_change or specify 'fill_method=None' to not fill NA values.\n",
      "  df['return'] = df['원자료'].pct_change()\n"
     ]
    },
    {
     "ename": "AttributeError",
     "evalue": "'Series' object has no attribute 'iteritems'",
     "output_type": "error",
     "traceback": [
      "\u001b[31m---------------------------------------------------------------------------\u001b[39m",
      "\u001b[31mAttributeError\u001b[39m                            Traceback (most recent call last)",
      "\u001b[36mCell\u001b[39m\u001b[36m \u001b[39m\u001b[32mIn[15]\u001b[39m\u001b[32m, line 1\u001b[39m\n\u001b[32m----> \u001b[39m\u001b[32m1\u001b[39m \u001b[43mcompute_pre_listing_returns_calendar\u001b[49m\u001b[43m(\u001b[49m\u001b[43mgiup\u001b[49m\u001b[43m,\u001b[49m\u001b[43m \u001b[49m\u001b[43mkospi\u001b[49m\u001b[43m,\u001b[49m\u001b[43m \u001b[49m\u001b[43mkosdaq\u001b[49m\u001b[43m,\u001b[49m\u001b[43m \u001b[49m\u001b[43mmoney\u001b[49m\u001b[43m,\u001b[49m\u001b[43m \u001b[49m\u001b[43mwindow_days\u001b[49m\u001b[43m=\u001b[49m\u001b[32;43m20\u001b[39;49m\u001b[43m)\u001b[49m\n",
      "\u001b[36mCell\u001b[39m\u001b[36m \u001b[39m\u001b[32mIn[14]\u001b[39m\u001b[32m, line 51\u001b[39m, in \u001b[36mcompute_pre_listing_returns_calendar\u001b[39m\u001b[34m(giup, kospi, kosdaq, money, window_days)\u001b[39m\n\u001b[32m     48\u001b[39m     \u001b[38;5;28;01mfor\u001b[39;00m name, series \u001b[38;5;129;01min\u001b[39;00m series_map.items():\n\u001b[32m     49\u001b[39m         \u001b[38;5;66;03m# Select window and drop NaN returns\u001b[39;00m\n\u001b[32m     50\u001b[39m         window = series.loc[start_date:event_date - pd.Timedelta(days=\u001b[32m1\u001b[39m)].dropna()\n\u001b[32m---> \u001b[39m\u001b[32m51\u001b[39m         \u001b[38;5;28;01mfor\u001b[39;00m dt, ret \u001b[38;5;129;01min\u001b[39;00m \u001b[43mwindow\u001b[49m\u001b[43m.\u001b[49m\u001b[43miteritems\u001b[49m():\n\u001b[32m     52\u001b[39m             records.append({\n\u001b[32m     53\u001b[39m                 \u001b[33m'\u001b[39m\u001b[33m회사명\u001b[39m\u001b[33m'\u001b[39m: row[\u001b[33m'\u001b[39m\u001b[33m회사명\u001b[39m\u001b[33m'\u001b[39m],\n\u001b[32m     54\u001b[39m                 \u001b[33m'\u001b[39m\u001b[33m상장일\u001b[39m\u001b[33m'\u001b[39m: event_date,\n\u001b[32m   (...)\u001b[39m\u001b[32m     57\u001b[39m                 \u001b[33m'\u001b[39m\u001b[33mreturn\u001b[39m\u001b[33m'\u001b[39m: ret\n\u001b[32m     58\u001b[39m             })\n\u001b[32m     60\u001b[39m \u001b[38;5;66;03m# Return assembled DataFrame\u001b[39;00m\n",
      "\u001b[36mFile \u001b[39m\u001b[32mc:\\Users\\Owner\\AppData\\Local\\Programs\\Python\\Python311\\Lib\\site-packages\\pandas\\core\\generic.py:6299\u001b[39m, in \u001b[36mNDFrame.__getattr__\u001b[39m\u001b[34m(self, name)\u001b[39m\n\u001b[32m   6292\u001b[39m \u001b[38;5;28;01mif\u001b[39;00m (\n\u001b[32m   6293\u001b[39m     name \u001b[38;5;129;01mnot\u001b[39;00m \u001b[38;5;129;01min\u001b[39;00m \u001b[38;5;28mself\u001b[39m._internal_names_set\n\u001b[32m   6294\u001b[39m     \u001b[38;5;129;01mand\u001b[39;00m name \u001b[38;5;129;01mnot\u001b[39;00m \u001b[38;5;129;01min\u001b[39;00m \u001b[38;5;28mself\u001b[39m._metadata\n\u001b[32m   6295\u001b[39m     \u001b[38;5;129;01mand\u001b[39;00m name \u001b[38;5;129;01mnot\u001b[39;00m \u001b[38;5;129;01min\u001b[39;00m \u001b[38;5;28mself\u001b[39m._accessors\n\u001b[32m   6296\u001b[39m     \u001b[38;5;129;01mand\u001b[39;00m \u001b[38;5;28mself\u001b[39m._info_axis._can_hold_identifiers_and_holds_name(name)\n\u001b[32m   6297\u001b[39m ):\n\u001b[32m   6298\u001b[39m     \u001b[38;5;28;01mreturn\u001b[39;00m \u001b[38;5;28mself\u001b[39m[name]\n\u001b[32m-> \u001b[39m\u001b[32m6299\u001b[39m \u001b[38;5;28;01mreturn\u001b[39;00m \u001b[38;5;28;43mobject\u001b[39;49m\u001b[43m.\u001b[49m\u001b[34;43m__getattribute__\u001b[39;49m\u001b[43m(\u001b[49m\u001b[38;5;28;43mself\u001b[39;49m\u001b[43m,\u001b[49m\u001b[43m \u001b[49m\u001b[43mname\u001b[49m\u001b[43m)\u001b[49m\n",
      "\u001b[31mAttributeError\u001b[39m: 'Series' object has no attribute 'iteritems'"
     ]
    }
   ],
   "source": [
    "compute_pre_listing_returns_calendar(giup, kospi, kosdaq, money, window_days=20)"
   ]
  },
  {
   "cell_type": "code",
   "execution_count": null,
   "id": "c44407f3",
   "metadata": {},
   "outputs": [],
   "source": []
  },
  {
   "cell_type": "code",
   "execution_count": null,
   "id": "474fe663",
   "metadata": {},
   "outputs": [],
   "source": [
    "# \n",
    "na_return = pd.read_csv('../notion_data/Nasdaq.csv')"
   ]
  },
  {
   "cell_type": "code",
   "execution_count": 49,
   "id": "4f3ff442",
   "metadata": {},
   "outputs": [],
   "source": [
    "giup.rename(columns={'Daily Return (%)' : '나스닥_수익률'},inplace=True)"
   ]
  },
  {
   "cell_type": "code",
   "execution_count": 52,
   "id": "a2c39db0",
   "metadata": {},
   "outputs": [],
   "source": [
    "giup.rename(columns={'원자료' : '코스피_지수'},inplace=True)"
   ]
  },
  {
   "cell_type": "code",
   "execution_count": 58,
   "id": "6be66e74",
   "metadata": {},
   "outputs": [],
   "source": [
    "giup.rename(columns={'원자료' : '코스닥_지수'},inplace=True)"
   ]
  }
 ],
 "metadata": {
  "kernelspec": {
   "display_name": "Python 3",
   "language": "python",
   "name": "python3"
  },
  "language_info": {
   "codemirror_mode": {
    "name": "ipython",
    "version": 3
   },
   "file_extension": ".py",
   "mimetype": "text/x-python",
   "name": "python",
   "nbconvert_exporter": "python",
   "pygments_lexer": "ipython3",
   "version": "3.11.9"
  }
 },
 "nbformat": 4,
 "nbformat_minor": 5
}

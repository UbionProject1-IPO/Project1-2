{
 "cells": [
  {
   "cell_type": "markdown",
   "id": "3b05c00d",
   "metadata": {},
   "source": [
    "## 기업 데이터에 추가 데이터 붙이기"
   ]
  },
  {
   "cell_type": "code",
   "execution_count": 1,
   "id": "aab8680c",
   "metadata": {},
   "outputs": [],
   "source": [
    "import pandas as pd\n",
    "\n",
    "gi = pd.read_csv('../data/gi.csv')"
   ]
  },
  {
   "cell_type": "code",
   "execution_count": 2,
   "id": "d4dff4f8",
   "metadata": {},
   "outputs": [],
   "source": [
    "gi = gi.iloc[:,1:]"
   ]
  },
  {
   "cell_type": "code",
   "execution_count": 3,
   "id": "8b8e88af",
   "metadata": {},
   "outputs": [
    {
     "name": "stdout",
     "output_type": "stream",
     "text": [
      "<class 'pandas.core.frame.DataFrame'>\n",
      "RangeIndex: 533 entries, 0 to 532\n",
      "Data columns (total 3 columns):\n",
      " #   Column      Non-Null Count  Dtype \n",
      "---  ------      --------------  ----- \n",
      " 0   회사명         533 non-null    object\n",
      " 1   stock_code  533 non-null    int64 \n",
      " 2   상장일         533 non-null    object\n",
      "dtypes: int64(1), object(2)\n",
      "memory usage: 12.6+ KB\n"
     ]
    }
   ],
   "source": [
    "gi.info()"
   ]
  },
  {
   "cell_type": "code",
   "execution_count": 4,
   "id": "52c67c89",
   "metadata": {},
   "outputs": [
    {
     "data": {
      "text/html": [
       "<div>\n",
       "<style scoped>\n",
       "    .dataframe tbody tr th:only-of-type {\n",
       "        vertical-align: middle;\n",
       "    }\n",
       "\n",
       "    .dataframe tbody tr th {\n",
       "        vertical-align: top;\n",
       "    }\n",
       "\n",
       "    .dataframe thead th {\n",
       "        text-align: right;\n",
       "    }\n",
       "</style>\n",
       "<table border=\"1\" class=\"dataframe\">\n",
       "  <thead>\n",
       "    <tr style=\"text-align: right;\">\n",
       "      <th></th>\n",
       "      <th>회사명</th>\n",
       "      <th>stock_code</th>\n",
       "      <th>상장일</th>\n",
       "    </tr>\n",
       "  </thead>\n",
       "  <tbody>\n",
       "    <tr>\n",
       "      <th>0</th>\n",
       "      <td>바이오노트</td>\n",
       "      <td>377740</td>\n",
       "      <td>2022-12-22</td>\n",
       "    </tr>\n",
       "    <tr>\n",
       "      <th>1</th>\n",
       "      <td>쏘카</td>\n",
       "      <td>403550</td>\n",
       "      <td>2022-08-22</td>\n",
       "    </tr>\n",
       "    <tr>\n",
       "      <th>2</th>\n",
       "      <td>수산인더스트리</td>\n",
       "      <td>126720</td>\n",
       "      <td>2022-08-01</td>\n",
       "    </tr>\n",
       "    <tr>\n",
       "      <th>3</th>\n",
       "      <td>LG에너지솔루션</td>\n",
       "      <td>373220</td>\n",
       "      <td>2022-01-27</td>\n",
       "    </tr>\n",
       "    <tr>\n",
       "      <th>4</th>\n",
       "      <td>카카오페이</td>\n",
       "      <td>377300</td>\n",
       "      <td>2021-11-03</td>\n",
       "    </tr>\n",
       "    <tr>\n",
       "      <th>...</th>\n",
       "      <td>...</td>\n",
       "      <td>...</td>\n",
       "      <td>...</td>\n",
       "    </tr>\n",
       "    <tr>\n",
       "      <th>528</th>\n",
       "      <td>싸이맥스</td>\n",
       "      <td>160980</td>\n",
       "      <td>2015-06-17</td>\n",
       "    </tr>\n",
       "    <tr>\n",
       "      <th>529</th>\n",
       "      <td>픽셀플러스</td>\n",
       "      <td>87600</td>\n",
       "      <td>2015-06-12</td>\n",
       "    </tr>\n",
       "    <tr>\n",
       "      <th>530</th>\n",
       "      <td>제노포커스</td>\n",
       "      <td>187420</td>\n",
       "      <td>2015-05-29</td>\n",
       "    </tr>\n",
       "    <tr>\n",
       "      <th>531</th>\n",
       "      <td>유지인트</td>\n",
       "      <td>195990</td>\n",
       "      <td>2015-04-13</td>\n",
       "    </tr>\n",
       "    <tr>\n",
       "      <th>532</th>\n",
       "      <td>포시에스</td>\n",
       "      <td>189690</td>\n",
       "      <td>2015-02-11</td>\n",
       "    </tr>\n",
       "  </tbody>\n",
       "</table>\n",
       "<p>533 rows × 3 columns</p>\n",
       "</div>"
      ],
      "text/plain": [
       "          회사명  stock_code         상장일\n",
       "0       바이오노트      377740  2022-12-22\n",
       "1          쏘카      403550  2022-08-22\n",
       "2     수산인더스트리      126720  2022-08-01\n",
       "3    LG에너지솔루션      373220  2022-01-27\n",
       "4       카카오페이      377300  2021-11-03\n",
       "..        ...         ...         ...\n",
       "528      싸이맥스      160980  2015-06-17\n",
       "529     픽셀플러스       87600  2015-06-12\n",
       "530     제노포커스      187420  2015-05-29\n",
       "531      유지인트      195990  2015-04-13\n",
       "532      포시에스      189690  2015-02-11\n",
       "\n",
       "[533 rows x 3 columns]"
      ]
     },
     "execution_count": 4,
     "metadata": {},
     "output_type": "execute_result"
    }
   ],
   "source": [
    "gi"
   ]
  },
  {
   "cell_type": "code",
   "execution_count": 5,
   "id": "0a2434e2",
   "metadata": {},
   "outputs": [
    {
     "name": "stdout",
     "output_type": "stream",
     "text": [
      "   Unnamed: 0     회사명  stock_code        상장일  kospi200(-20)\n",
      "0         532    포시에스      189690 2015-02-11      -0.053391\n",
      "1          68  세화아이엠씨      145210 2015-03-19       0.049828\n",
      "2          67   엔에스쇼핑      138250 2015-03-27       0.058506\n",
      "3         531    유지인트      195990 2015-04-13      -0.016436\n",
      "4         530   제노포커스      187420 2015-05-29       0.028846\n"
     ]
    }
   ],
   "source": [
    "# 1) KOSPI200 데이터 읽기 & 수익률 계산\n",
    "ko200 = pd.read_csv('../notion_data/KOSPI200.csv', parse_dates=['날짜'])\n",
    "ko200 = ko200.sort_values('날짜').reset_index(drop=True)\n",
    "ko200['kospi200(-20)'] = ko200['종가'].shift(1) / ko200['종가'].shift(20) - 1\n",
    "\n",
    "# 2) gi 데이터 읽기\n",
    "gi = pd.read_csv('../data/gi.csv', parse_dates=['상장일'])\n",
    "gi = gi.sort_values('상장일').reset_index(drop=True)\n",
    "\n",
    "# 3) asof merge 로 상장일 기준 최근 거래일의 kospi200(-20) 가져오기\n",
    "merged = pd.merge_asof(\n",
    "    gi,\n",
    "    ko200[['날짜', 'kospi200(-20)']].sort_values('날짜'),\n",
    "    left_on='상장일',\n",
    "    right_on='날짜',\n",
    "    direction='backward'   # 상장일 당일 또는 그 이전의 가장 가까운 거래일\n",
    ").drop(columns=['날짜'])\n",
    "\n",
    "# 4) 결과 확인\n",
    "print(merged.head())\n"
   ]
  },
  {
   "cell_type": "code",
   "execution_count": 6,
   "id": "bd7ad78c",
   "metadata": {},
   "outputs": [
    {
     "name": "stdout",
     "output_type": "stream",
     "text": [
      "   Unnamed: 0     회사명  stock_code        상장일  kospi200(-20)  nasdaq(-20)\n",
      "0         532    포시에스      189690 2015-02-11      -0.053391     0.027060\n",
      "1          68  세화아이엠씨      145210 2015-03-19       0.049828     0.011804\n",
      "2          67   엔에스쇼핑      138250 2015-03-27       0.058506    -0.020181\n",
      "3         531    유지인트      195990 2015-04-13      -0.016436     0.025498\n",
      "4         530   제노포커스      187420 2015-05-29       0.028846     0.031683\n"
     ]
    }
   ],
   "source": [
    "nasdaq = pd.read_csv('../notion_data/Nasdaq.csv', parse_dates=['Price'])\n",
    "nasdaq = nasdaq.sort_values('Price').reset_index(drop=True)\n",
    "nasdaq['nasdaq(-20)'] = nasdaq['Close'].shift(1) / nasdaq['Close'].shift(20) - 1\n",
    "\n",
    "merged = pd.merge_asof(\n",
    "    merged,\n",
    "    nasdaq[['Price', 'nasdaq(-20)']].sort_values('Price'),\n",
    "    left_on='상장일',\n",
    "    right_on='Price',\n",
    "    direction='backward'   # 상장일 당일 또는 그 이전의 가장 가까운 거래일\n",
    ").drop(columns=['Price'])\n",
    "\n",
    "# 4) 결과 확인\n",
    "print(merged.head())\n",
    "\n"
   ]
  },
  {
   "cell_type": "code",
   "execution_count": 7,
   "id": "102eee14",
   "metadata": {},
   "outputs": [
    {
     "name": "stdout",
     "output_type": "stream",
     "text": [
      "   Unnamed: 0     회사명  stock_code        상장일  kospi200(-20)  nasdaq(-20)  \\\n",
      "0         532    포시에스      189690 2015-02-11      -0.053391     0.027060   \n",
      "1          68  세화아이엠씨      145210 2015-03-19       0.049828     0.011804   \n",
      "2          67   엔에스쇼핑      138250 2015-03-27       0.058506    -0.020181   \n",
      "3         531    유지인트      195990 2015-04-13      -0.016436     0.025498   \n",
      "4         530   제노포커스      187420 2015-05-29       0.028846     0.031683   \n",
      "\n",
      "   putcall(-20)  \n",
      "0      0.056075  \n",
      "1     -0.338983  \n",
      "2     -0.042553  \n",
      "3     -0.070707  \n",
      "4      0.324324  \n"
     ]
    }
   ],
   "source": [
    "\n",
    "putcall = pd.read_csv('../notion_data/PutCall_ratio.csv',encoding='cp949',parse_dates=['일자'])\n",
    "putcall = putcall.sort_values('일자').reset_index(drop=True)\n",
    "putcall['putcall(-20)'] = putcall['P/C Ratio'].shift(1) / putcall['P/C Ratio'].shift(20) - 1\n",
    "\n",
    "merged = pd.merge_asof(\n",
    "    merged,\n",
    "    putcall[['일자', 'putcall(-20)']].sort_values('일자'),\n",
    "    left_on='상장일',\n",
    "    right_on='일자',\n",
    "    direction='backward'   # 상장일 당일 또는 그 이전의 가장 가까운 거래일\n",
    ").drop(columns=['일자'])\n",
    "\n",
    "# 4) 결과 확인\n",
    "print(merged.head())\n",
    "\n"
   ]
  },
  {
   "cell_type": "code",
   "execution_count": 8,
   "id": "6d91df3c",
   "metadata": {},
   "outputs": [],
   "source": [
    "vixcls = pd.read_csv('../notion_data/VIXCLS(미국).csv')\n",
    "vixcls = vixcls.sort_values('observation_date').reset_index(drop=True)"
   ]
  },
  {
   "cell_type": "code",
   "execution_count": 9,
   "id": "cd1c48bb",
   "metadata": {},
   "outputs": [
    {
     "name": "stdout",
     "output_type": "stream",
     "text": [
      "   Unnamed: 0     회사명  stock_code        상장일  kospi200(-20)  nasdaq(-20)  \\\n",
      "0         532    포시에스      189690 2015-02-11      -0.053391     0.027060   \n",
      "1          68  세화아이엠씨      145210 2015-03-19       0.049828     0.011804   \n",
      "2          67   엔에스쇼핑      138250 2015-03-27       0.058506    -0.020181   \n",
      "3         531    유지인트      195990 2015-04-13      -0.016436     0.025498   \n",
      "4         530   제노포커스      187420 2015-05-29       0.028846     0.031683   \n",
      "\n",
      "   putcall(-20)  VIXCLS  \n",
      "0      0.056075   16.96  \n",
      "1     -0.338983   14.07  \n",
      "2     -0.042553   15.07  \n",
      "3     -0.070707   13.94  \n",
      "4      0.324324   13.84  \n"
     ]
    }
   ],
   "source": [
    "# 1) Convert both columns to datetime\n",
    "merged['상장일'] = pd.to_datetime(merged['상장일'])\n",
    "vixcls['observation_date'] = pd.to_datetime(vixcls['observation_date'])\n",
    "\n",
    "# 2) Sort both DataFrames by their date keys\n",
    "merged = merged.sort_values('상장일').reset_index(drop=True)\n",
    "vixcls = vixcls.sort_values('observation_date').reset_index(drop=True)\n",
    "\n",
    "# 3) Perform the merge_asof\n",
    "merged = pd.merge_asof(\n",
    "    merged,\n",
    "    vixcls[['observation_date', 'VIXCLS']],\n",
    "    left_on='상장일',\n",
    "    right_on='observation_date',\n",
    "    direction='backward'\n",
    ").drop(columns=['observation_date'])\n",
    "\n",
    "print(merged.head())\n"
   ]
  },
  {
   "cell_type": "code",
   "execution_count": null,
   "id": "5b3bc608",
   "metadata": {},
   "outputs": [],
   "source": []
  },
  {
   "cell_type": "code",
   "execution_count": null,
   "id": "483dd511",
   "metadata": {},
   "outputs": [],
   "source": []
  },
  {
   "cell_type": "code",
   "execution_count": null,
   "id": "589c96d7",
   "metadata": {},
   "outputs": [],
   "source": []
  },
  {
   "cell_type": "code",
   "execution_count": null,
   "id": "ff8faf51",
   "metadata": {},
   "outputs": [],
   "source": []
  },
  {
   "cell_type": "code",
   "execution_count": null,
   "id": "2961b5c5",
   "metadata": {},
   "outputs": [],
   "source": []
  }
 ],
 "metadata": {
  "kernelspec": {
   "display_name": "Python 3",
   "language": "python",
   "name": "python3"
  },
  "language_info": {
   "codemirror_mode": {
    "name": "ipython",
    "version": 3
   },
   "file_extension": ".py",
   "mimetype": "text/x-python",
   "name": "python",
   "nbconvert_exporter": "python",
   "pygments_lexer": "ipython3",
   "version": "3.11.9"
  }
 },
 "nbformat": 4,
 "nbformat_minor": 5
}

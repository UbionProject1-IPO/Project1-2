{
 "cells": [
  {
   "cell_type": "code",
   "execution_count": 4,
   "id": "2391ee48",
   "metadata": {},
   "outputs": [],
   "source": [
    "import pandas as pd\n",
    "\n",
    "# cp949 또는 euc-kr 인코딩 시도\n",
    "df = pd.read_csv('../data/주가수익률_표준편차.csv', encoding='cp949')\n",
    "df.drop(\"Unnamed: 0\", axis=1, inplace=True)\n",
    "# 만약 cp949에서 에러가 발생하면 utf-8로 시도해보세요\n",
    "# df = pd.read_csv('data/주가수익률_표준편차.csv', encoding='utf-8')\n",
    "df.to_csv(\"주가수익률test.csv\", encoding='utf-8', index=False)"
   ]
  },
  {
   "cell_type": "code",
   "execution_count": 10,
   "id": "598e4f3e",
   "metadata": {},
   "outputs": [],
   "source": [
    "df[df['기간구간'] != '기타'].to_csv(\"주가수익률test.csv\", encoding='utf-8', index=False)"
   ]
  }
 ],
 "metadata": {
  "kernelspec": {
   "display_name": ".venv",
   "language": "python",
   "name": "python3"
  },
  "language_info": {
   "codemirror_mode": {
    "name": "ipython",
    "version": 3
   },
   "file_extension": ".py",
   "mimetype": "text/x-python",
   "name": "python",
   "nbconvert_exporter": "python",
   "pygments_lexer": "ipython3",
   "version": "3.13.3"
  }
 },
 "nbformat": 4,
 "nbformat_minor": 5
}

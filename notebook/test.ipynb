{
 "cells": [
  {
   "cell_type": "markdown",
   "id": "898050b5",
   "metadata": {},
   "source": [
    "## 수익률 표준편차"
   ]
  },
  {
   "cell_type": "code",
   "execution_count": 28,
   "id": "2391ee48",
   "metadata": {},
   "outputs": [],
   "source": [
    "import pandas as pd\n",
    "\n",
    "# cp949 또는 euc-kr 인코딩 시도\n",
    "df = pd.read_csv('../data/주가수익률_표준편차.csv', encoding='cp949')\n",
    "df.drop(\"Unnamed: 0\", axis=1, inplace=True)\n",
    "# 만약 cp949에서 에러가 발생하면 utf-8로 시도해보세요\n",
    "# df = pd.read_csv('data/주가수익률_표준편차.csv', encoding='utf-8')\n",
    "df.to_csv(\"주가수익률test.csv\", encoding='utf-8', index=False)"
   ]
  },
  {
   "cell_type": "code",
   "execution_count": 30,
   "id": "90fb378b",
   "metadata": {},
   "outputs": [
    {
     "data": {
      "text/html": [
       "<div>\n",
       "<style scoped>\n",
       "    .dataframe tbody tr th:only-of-type {\n",
       "        vertical-align: middle;\n",
       "    }\n",
       "\n",
       "    .dataframe tbody tr th {\n",
       "        vertical-align: top;\n",
       "    }\n",
       "\n",
       "    .dataframe thead th {\n",
       "        text-align: right;\n",
       "    }\n",
       "</style>\n",
       "<table border=\"1\" class=\"dataframe\">\n",
       "  <thead>\n",
       "    <tr style=\"text-align: right;\">\n",
       "      <th></th>\n",
       "      <th>회사명</th>\n",
       "      <th>공모가 (원)</th>\n",
       "      <th>회계년도</th>\n",
       "      <th>종가(원)</th>\n",
       "      <th>수익률</th>\n",
       "      <th>일자순번</th>\n",
       "      <th>기간구간</th>\n",
       "      <th>수익률_표준편차</th>\n",
       "    </tr>\n",
       "  </thead>\n",
       "  <tbody>\n",
       "    <tr>\n",
       "      <th>0</th>\n",
       "      <td>AJ네트웍스</td>\n",
       "      <td>34300</td>\n",
       "      <td>2015-08-21</td>\n",
       "      <td>35500</td>\n",
       "      <td>0.0350</td>\n",
       "      <td>1</td>\n",
       "      <td>1~5일</td>\n",
       "      <td>0.089380</td>\n",
       "    </tr>\n",
       "    <tr>\n",
       "      <th>1</th>\n",
       "      <td>AJ네트웍스</td>\n",
       "      <td>34300</td>\n",
       "      <td>2015-08-24</td>\n",
       "      <td>32400</td>\n",
       "      <td>-0.0873</td>\n",
       "      <td>2</td>\n",
       "      <td>1~5일</td>\n",
       "      <td>0.089380</td>\n",
       "    </tr>\n",
       "    <tr>\n",
       "      <th>2</th>\n",
       "      <td>AJ네트웍스</td>\n",
       "      <td>34300</td>\n",
       "      <td>2015-08-25</td>\n",
       "      <td>31100</td>\n",
       "      <td>-0.0401</td>\n",
       "      <td>3</td>\n",
       "      <td>1~5일</td>\n",
       "      <td>0.089380</td>\n",
       "    </tr>\n",
       "    <tr>\n",
       "      <th>3</th>\n",
       "      <td>AJ네트웍스</td>\n",
       "      <td>34300</td>\n",
       "      <td>2015-08-26</td>\n",
       "      <td>35450</td>\n",
       "      <td>0.1399</td>\n",
       "      <td>4</td>\n",
       "      <td>1~5일</td>\n",
       "      <td>0.089380</td>\n",
       "    </tr>\n",
       "    <tr>\n",
       "      <th>4</th>\n",
       "      <td>AJ네트웍스</td>\n",
       "      <td>34300</td>\n",
       "      <td>2015-08-27</td>\n",
       "      <td>37850</td>\n",
       "      <td>0.0677</td>\n",
       "      <td>5</td>\n",
       "      <td>1~5일</td>\n",
       "      <td>0.089380</td>\n",
       "    </tr>\n",
       "    <tr>\n",
       "      <th>...</th>\n",
       "      <td>...</td>\n",
       "      <td>...</td>\n",
       "      <td>...</td>\n",
       "      <td>...</td>\n",
       "      <td>...</td>\n",
       "      <td>...</td>\n",
       "      <td>...</td>\n",
       "      <td>...</td>\n",
       "    </tr>\n",
       "    <tr>\n",
       "      <th>741814</th>\n",
       "      <td>힘스</td>\n",
       "      <td>20000</td>\n",
       "      <td>2017-08-10</td>\n",
       "      <td>27100</td>\n",
       "      <td>-0.0356</td>\n",
       "      <td>16</td>\n",
       "      <td>16~20일</td>\n",
       "      <td>0.020914</td>\n",
       "    </tr>\n",
       "    <tr>\n",
       "      <th>741815</th>\n",
       "      <td>힘스</td>\n",
       "      <td>20000</td>\n",
       "      <td>2017-08-11</td>\n",
       "      <td>26800</td>\n",
       "      <td>-0.0111</td>\n",
       "      <td>17</td>\n",
       "      <td>16~20일</td>\n",
       "      <td>0.020914</td>\n",
       "    </tr>\n",
       "    <tr>\n",
       "      <th>741816</th>\n",
       "      <td>힘스</td>\n",
       "      <td>20000</td>\n",
       "      <td>2017-08-14</td>\n",
       "      <td>26800</td>\n",
       "      <td>0.0000</td>\n",
       "      <td>18</td>\n",
       "      <td>16~20일</td>\n",
       "      <td>0.020914</td>\n",
       "    </tr>\n",
       "    <tr>\n",
       "      <th>741817</th>\n",
       "      <td>힘스</td>\n",
       "      <td>20000</td>\n",
       "      <td>2017-08-16</td>\n",
       "      <td>27400</td>\n",
       "      <td>0.0224</td>\n",
       "      <td>19</td>\n",
       "      <td>16~20일</td>\n",
       "      <td>0.020914</td>\n",
       "    </tr>\n",
       "    <tr>\n",
       "      <th>741818</th>\n",
       "      <td>힘스</td>\n",
       "      <td>20000</td>\n",
       "      <td>2017-08-17</td>\n",
       "      <td>27300</td>\n",
       "      <td>-0.0036</td>\n",
       "      <td>20</td>\n",
       "      <td>16~20일</td>\n",
       "      <td>0.020914</td>\n",
       "    </tr>\n",
       "  </tbody>\n",
       "</table>\n",
       "<p>13062 rows × 8 columns</p>\n",
       "</div>"
      ],
      "text/plain": [
       "           회사명  공모가 (원)        회계년도  종가(원)     수익률  일자순번    기간구간  수익률_표준편차\n",
       "0       AJ네트웍스    34300  2015-08-21  35500  0.0350     1    1~5일  0.089380\n",
       "1       AJ네트웍스    34300  2015-08-24  32400 -0.0873     2    1~5일  0.089380\n",
       "2       AJ네트웍스    34300  2015-08-25  31100 -0.0401     3    1~5일  0.089380\n",
       "3       AJ네트웍스    34300  2015-08-26  35450  0.1399     4    1~5일  0.089380\n",
       "4       AJ네트웍스    34300  2015-08-27  37850  0.0677     5    1~5일  0.089380\n",
       "...        ...      ...         ...    ...     ...   ...     ...       ...\n",
       "741814      힘스    20000  2017-08-10  27100 -0.0356    16  16~20일  0.020914\n",
       "741815      힘스    20000  2017-08-11  26800 -0.0111    17  16~20일  0.020914\n",
       "741816      힘스    20000  2017-08-14  26800  0.0000    18  16~20일  0.020914\n",
       "741817      힘스    20000  2017-08-16  27400  0.0224    19  16~20일  0.020914\n",
       "741818      힘스    20000  2017-08-17  27300 -0.0036    20  16~20일  0.020914\n",
       "\n",
       "[13062 rows x 8 columns]"
      ]
     },
     "execution_count": 30,
     "metadata": {},
     "output_type": "execute_result"
    }
   ],
   "source": [
    "df = df[df['기간구간'] != '기타']\n",
    "df"
   ]
  },
  {
   "cell_type": "code",
   "execution_count": 33,
   "id": "598e4f3e",
   "metadata": {},
   "outputs": [],
   "source": [
    "df[df['기간구간'] != '기타'].to_csv(\"주가수익률test.csv\", encoding='utf-8', index=False)"
   ]
  },
  {
   "cell_type": "code",
   "execution_count": 15,
   "id": "ce5c986d",
   "metadata": {},
   "outputs": [
    {
     "name": "stdout",
     "output_type": "stream",
     "text": [
      "CSV 파일 저장 위치:\n",
      " - 변환본 : 주가수익률test_WIDE.csv\n"
     ]
    }
   ],
   "source": [
    "rename_map = {\n",
    "    \"1~5일\": \"1~5일 수익률 표준편차\",\n",
    "    \"6~10일\": \"6~10일 수익률 표준편차\",\n",
    "    \"11~15일\": \"11~15일 수익률 표준편차\",\n",
    "    \"16~20일\": \"16~20일 수익률 표준편차\",\n",
    "}\n",
    "\n",
    "pivot = (\n",
    "    df.pivot_table(index=\"회사명\",\n",
    "                   columns=\"기간구간\",\n",
    "                   values=\"수익률_표준편차\",\n",
    "                   aggfunc=\"mean\")          # 중복 → 평균\n",
    "      .rename(columns=rename_map)\n",
    ")\n",
    "\n",
    "ordered_cols = list(rename_map.values())\n",
    "wide_df = pivot[ordered_cols].reset_index()\n",
    "\n",
    "# 저장\n",
    "wide_csv_path = \"주가수익률test_WIDE.csv\"\n",
    "wide_df.to_csv(wide_csv_path, index=False, encoding=\"utf-8-sig\")\n",
    "\n",
    "print(\"CSV 파일 저장 위치:\")\n",
    "print(\" - 변환본 :\", wide_csv_path)"
   ]
  },
  {
   "cell_type": "code",
   "execution_count": 19,
   "id": "82eec276",
   "metadata": {},
   "outputs": [
    {
     "data": {
      "text/plain": [
       "회사명                0\n",
       "1~5일 수익률 표준편차      0\n",
       "6~10일 수익률 표준편차     2\n",
       "11~15일 수익률 표준편차    6\n",
       "16~20일 수익률 표준편차    6\n",
       "stock_code         0\n",
       "dtype: int64"
      ]
     },
     "execution_count": 19,
     "metadata": {},
     "output_type": "execute_result"
    }
   ],
   "source": [
    "df = pd.read_csv(\"../data/주가수익률_final.csv\", index_col=0)\n",
    "df.isna().sum()"
   ]
  },
  {
   "cell_type": "markdown",
   "id": "51760827",
   "metadata": {},
   "source": [
    "## 노션데이터 수정"
   ]
  },
  {
   "cell_type": "code",
   "execution_count": null,
   "id": "6d22b11a",
   "metadata": {},
   "outputs": [
    {
     "name": "stdout",
     "output_type": "stream",
     "text": [
      "        회사명  stock_code         상장일\n",
      "0     바이오노트      377740  2022-12-22\n",
      "1        쏘카      403550  2022-08-22\n",
      "2   수산인더스트리      126720  2022-08-01\n",
      "3  LG에너지솔루션      373220  2022-01-27\n",
      "4     카카오페이      377300  2021-11-03\n"
     ]
    }
   ],
   "source": [
    "gi = pd.read_csv(\"gi.csv\")\n",
    "gi.drop(\"Unnamed: 0\", axis=1, inplace=True)\n",
    "\n",
    "\n"
   ]
  }
 ],
 "metadata": {
  "kernelspec": {
   "display_name": ".venv",
   "language": "python",
   "name": "python3"
  },
  "language_info": {
   "codemirror_mode": {
    "name": "ipython",
    "version": 3
   },
   "file_extension": ".py",
   "mimetype": "text/x-python",
   "name": "python",
   "nbconvert_exporter": "python",
   "pygments_lexer": "ipython3",
   "version": "3.13.3"
  }
 },
 "nbformat": 4,
 "nbformat_minor": 5
}

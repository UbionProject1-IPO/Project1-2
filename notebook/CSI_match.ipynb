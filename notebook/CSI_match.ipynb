{
 "cells": [
  {
   "cell_type": "code",
   "execution_count": 1,
   "id": "cf09c3d2",
   "metadata": {},
   "outputs": [],
   "source": [
    "import pandas as pd\n",
    "\n",
    "C_df = pd.read_csv('CSI/CSI.csv')"
   ]
  },
  {
   "cell_type": "code",
   "execution_count": 11,
   "id": "1b418b9c",
   "metadata": {},
   "outputs": [
    {
     "name": "stdout",
     "output_type": "stream",
     "text": [
      "<class 'pandas.core.frame.DataFrame'>\n",
      "RangeIndex: 120 entries, 0 to 119\n",
      "Data columns (total 2 columns):\n",
      " #   Column   Non-Null Count  Dtype  \n",
      "---  ------   --------------  -----  \n",
      " 0   날짜       120 non-null    object \n",
      " 1   소비자심리지수  120 non-null    float64\n",
      "dtypes: float64(1), object(1)\n",
      "memory usage: 2.0+ KB\n"
     ]
    }
   ],
   "source": [
    "C_df.info()"
   ]
  },
  {
   "cell_type": "code",
   "execution_count": 4,
   "id": "99de1e47",
   "metadata": {},
   "outputs": [],
   "source": [
    "giup = pd.read_csv('Final_Folder/backup_final_ratio.csv')"
   ]
  },
  {
   "cell_type": "code",
   "execution_count": 6,
   "id": "a99e2908",
   "metadata": {},
   "outputs": [
    {
     "data": {
      "text/plain": [
       "Index(['회사명_d1', 'stock_code', '업종', '상장주선인', '공모가 (원)', '공모금액 (천원)',\n",
       "       '최초상장주식수 (주)', 'call', 'kospi', 'modified_esi', '6개월 확약', '3개월 확약',\n",
       "       '1개월 확약', '15일 확약', '미확약', '수요예측_최종값', '회사명_bs', 'corp_code', '상장일',\n",
       "       '업력', '유동자산', '유동부채', '부채총계', '자본금', '자본총계', '매출액', '영업이익', '당기순이익',\n",
       "       'TA', 'WC', 'log_TA', 'log_S', 'capital_deficit', 'wc_neg_dummy',\n",
       "       'ta_negative', 'current_ratio', 'wc_sales', 'wc_ta', 'cl_tl',\n",
       "       'de_ratio', 'equity_ratio', 'cs_te', 'debt_asset', 'op_margin',\n",
       "       'net_margin', 'roe', 'roe_sign_dummy', 'roe_nan', 'roa', 'oi_ta',\n",
       "       'ni_oi_ratio', 'asset_turnover', 'sales_equity', 'z_simplified',\n",
       "       'WICS_large', '우리사주조합', '기관투자자', '일반투자자', 'target_1d', 'target_2d',\n",
       "       'target_7d', 'target_15d', 'target_1m', 'target_3m', 'target_6m'],\n",
       "      dtype='object')"
      ]
     },
     "execution_count": 6,
     "metadata": {},
     "output_type": "execute_result"
    }
   ],
   "source": [
    "giup.columns"
   ]
  },
  {
   "cell_type": "code",
   "execution_count": 9,
   "id": "2fbea07b",
   "metadata": {},
   "outputs": [],
   "source": [
    "gi = giup[['회사명_d1','상장일']]"
   ]
  },
  {
   "cell_type": "code",
   "execution_count": 12,
   "id": "0827777d",
   "metadata": {},
   "outputs": [
    {
     "name": "stdout",
     "output_type": "stream",
     "text": [
      "<class 'pandas.core.frame.DataFrame'>\n",
      "RangeIndex: 657 entries, 0 to 656\n",
      "Data columns (total 2 columns):\n",
      " #   Column  Non-Null Count  Dtype \n",
      "---  ------  --------------  ----- \n",
      " 0   회사명_d1  657 non-null    object\n",
      " 1   상장일     657 non-null    object\n",
      "dtypes: object(2)\n",
      "memory usage: 10.4+ KB\n"
     ]
    }
   ],
   "source": [
    "gi.info()"
   ]
  },
  {
   "cell_type": "code",
   "execution_count": 13,
   "id": "8f9be973",
   "metadata": {},
   "outputs": [
    {
     "name": "stderr",
     "output_type": "stream",
     "text": [
      "C:\\Users\\Owner\\AppData\\Local\\Temp\\ipykernel_30912\\3515495377.py:4: SettingWithCopyWarning: \n",
      "A value is trying to be set on a copy of a slice from a DataFrame.\n",
      "Try using .loc[row_indexer,col_indexer] = value instead\n",
      "\n",
      "See the caveats in the documentation: https://pandas.pydata.org/pandas-docs/stable/user_guide/indexing.html#returning-a-view-versus-a-copy\n",
      "  gi['상장일'] = pd.to_datetime(gi['상장일'])\n",
      "C:\\Users\\Owner\\AppData\\Local\\Temp\\ipykernel_30912\\3515495377.py:5: SettingWithCopyWarning: \n",
      "A value is trying to be set on a copy of a slice from a DataFrame.\n",
      "Try using .loc[row_indexer,col_indexer] = value instead\n",
      "\n",
      "See the caveats in the documentation: https://pandas.pydata.org/pandas-docs/stable/user_guide/indexing.html#returning-a-view-versus-a-copy\n",
      "  gi['상장_년월'] = gi['상장일'].dt.to_period('M').astype(str)\n"
     ]
    }
   ],
   "source": [
    "import pandas as pd\n",
    "\n",
    "# 1. 날짜 형식 변환 (연월 추출용)\n",
    "gi['상장일'] = pd.to_datetime(gi['상장일'])\n",
    "gi['상장_년월'] = gi['상장일'].dt.to_period('M').astype(str)\n",
    "\n",
    "C_df['날짜'] = pd.to_datetime(C_df['날짜'])\n",
    "C_df['년월'] = C_df['날짜'].dt.to_period('M').astype(str)\n",
    "\n",
    "# 2. 소비자심리지수를 연월 기준으로 매칭\n",
    "merged_df = gi.merge(C_df[['년월', '소비자심리지수']], left_on='상장_년월', right_on='년월', how='left')\n",
    "\n",
    "# 3. 불필요한 컬럼 정리 (선택)\n",
    "merged_df.drop(columns=['년월'], inplace=True)\n"
   ]
  },
  {
   "cell_type": "code",
   "execution_count": 15,
   "id": "923a2f4e",
   "metadata": {},
   "outputs": [],
   "source": [
    "merged_df['경기국면'] = merged_df['소비자심리지수'].apply(lambda x: '낙관' if x >= 100 else '비관')\n"
   ]
  },
  {
   "cell_type": "code",
   "execution_count": 17,
   "id": "bff0598b",
   "metadata": {},
   "outputs": [],
   "source": [
    "merged_df.columns = ['회사명','상장일','상장년월','소비자심리지수','경기국면']"
   ]
  },
  {
   "cell_type": "code",
   "execution_count": 20,
   "id": "16247d92",
   "metadata": {},
   "outputs": [],
   "source": [
    "merged_df = merged_df[['회사명','상장일','소비자심리지수','경기국면']]"
   ]
  },
  {
   "cell_type": "code",
   "execution_count": 22,
   "id": "bce81c11",
   "metadata": {},
   "outputs": [],
   "source": [
    "merged_df.to_csv('경기국면.csv')"
   ]
  },
  {
   "cell_type": "code",
   "execution_count": null,
   "id": "c703e715",
   "metadata": {},
   "outputs": [],
   "source": []
  }
 ],
 "metadata": {
  "kernelspec": {
   "display_name": "Python 3",
   "language": "python",
   "name": "python3"
  },
  "language_info": {
   "codemirror_mode": {
    "name": "ipython",
    "version": 3
   },
   "file_extension": ".py",
   "mimetype": "text/x-python",
   "name": "python",
   "nbconvert_exporter": "python",
   "pygments_lexer": "ipython3",
   "version": "3.11.9"
  }
 },
 "nbformat": 4,
 "nbformat_minor": 5
}

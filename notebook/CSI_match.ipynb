{
 "cells": [
  {
   "cell_type": "markdown",
   "id": "d545bd60",
   "metadata": {},
   "source": [
    "## 기업 상장일에 경기국면 매칭"
   ]
  },
  {
   "cell_type": "code",
   "execution_count": 1,
   "id": "cf09c3d2",
   "metadata": {},
   "outputs": [
    {
     "ename": "FileNotFoundError",
     "evalue": "[Errno 2] No such file or directory: 'CSI/CSI.csv'",
     "output_type": "error",
     "traceback": [
      "\u001b[31m---------------------------------------------------------------------------\u001b[39m",
      "\u001b[31mFileNotFoundError\u001b[39m                         Traceback (most recent call last)",
      "\u001b[36mCell\u001b[39m\u001b[36m \u001b[39m\u001b[32mIn[1]\u001b[39m\u001b[32m, line 3\u001b[39m\n\u001b[32m      1\u001b[39m \u001b[38;5;28;01mimport\u001b[39;00m\u001b[38;5;250m \u001b[39m\u001b[34;01mpandas\u001b[39;00m\u001b[38;5;250m \u001b[39m\u001b[38;5;28;01mas\u001b[39;00m\u001b[38;5;250m \u001b[39m\u001b[34;01mpd\u001b[39;00m\n\u001b[32m----> \u001b[39m\u001b[32m3\u001b[39m C_df = \u001b[43mpd\u001b[49m\u001b[43m.\u001b[49m\u001b[43mread_csv\u001b[49m\u001b[43m(\u001b[49m\u001b[33;43m'\u001b[39;49m\u001b[33;43mCSI/CSI.csv\u001b[39;49m\u001b[33;43m'\u001b[39;49m\u001b[43m)\u001b[49m\n",
      "\u001b[36mFile \u001b[39m\u001b[32mc:\\Users\\Owner\\AppData\\Local\\Programs\\Python\\Python311\\Lib\\site-packages\\pandas\\io\\parsers\\readers.py:1026\u001b[39m, in \u001b[36mread_csv\u001b[39m\u001b[34m(filepath_or_buffer, sep, delimiter, header, names, index_col, usecols, dtype, engine, converters, true_values, false_values, skipinitialspace, skiprows, skipfooter, nrows, na_values, keep_default_na, na_filter, verbose, skip_blank_lines, parse_dates, infer_datetime_format, keep_date_col, date_parser, date_format, dayfirst, cache_dates, iterator, chunksize, compression, thousands, decimal, lineterminator, quotechar, quoting, doublequote, escapechar, comment, encoding, encoding_errors, dialect, on_bad_lines, delim_whitespace, low_memory, memory_map, float_precision, storage_options, dtype_backend)\u001b[39m\n\u001b[32m   1013\u001b[39m kwds_defaults = _refine_defaults_read(\n\u001b[32m   1014\u001b[39m     dialect,\n\u001b[32m   1015\u001b[39m     delimiter,\n\u001b[32m   (...)\u001b[39m\u001b[32m   1022\u001b[39m     dtype_backend=dtype_backend,\n\u001b[32m   1023\u001b[39m )\n\u001b[32m   1024\u001b[39m kwds.update(kwds_defaults)\n\u001b[32m-> \u001b[39m\u001b[32m1026\u001b[39m \u001b[38;5;28;01mreturn\u001b[39;00m \u001b[43m_read\u001b[49m\u001b[43m(\u001b[49m\u001b[43mfilepath_or_buffer\u001b[49m\u001b[43m,\u001b[49m\u001b[43m \u001b[49m\u001b[43mkwds\u001b[49m\u001b[43m)\u001b[49m\n",
      "\u001b[36mFile \u001b[39m\u001b[32mc:\\Users\\Owner\\AppData\\Local\\Programs\\Python\\Python311\\Lib\\site-packages\\pandas\\io\\parsers\\readers.py:620\u001b[39m, in \u001b[36m_read\u001b[39m\u001b[34m(filepath_or_buffer, kwds)\u001b[39m\n\u001b[32m    617\u001b[39m _validate_names(kwds.get(\u001b[33m\"\u001b[39m\u001b[33mnames\u001b[39m\u001b[33m\"\u001b[39m, \u001b[38;5;28;01mNone\u001b[39;00m))\n\u001b[32m    619\u001b[39m \u001b[38;5;66;03m# Create the parser.\u001b[39;00m\n\u001b[32m--> \u001b[39m\u001b[32m620\u001b[39m parser = \u001b[43mTextFileReader\u001b[49m\u001b[43m(\u001b[49m\u001b[43mfilepath_or_buffer\u001b[49m\u001b[43m,\u001b[49m\u001b[43m \u001b[49m\u001b[43m*\u001b[49m\u001b[43m*\u001b[49m\u001b[43mkwds\u001b[49m\u001b[43m)\u001b[49m\n\u001b[32m    622\u001b[39m \u001b[38;5;28;01mif\u001b[39;00m chunksize \u001b[38;5;129;01mor\u001b[39;00m iterator:\n\u001b[32m    623\u001b[39m     \u001b[38;5;28;01mreturn\u001b[39;00m parser\n",
      "\u001b[36mFile \u001b[39m\u001b[32mc:\\Users\\Owner\\AppData\\Local\\Programs\\Python\\Python311\\Lib\\site-packages\\pandas\\io\\parsers\\readers.py:1620\u001b[39m, in \u001b[36mTextFileReader.__init__\u001b[39m\u001b[34m(self, f, engine, **kwds)\u001b[39m\n\u001b[32m   1617\u001b[39m     \u001b[38;5;28mself\u001b[39m.options[\u001b[33m\"\u001b[39m\u001b[33mhas_index_names\u001b[39m\u001b[33m\"\u001b[39m] = kwds[\u001b[33m\"\u001b[39m\u001b[33mhas_index_names\u001b[39m\u001b[33m\"\u001b[39m]\n\u001b[32m   1619\u001b[39m \u001b[38;5;28mself\u001b[39m.handles: IOHandles | \u001b[38;5;28;01mNone\u001b[39;00m = \u001b[38;5;28;01mNone\u001b[39;00m\n\u001b[32m-> \u001b[39m\u001b[32m1620\u001b[39m \u001b[38;5;28mself\u001b[39m._engine = \u001b[38;5;28;43mself\u001b[39;49m\u001b[43m.\u001b[49m\u001b[43m_make_engine\u001b[49m\u001b[43m(\u001b[49m\u001b[43mf\u001b[49m\u001b[43m,\u001b[49m\u001b[43m \u001b[49m\u001b[38;5;28;43mself\u001b[39;49m\u001b[43m.\u001b[49m\u001b[43mengine\u001b[49m\u001b[43m)\u001b[49m\n",
      "\u001b[36mFile \u001b[39m\u001b[32mc:\\Users\\Owner\\AppData\\Local\\Programs\\Python\\Python311\\Lib\\site-packages\\pandas\\io\\parsers\\readers.py:1880\u001b[39m, in \u001b[36mTextFileReader._make_engine\u001b[39m\u001b[34m(self, f, engine)\u001b[39m\n\u001b[32m   1878\u001b[39m     \u001b[38;5;28;01mif\u001b[39;00m \u001b[33m\"\u001b[39m\u001b[33mb\u001b[39m\u001b[33m\"\u001b[39m \u001b[38;5;129;01mnot\u001b[39;00m \u001b[38;5;129;01min\u001b[39;00m mode:\n\u001b[32m   1879\u001b[39m         mode += \u001b[33m\"\u001b[39m\u001b[33mb\u001b[39m\u001b[33m\"\u001b[39m\n\u001b[32m-> \u001b[39m\u001b[32m1880\u001b[39m \u001b[38;5;28mself\u001b[39m.handles = \u001b[43mget_handle\u001b[49m\u001b[43m(\u001b[49m\n\u001b[32m   1881\u001b[39m \u001b[43m    \u001b[49m\u001b[43mf\u001b[49m\u001b[43m,\u001b[49m\n\u001b[32m   1882\u001b[39m \u001b[43m    \u001b[49m\u001b[43mmode\u001b[49m\u001b[43m,\u001b[49m\n\u001b[32m   1883\u001b[39m \u001b[43m    \u001b[49m\u001b[43mencoding\u001b[49m\u001b[43m=\u001b[49m\u001b[38;5;28;43mself\u001b[39;49m\u001b[43m.\u001b[49m\u001b[43moptions\u001b[49m\u001b[43m.\u001b[49m\u001b[43mget\u001b[49m\u001b[43m(\u001b[49m\u001b[33;43m\"\u001b[39;49m\u001b[33;43mencoding\u001b[39;49m\u001b[33;43m\"\u001b[39;49m\u001b[43m,\u001b[49m\u001b[43m \u001b[49m\u001b[38;5;28;43;01mNone\u001b[39;49;00m\u001b[43m)\u001b[49m\u001b[43m,\u001b[49m\n\u001b[32m   1884\u001b[39m \u001b[43m    \u001b[49m\u001b[43mcompression\u001b[49m\u001b[43m=\u001b[49m\u001b[38;5;28;43mself\u001b[39;49m\u001b[43m.\u001b[49m\u001b[43moptions\u001b[49m\u001b[43m.\u001b[49m\u001b[43mget\u001b[49m\u001b[43m(\u001b[49m\u001b[33;43m\"\u001b[39;49m\u001b[33;43mcompression\u001b[39;49m\u001b[33;43m\"\u001b[39;49m\u001b[43m,\u001b[49m\u001b[43m \u001b[49m\u001b[38;5;28;43;01mNone\u001b[39;49;00m\u001b[43m)\u001b[49m\u001b[43m,\u001b[49m\n\u001b[32m   1885\u001b[39m \u001b[43m    \u001b[49m\u001b[43mmemory_map\u001b[49m\u001b[43m=\u001b[49m\u001b[38;5;28;43mself\u001b[39;49m\u001b[43m.\u001b[49m\u001b[43moptions\u001b[49m\u001b[43m.\u001b[49m\u001b[43mget\u001b[49m\u001b[43m(\u001b[49m\u001b[33;43m\"\u001b[39;49m\u001b[33;43mmemory_map\u001b[39;49m\u001b[33;43m\"\u001b[39;49m\u001b[43m,\u001b[49m\u001b[43m \u001b[49m\u001b[38;5;28;43;01mFalse\u001b[39;49;00m\u001b[43m)\u001b[49m\u001b[43m,\u001b[49m\n\u001b[32m   1886\u001b[39m \u001b[43m    \u001b[49m\u001b[43mis_text\u001b[49m\u001b[43m=\u001b[49m\u001b[43mis_text\u001b[49m\u001b[43m,\u001b[49m\n\u001b[32m   1887\u001b[39m \u001b[43m    \u001b[49m\u001b[43merrors\u001b[49m\u001b[43m=\u001b[49m\u001b[38;5;28;43mself\u001b[39;49m\u001b[43m.\u001b[49m\u001b[43moptions\u001b[49m\u001b[43m.\u001b[49m\u001b[43mget\u001b[49m\u001b[43m(\u001b[49m\u001b[33;43m\"\u001b[39;49m\u001b[33;43mencoding_errors\u001b[39;49m\u001b[33;43m\"\u001b[39;49m\u001b[43m,\u001b[49m\u001b[43m \u001b[49m\u001b[33;43m\"\u001b[39;49m\u001b[33;43mstrict\u001b[39;49m\u001b[33;43m\"\u001b[39;49m\u001b[43m)\u001b[49m\u001b[43m,\u001b[49m\n\u001b[32m   1888\u001b[39m \u001b[43m    \u001b[49m\u001b[43mstorage_options\u001b[49m\u001b[43m=\u001b[49m\u001b[38;5;28;43mself\u001b[39;49m\u001b[43m.\u001b[49m\u001b[43moptions\u001b[49m\u001b[43m.\u001b[49m\u001b[43mget\u001b[49m\u001b[43m(\u001b[49m\u001b[33;43m\"\u001b[39;49m\u001b[33;43mstorage_options\u001b[39;49m\u001b[33;43m\"\u001b[39;49m\u001b[43m,\u001b[49m\u001b[43m \u001b[49m\u001b[38;5;28;43;01mNone\u001b[39;49;00m\u001b[43m)\u001b[49m\u001b[43m,\u001b[49m\n\u001b[32m   1889\u001b[39m \u001b[43m\u001b[49m\u001b[43m)\u001b[49m\n\u001b[32m   1890\u001b[39m \u001b[38;5;28;01massert\u001b[39;00m \u001b[38;5;28mself\u001b[39m.handles \u001b[38;5;129;01mis\u001b[39;00m \u001b[38;5;129;01mnot\u001b[39;00m \u001b[38;5;28;01mNone\u001b[39;00m\n\u001b[32m   1891\u001b[39m f = \u001b[38;5;28mself\u001b[39m.handles.handle\n",
      "\u001b[36mFile \u001b[39m\u001b[32mc:\\Users\\Owner\\AppData\\Local\\Programs\\Python\\Python311\\Lib\\site-packages\\pandas\\io\\common.py:873\u001b[39m, in \u001b[36mget_handle\u001b[39m\u001b[34m(path_or_buf, mode, encoding, compression, memory_map, is_text, errors, storage_options)\u001b[39m\n\u001b[32m    868\u001b[39m \u001b[38;5;28;01melif\u001b[39;00m \u001b[38;5;28misinstance\u001b[39m(handle, \u001b[38;5;28mstr\u001b[39m):\n\u001b[32m    869\u001b[39m     \u001b[38;5;66;03m# Check whether the filename is to be opened in binary mode.\u001b[39;00m\n\u001b[32m    870\u001b[39m     \u001b[38;5;66;03m# Binary mode does not support 'encoding' and 'newline'.\u001b[39;00m\n\u001b[32m    871\u001b[39m     \u001b[38;5;28;01mif\u001b[39;00m ioargs.encoding \u001b[38;5;129;01mand\u001b[39;00m \u001b[33m\"\u001b[39m\u001b[33mb\u001b[39m\u001b[33m\"\u001b[39m \u001b[38;5;129;01mnot\u001b[39;00m \u001b[38;5;129;01min\u001b[39;00m ioargs.mode:\n\u001b[32m    872\u001b[39m         \u001b[38;5;66;03m# Encoding\u001b[39;00m\n\u001b[32m--> \u001b[39m\u001b[32m873\u001b[39m         handle = \u001b[38;5;28;43mopen\u001b[39;49m\u001b[43m(\u001b[49m\n\u001b[32m    874\u001b[39m \u001b[43m            \u001b[49m\u001b[43mhandle\u001b[49m\u001b[43m,\u001b[49m\n\u001b[32m    875\u001b[39m \u001b[43m            \u001b[49m\u001b[43mioargs\u001b[49m\u001b[43m.\u001b[49m\u001b[43mmode\u001b[49m\u001b[43m,\u001b[49m\n\u001b[32m    876\u001b[39m \u001b[43m            \u001b[49m\u001b[43mencoding\u001b[49m\u001b[43m=\u001b[49m\u001b[43mioargs\u001b[49m\u001b[43m.\u001b[49m\u001b[43mencoding\u001b[49m\u001b[43m,\u001b[49m\n\u001b[32m    877\u001b[39m \u001b[43m            \u001b[49m\u001b[43merrors\u001b[49m\u001b[43m=\u001b[49m\u001b[43merrors\u001b[49m\u001b[43m,\u001b[49m\n\u001b[32m    878\u001b[39m \u001b[43m            \u001b[49m\u001b[43mnewline\u001b[49m\u001b[43m=\u001b[49m\u001b[33;43m\"\u001b[39;49m\u001b[33;43m\"\u001b[39;49m\u001b[43m,\u001b[49m\n\u001b[32m    879\u001b[39m \u001b[43m        \u001b[49m\u001b[43m)\u001b[49m\n\u001b[32m    880\u001b[39m     \u001b[38;5;28;01melse\u001b[39;00m:\n\u001b[32m    881\u001b[39m         \u001b[38;5;66;03m# Binary mode\u001b[39;00m\n\u001b[32m    882\u001b[39m         handle = \u001b[38;5;28mopen\u001b[39m(handle, ioargs.mode)\n",
      "\u001b[31mFileNotFoundError\u001b[39m: [Errno 2] No such file or directory: 'CSI/CSI.csv'"
     ]
    }
   ],
   "source": [
    "import pandas as pd\n",
    "\n",
    "C_df = pd.read_csv('CSI/CSI.csv')"
   ]
  },
  {
   "cell_type": "code",
   "execution_count": null,
   "id": "1b418b9c",
   "metadata": {},
   "outputs": [
    {
     "name": "stdout",
     "output_type": "stream",
     "text": [
      "<class 'pandas.core.frame.DataFrame'>\n",
      "RangeIndex: 120 entries, 0 to 119\n",
      "Data columns (total 2 columns):\n",
      " #   Column   Non-Null Count  Dtype  \n",
      "---  ------   --------------  -----  \n",
      " 0   날짜       120 non-null    object \n",
      " 1   소비자심리지수  120 non-null    float64\n",
      "dtypes: float64(1), object(1)\n",
      "memory usage: 2.0+ KB\n"
     ]
    }
   ],
   "source": [
    "C_df.info()"
   ]
  },
  {
   "cell_type": "code",
   "execution_count": null,
   "id": "99de1e47",
   "metadata": {},
   "outputs": [],
   "source": [
    "giup = pd.read_csv('Final_Folder/backup_final_ratio.csv')"
   ]
  },
  {
   "cell_type": "code",
   "execution_count": null,
   "id": "a99e2908",
   "metadata": {},
   "outputs": [
    {
     "data": {
      "text/plain": [
       "Index(['회사명_d1', 'stock_code', '업종', '상장주선인', '공모가 (원)', '공모금액 (천원)',\n",
       "       '최초상장주식수 (주)', 'call', 'kospi', 'modified_esi', '6개월 확약', '3개월 확약',\n",
       "       '1개월 확약', '15일 확약', '미확약', '수요예측_최종값', '회사명_bs', 'corp_code', '상장일',\n",
       "       '업력', '유동자산', '유동부채', '부채총계', '자본금', '자본총계', '매출액', '영업이익', '당기순이익',\n",
       "       'TA', 'WC', 'log_TA', 'log_S', 'capital_deficit', 'wc_neg_dummy',\n",
       "       'ta_negative', 'current_ratio', 'wc_sales', 'wc_ta', 'cl_tl',\n",
       "       'de_ratio', 'equity_ratio', 'cs_te', 'debt_asset', 'op_margin',\n",
       "       'net_margin', 'roe', 'roe_sign_dummy', 'roe_nan', 'roa', 'oi_ta',\n",
       "       'ni_oi_ratio', 'asset_turnover', 'sales_equity', 'z_simplified',\n",
       "       'WICS_large', '우리사주조합', '기관투자자', '일반투자자', 'target_1d', 'target_2d',\n",
       "       'target_7d', 'target_15d', 'target_1m', 'target_3m', 'target_6m'],\n",
       "      dtype='object')"
      ]
     },
     "execution_count": 6,
     "metadata": {},
     "output_type": "execute_result"
    }
   ],
   "source": [
    "giup.columns"
   ]
  },
  {
   "cell_type": "code",
   "execution_count": null,
   "id": "2fbea07b",
   "metadata": {},
   "outputs": [],
   "source": [
    "gi = giup[['회사명_d1','상장일']]"
   ]
  },
  {
   "cell_type": "code",
   "execution_count": null,
   "id": "0827777d",
   "metadata": {},
   "outputs": [
    {
     "name": "stdout",
     "output_type": "stream",
     "text": [
      "<class 'pandas.core.frame.DataFrame'>\n",
      "RangeIndex: 657 entries, 0 to 656\n",
      "Data columns (total 2 columns):\n",
      " #   Column  Non-Null Count  Dtype \n",
      "---  ------  --------------  ----- \n",
      " 0   회사명_d1  657 non-null    object\n",
      " 1   상장일     657 non-null    object\n",
      "dtypes: object(2)\n",
      "memory usage: 10.4+ KB\n"
     ]
    }
   ],
   "source": [
    "gi.info()"
   ]
  },
  {
   "cell_type": "code",
   "execution_count": null,
   "id": "8f9be973",
   "metadata": {},
   "outputs": [
    {
     "name": "stderr",
     "output_type": "stream",
     "text": [
      "C:\\Users\\Owner\\AppData\\Local\\Temp\\ipykernel_30912\\3515495377.py:4: SettingWithCopyWarning: \n",
      "A value is trying to be set on a copy of a slice from a DataFrame.\n",
      "Try using .loc[row_indexer,col_indexer] = value instead\n",
      "\n",
      "See the caveats in the documentation: https://pandas.pydata.org/pandas-docs/stable/user_guide/indexing.html#returning-a-view-versus-a-copy\n",
      "  gi['상장일'] = pd.to_datetime(gi['상장일'])\n",
      "C:\\Users\\Owner\\AppData\\Local\\Temp\\ipykernel_30912\\3515495377.py:5: SettingWithCopyWarning: \n",
      "A value is trying to be set on a copy of a slice from a DataFrame.\n",
      "Try using .loc[row_indexer,col_indexer] = value instead\n",
      "\n",
      "See the caveats in the documentation: https://pandas.pydata.org/pandas-docs/stable/user_guide/indexing.html#returning-a-view-versus-a-copy\n",
      "  gi['상장_년월'] = gi['상장일'].dt.to_period('M').astype(str)\n"
     ]
    }
   ],
   "source": [
    "import pandas as pd\n",
    "\n",
    "# 1. 날짜 형식 변환 (연월 추출용)\n",
    "gi['상장일'] = pd.to_datetime(gi['상장일'])\n",
    "gi['상장_년월'] = gi['상장일'].dt.to_period('M').astype(str)\n",
    "\n",
    "C_df['날짜'] = pd.to_datetime(C_df['날짜'])\n",
    "C_df['년월'] = C_df['날짜'].dt.to_period('M').astype(str)\n",
    "\n",
    "# 2. 소비자심리지수를 연월 기준으로 매칭\n",
    "merged_df = gi.merge(C_df[['년월', '소비자심리지수']], left_on='상장_년월', right_on='년월', how='left')\n",
    "\n",
    "# 3. 불필요한 컬럼 정리 (선택)\n",
    "merged_df.drop(columns=['년월'], inplace=True)\n"
   ]
  },
  {
   "cell_type": "code",
   "execution_count": null,
   "id": "923a2f4e",
   "metadata": {},
   "outputs": [],
   "source": [
    "merged_df['경기국면'] = merged_df['소비자심리지수'].apply(lambda x: '낙관' if x >= 100 else '비관')\n"
   ]
  },
  {
   "cell_type": "code",
   "execution_count": null,
   "id": "bff0598b",
   "metadata": {},
   "outputs": [],
   "source": [
    "merged_df.columns = ['회사명','상장일','상장년월','소비자심리지수','경기국면']"
   ]
  },
  {
   "cell_type": "code",
   "execution_count": null,
   "id": "16247d92",
   "metadata": {},
   "outputs": [],
   "source": [
    "merged_df = merged_df[['회사명','상장일','소비자심리지수','경기국면']]"
   ]
  },
  {
   "cell_type": "code",
   "execution_count": null,
   "id": "bce81c11",
   "metadata": {},
   "outputs": [],
   "source": [
    "merged_df.to_csv('경기국면.csv')"
   ]
  },
  {
   "cell_type": "markdown",
   "id": "20666ad0",
   "metadata": {},
   "source": [
    "## 경기국면에 따른 클래스 균형 확인하기"
   ]
  },
  {
   "cell_type": "code",
   "execution_count": 2,
   "id": "d9beb789",
   "metadata": {},
   "outputs": [],
   "source": [
    "import pandas as pd\n",
    "C = pd.read_csv('../data/경기국면.csv')"
   ]
  },
  {
   "cell_type": "code",
   "execution_count": 3,
   "id": "fccde624",
   "metadata": {},
   "outputs": [
    {
     "data": {
      "text/plain": [
       "Index(['Unnamed: 0', '회사명', '상장일', '소비자심리지수', '경기국면'], dtype='object')"
      ]
     },
     "execution_count": 3,
     "metadata": {},
     "output_type": "execute_result"
    }
   ],
   "source": [
    "C.columns"
   ]
  },
  {
   "cell_type": "code",
   "execution_count": 5,
   "id": "3ab1794b",
   "metadata": {},
   "outputs": [
    {
     "data": {
      "text/plain": [
       "경기국면\n",
       "낙관    364\n",
       "비관    293\n",
       "Name: count, dtype: int64"
      ]
     },
     "execution_count": 5,
     "metadata": {},
     "output_type": "execute_result"
    }
   ],
   "source": [
    "C['경기국면'].value_counts()"
   ]
  },
  {
   "cell_type": "markdown",
   "id": "3b05c00d",
   "metadata": {},
   "source": [
    "## 기업 데이터에 추가 데이터 붙이기"
   ]
  },
  {
   "cell_type": "code",
   "execution_count": 44,
   "id": "aab8680c",
   "metadata": {},
   "outputs": [],
   "source": [
    "import pandas as pd\n",
    "\n",
    "giup = pd.read_csv('../data/giup_data.csv')"
   ]
  },
  {
   "cell_type": "code",
   "execution_count": 45,
   "id": "d4dff4f8",
   "metadata": {},
   "outputs": [],
   "source": [
    "giup = giup.iloc[:,1:]"
   ]
  },
  {
   "cell_type": "code",
   "execution_count": 46,
   "id": "4230ad32",
   "metadata": {},
   "outputs": [
    {
     "name": "stdout",
     "output_type": "stream",
     "text": [
      "<class 'pandas.core.frame.DataFrame'>\n",
      "RangeIndex: 533 entries, 0 to 532\n",
      "Data columns (total 65 columns):\n",
      " #   Column           Non-Null Count  Dtype  \n",
      "---  ------           --------------  -----  \n",
      " 0   회사명              533 non-null    object \n",
      " 1   stock_code       533 non-null    int64  \n",
      " 2   업종               532 non-null    object \n",
      " 3   상장주선인            533 non-null    object \n",
      " 4   공모가 (원)          533 non-null    float64\n",
      " 5   공모금액 (천원)        533 non-null    object \n",
      " 6   최초상장주식수 (주)      533 non-null    object \n",
      " 7   call             533 non-null    float64\n",
      " 8   kospi            533 non-null    object \n",
      " 9   modified_esi     533 non-null    float64\n",
      " 10  6개월 확약           533 non-null    float64\n",
      " 11  3개월 확약           533 non-null    float64\n",
      " 12  1개월 확약           533 non-null    float64\n",
      " 13  15일 확약           533 non-null    float64\n",
      " 14  미확약              533 non-null    float64\n",
      " 15  수요예측_최종값         533 non-null    float64\n",
      " 16  회사명_bs           533 non-null    object \n",
      " 17  corp_code        533 non-null    int64  \n",
      " 18  상장일              533 non-null    object \n",
      " 19  업력               533 non-null    int64  \n",
      " 20  유동자산             533 non-null    int64  \n",
      " 21  유동부채             533 non-null    int64  \n",
      " 22  부채총계             533 non-null    int64  \n",
      " 23  자본금              533 non-null    int64  \n",
      " 24  자본총계             533 non-null    int64  \n",
      " 25  매출액              533 non-null    int64  \n",
      " 26  영업이익             533 non-null    int64  \n",
      " 27  당기순이익            533 non-null    int64  \n",
      " 28  TA               533 non-null    int64  \n",
      " 29  WC               533 non-null    int64  \n",
      " 30  log_TA           533 non-null    float64\n",
      " 31  log_S            533 non-null    float64\n",
      " 32  capital_deficit  533 non-null    int64  \n",
      " 33  wc_neg_dummy     533 non-null    int64  \n",
      " 34  ta_negative      533 non-null    int64  \n",
      " 35  current_ratio    533 non-null    float64\n",
      " 36  wc_sales         523 non-null    float64\n",
      " 37  wc_ta            533 non-null    float64\n",
      " 38  cl_tl            533 non-null    float64\n",
      " 39  de_ratio         519 non-null    float64\n",
      " 40  equity_ratio     519 non-null    float64\n",
      " 41  cs_te            519 non-null    float64\n",
      " 42  debt_asset       533 non-null    float64\n",
      " 43  op_margin        523 non-null    float64\n",
      " 44  net_margin       523 non-null    float64\n",
      " 45  roe              519 non-null    float64\n",
      " 46  roe_sign_dummy   519 non-null    float64\n",
      " 47  roe_nan          533 non-null    int64  \n",
      " 48  roa              533 non-null    float64\n",
      " 49  oi_ta            533 non-null    float64\n",
      " 50  ni_oi_ratio      533 non-null    float64\n",
      " 51  asset_turnover   533 non-null    float64\n",
      " 52  sales_equity     519 non-null    float64\n",
      " 53  z_simplified     533 non-null    float64\n",
      " 54  WICS_large       533 non-null    object \n",
      " 55  우리사주조합           533 non-null    object \n",
      " 56  기관투자자            533 non-null    object \n",
      " 57  일반투자자            533 non-null    object \n",
      " 58  target_1d        533 non-null    int64  \n",
      " 59  target_2d        533 non-null    int64  \n",
      " 60  target_7d        533 non-null    int64  \n",
      " 61  target_15d       533 non-null    int64  \n",
      " 62  target_1m        533 non-null    int64  \n",
      " 63  target_3m        533 non-null    int64  \n",
      " 64  target_6m        533 non-null    int64  \n",
      "dtypes: float64(29), int64(24), object(12)\n",
      "memory usage: 270.8+ KB\n"
     ]
    }
   ],
   "source": [
    "giup.info()"
   ]
  },
  {
   "cell_type": "code",
   "execution_count": 47,
   "id": "474fe663",
   "metadata": {},
   "outputs": [],
   "source": [
    "na_return = pd.read_csv('../notion_data/Nasdaq.csv')"
   ]
  },
  {
   "cell_type": "code",
   "execution_count": 48,
   "id": "69079665",
   "metadata": {},
   "outputs": [
    {
     "name": "stderr",
     "output_type": "stream",
     "text": [
      "C:\\Users\\Owner\\AppData\\Local\\Temp\\ipykernel_53608\\3528779724.py:3: UserWarning: Could not infer format, so each element will be parsed individually, falling back to `dateutil`. To ensure parsing is consistent and as-expected, please specify a format.\n",
      "  na_return['Price'] = pd.to_datetime(na_return['Price'], errors='coerce')\n"
     ]
    }
   ],
   "source": [
    "# 1. Make sure the date columns are real datetime objects\n",
    "giup['상장일']     = pd.to_datetime(giup['상장일'], errors='coerce')\n",
    "na_return['Price'] = pd.to_datetime(na_return['Price'], errors='coerce')\n",
    "\n",
    "# 2. Keep just the columns we need from na_return\n",
    "daily = na_return[['Price', 'Daily Return (%)']]\n",
    "\n",
    "# 3. Left-join so every row in giup keeps its place\n",
    "giup = (\n",
    "    giup\n",
    "    .merge(daily, left_on='상장일', right_on='Price', how='left')\n",
    "    .drop(columns='Price')          # the helper column is no longer needed\n",
    ")\n"
   ]
  },
  {
   "cell_type": "code",
   "execution_count": 49,
   "id": "4f3ff442",
   "metadata": {},
   "outputs": [],
   "source": [
    "giup.rename(columns={'Daily Return (%)' : '나스닥_수익률'},inplace=True)"
   ]
  },
  {
   "cell_type": "code",
   "execution_count": 50,
   "id": "f6ec2a78",
   "metadata": {},
   "outputs": [],
   "source": [
    "kospi = pd.read_csv('../notion_data/코스피지수.csv')"
   ]
  },
  {
   "cell_type": "code",
   "execution_count": 51,
   "id": "90145d16",
   "metadata": {},
   "outputs": [],
   "source": [
    "kospi['변환']    = pd.to_datetime(kospi['변환'],    errors='coerce')\n",
    "\n",
    "# 2. Keep only the pieces we need from kospi\n",
    "kospi_sub = kospi[['변환', '원자료']]\n",
    "\n",
    "# 3. Left-join so every row in giup stays in place\n",
    "giup = (\n",
    "    giup\n",
    "      .merge(kospi_sub, left_on='상장일', right_on='변환', how='left')\n",
    "      .drop(columns='변환')            # helper column no longer needed\n",
    ")"
   ]
  },
  {
   "cell_type": "code",
   "execution_count": 52,
   "id": "a2c39db0",
   "metadata": {},
   "outputs": [],
   "source": [
    "giup.rename(columns={'원자료' : '코스피_지수'},inplace=True)"
   ]
  },
  {
   "cell_type": "code",
   "execution_count": 54,
   "id": "ff54bddd",
   "metadata": {},
   "outputs": [],
   "source": [
    "kosdaq = pd.read_csv('../notion_data/코스닥지수.csv')"
   ]
  },
  {
   "cell_type": "code",
   "execution_count": 56,
   "id": "8c63c224",
   "metadata": {},
   "outputs": [],
   "source": [
    "kosdaq['변환']    = pd.to_datetime(kosdaq['변환'],    errors='coerce')\n",
    "\n",
    "# 2. Keep only the pieces we need from kospi\n",
    "kosdaq_sub = kosdaq[['변환', '원자료']]\n",
    "\n",
    "# 3. Left-join so every row in giup stays in place\n",
    "giup = (\n",
    "    giup\n",
    "      .merge(kosdaq_sub, left_on='상장일', right_on='변환', how='left')\n",
    "      .drop(columns='변환')            # helper column no longer needed\n",
    ")"
   ]
  },
  {
   "cell_type": "code",
   "execution_count": 58,
   "id": "6be66e74",
   "metadata": {},
   "outputs": [],
   "source": [
    "giup.rename(columns={'원자료' : '코스닥_지수'},inplace=True)"
   ]
  },
  {
   "cell_type": "code",
   "execution_count": 61,
   "id": "b29ed76b",
   "metadata": {},
   "outputs": [],
   "source": [
    "ghksdbf = pd.read_csv('../notion_data/주요국통화.csv')"
   ]
  },
  {
   "cell_type": "code",
   "execution_count": null,
   "id": "3f4116b2",
   "metadata": {},
   "outputs": [],
   "source": [
    "ghksdbf\n",
    "ghksdbf['변환']    = pd.to_datetime(ghksdbf['변환'],    errors='coerce')\n",
    "\n",
    "# 2. Keep only the pieces we need from kospi\n",
    "ghksdbf_sub = ghksdbf[['변환', '원자료']]\n",
    "\n",
    "# 3. Left-join so every row in giup stays in place\n",
    "giup = (\n",
    "    giup\n",
    "      .merge(ghksdbf_sub, left_on='상장일', right_on='변환', how='left')\n",
    "      .drop(columns='변환')            # helper column no longer needed\n",
    ")\n"
   ]
  }
 ],
 "metadata": {
  "kernelspec": {
   "display_name": "Python 3",
   "language": "python",
   "name": "python3"
  },
  "language_info": {
   "codemirror_mode": {
    "name": "ipython",
    "version": 3
   },
   "file_extension": ".py",
   "mimetype": "text/x-python",
   "name": "python",
   "nbconvert_exporter": "python",
   "pygments_lexer": "ipython3",
   "version": "3.11.9"
  }
 },
 "nbformat": 4,
 "nbformat_minor": 5
}

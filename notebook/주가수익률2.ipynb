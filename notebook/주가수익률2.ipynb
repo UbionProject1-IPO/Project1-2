{
 "cells": [
  {
   "cell_type": "code",
   "execution_count": 1,
   "id": "3e93ecb3",
   "metadata": {},
   "outputs": [],
   "source": [
    "import pandas as pd"
   ]
  },
  {
   "cell_type": "code",
   "execution_count": 8,
   "id": "3642649f",
   "metadata": {},
   "outputs": [],
   "source": [
    "df = pd.read_csv('../data/final_ratio_copy2.csv')"
   ]
  },
  {
   "cell_type": "code",
   "execution_count": 5,
   "id": "a3fd6827",
   "metadata": {},
   "outputs": [
    {
     "data": {
      "text/plain": [
       "Index(['회사명_d1', 'stock_code', '업종', '상장주선인', '공모가 (원)', '공모금액 (천원)',\n",
       "       '최초상장주식수 (주)', 'call', 'kospi', 'modified_esi', '6개월 확약', '3개월 확약',\n",
       "       '1개월 확약', '15일 확약', '미확약', '수요예측_최종값', '회사명_bs', 'corp_code', '상장일',\n",
       "       '업력', '유동자산', '유동부채', '부채총계', '자본금', '자본총계', '매출액', '영업이익', '당기순이익',\n",
       "       'target', 'TA', 'WC', 'log_TA', 'log_S', 'capital_deficit',\n",
       "       'wc_neg_dummy', 'ta_negative', 'current_ratio', 'wc_sales', 'wc_ta',\n",
       "       'cl_tl', 'de_ratio', 'equity_ratio', 'cs_te', 'debt_asset', 'op_margin',\n",
       "       'net_margin', 'roe', 'roe_sign_dummy', 'roe_nan', 'roa', 'oi_ta',\n",
       "       'ni_oi_ratio', 'asset_turnover', 'sales_equity', 'z_simplified',\n",
       "       'WICS_large'],\n",
       "      dtype='object')"
      ]
     },
     "execution_count": 5,
     "metadata": {},
     "output_type": "execute_result"
    }
   ],
   "source": [
    "df.columns"
   ]
  },
  {
   "cell_type": "code",
   "execution_count": 9,
   "id": "c88838cf",
   "metadata": {},
   "outputs": [],
   "source": [
    "df_final = df.copy()"
   ]
  },
  {
   "cell_type": "code",
   "execution_count": 49,
   "id": "522c5691",
   "metadata": {},
   "outputs": [
    {
     "name": "stdout",
     "output_type": "stream",
     "text": [
      "<class 'pandas.core.frame.DataFrame'>\n",
      "RangeIndex: 657 entries, 0 to 656\n",
      "Data columns (total 2 columns):\n",
      " #   Column   Non-Null Count  Dtype  \n",
      "---  ------   --------------  -----  \n",
      " 0   회사명      657 non-null    object \n",
      " 1   공모가 (원)  657 non-null    float64\n",
      "dtypes: float64(1), object(1)\n",
      "memory usage: 10.4+ KB\n"
     ]
    }
   ],
   "source": [
    "df.info()"
   ]
  },
  {
   "cell_type": "code",
   "execution_count": 10,
   "id": "8e741049",
   "metadata": {},
   "outputs": [
    {
     "data": {
      "text/html": [
       "<div>\n",
       "<style scoped>\n",
       "    .dataframe tbody tr th:only-of-type {\n",
       "        vertical-align: middle;\n",
       "    }\n",
       "\n",
       "    .dataframe tbody tr th {\n",
       "        vertical-align: top;\n",
       "    }\n",
       "\n",
       "    .dataframe thead th {\n",
       "        text-align: right;\n",
       "    }\n",
       "</style>\n",
       "<table border=\"1\" class=\"dataframe\">\n",
       "  <thead>\n",
       "    <tr style=\"text-align: right;\">\n",
       "      <th></th>\n",
       "      <th>회사명_d1</th>\n",
       "      <th>공모가 (원)</th>\n",
       "    </tr>\n",
       "  </thead>\n",
       "  <tbody>\n",
       "    <tr>\n",
       "      <th>0</th>\n",
       "      <td>엠앤씨솔루션</td>\n",
       "      <td>65000.0</td>\n",
       "    </tr>\n",
       "    <tr>\n",
       "      <th>1</th>\n",
       "      <td>더본코리아</td>\n",
       "      <td>34000.0</td>\n",
       "    </tr>\n",
       "    <tr>\n",
       "      <th>2</th>\n",
       "      <td>전진건설로봇</td>\n",
       "      <td>16500.0</td>\n",
       "    </tr>\n",
       "    <tr>\n",
       "      <th>3</th>\n",
       "      <td>산일전기</td>\n",
       "      <td>35000.0</td>\n",
       "    </tr>\n",
       "    <tr>\n",
       "      <th>4</th>\n",
       "      <td>시프트업</td>\n",
       "      <td>60000.0</td>\n",
       "    </tr>\n",
       "  </tbody>\n",
       "</table>\n",
       "</div>"
      ],
      "text/plain": [
       "   회사명_d1  공모가 (원)\n",
       "0  엠앤씨솔루션  65000.0\n",
       "1   더본코리아  34000.0\n",
       "2  전진건설로봇  16500.0\n",
       "3    산일전기  35000.0\n",
       "4    시프트업  60000.0"
      ]
     },
     "execution_count": 10,
     "metadata": {},
     "output_type": "execute_result"
    }
   ],
   "source": [
    "df = df[['회사명_d1', '공모가 (원)']]\n",
    "\n",
    "df.head()"
   ]
  },
  {
   "cell_type": "code",
   "execution_count": 57,
   "id": "f3152d59",
   "metadata": {},
   "outputs": [
    {
     "data": {
      "text/plain": [
       "657"
      ]
     },
     "execution_count": 57,
     "metadata": {},
     "output_type": "execute_result"
    }
   ],
   "source": [
    "len(df['회사명'].unique())"
   ]
  },
  {
   "cell_type": "code",
   "execution_count": null,
   "id": "29407eae",
   "metadata": {},
   "outputs": [],
   "source": [
    "df1= pd.read_csv('../data/TS2000_주가/KOSDAQ_881_stock_data.csv')"
   ]
  },
  {
   "cell_type": "code",
   "execution_count": 16,
   "id": "fa261505",
   "metadata": {},
   "outputs": [
    {
     "data": {
      "text/plain": [
       "Index(['회사명', '거래소코드', '회계년도', '종목코드(축약)', '매매년월일', '상장주식수(주)', '액면가(원)',\n",
       "       '시가(원)', '고가(원)', '종가(원)', '거래량(주)', '거래대금(원)'],\n",
       "      dtype='object')"
      ]
     },
     "execution_count": 16,
     "metadata": {},
     "output_type": "execute_result"
    }
   ],
   "source": [
    "df1.columns"
   ]
  },
  {
   "cell_type": "code",
   "execution_count": null,
   "id": "2ea67194",
   "metadata": {},
   "outputs": [],
   "source": [
    "df2 = pd.read_csv('../data/TS2000_주가/KOSPI_110_stock_data.csv')"
   ]
  },
  {
   "cell_type": "code",
   "execution_count": 18,
   "id": "7b9d87c1",
   "metadata": {},
   "outputs": [
    {
     "data": {
      "text/plain": [
       "Index(['회사명', '거래소코드', '회계년도', '종목코드(축약)', '매매년월일', '상장주식수(주)', '액면가(원)',\n",
       "       '시가(원)', '고가(원)', '종가(원)', '거래량(주)', '거래대금(원)'],\n",
       "      dtype='object')"
      ]
     },
     "execution_count": 18,
     "metadata": {},
     "output_type": "execute_result"
    }
   ],
   "source": [
    "df2.columns"
   ]
  },
  {
   "cell_type": "code",
   "execution_count": 19,
   "id": "84ab527f",
   "metadata": {},
   "outputs": [],
   "source": [
    "df_merge = pd.concat([df1, df2])"
   ]
  },
  {
   "cell_type": "code",
   "execution_count": 55,
   "id": "cb94e683",
   "metadata": {},
   "outputs": [
    {
     "data": {
      "text/plain": [
       "991"
      ]
     },
     "execution_count": 55,
     "metadata": {},
     "output_type": "execute_result"
    }
   ],
   "source": [
    "len(df_merge['회사명'].unique())"
   ]
  },
  {
   "cell_type": "code",
   "execution_count": 20,
   "id": "f5dfe004",
   "metadata": {},
   "outputs": [
    {
     "name": "stdout",
     "output_type": "stream",
     "text": [
      "<class 'pandas.core.frame.DataFrame'>\n",
      "Index: 1043422 entries, 0 to 139994\n",
      "Data columns (total 12 columns):\n",
      " #   Column    Non-Null Count    Dtype \n",
      "---  ------    --------------    ----- \n",
      " 0   회사명       1043422 non-null  object\n",
      " 1   거래소코드     1043422 non-null  int64 \n",
      " 2   회계년도      1043422 non-null  object\n",
      " 3   종목코드(축약)  1043422 non-null  int64 \n",
      " 4   매매년월일     1043422 non-null  object\n",
      " 5   상장주식수(주)  1043422 non-null  object\n",
      " 6   액면가(원)    1043422 non-null  object\n",
      " 7   시가(원)     1043422 non-null  object\n",
      " 8   고가(원)     1043422 non-null  object\n",
      " 9   종가(원)     1043422 non-null  object\n",
      " 10  거래량(주)    1043422 non-null  object\n",
      " 11  거래대금(원)   1043422 non-null  object\n",
      "dtypes: int64(2), object(10)\n",
      "memory usage: 103.5+ MB\n"
     ]
    }
   ],
   "source": [
    "df_merge.info()"
   ]
  },
  {
   "cell_type": "code",
   "execution_count": 27,
   "id": "182a4477",
   "metadata": {},
   "outputs": [
    {
     "data": {
      "text/html": [
       "<div>\n",
       "<style scoped>\n",
       "    .dataframe tbody tr th:only-of-type {\n",
       "        vertical-align: middle;\n",
       "    }\n",
       "\n",
       "    .dataframe tbody tr th {\n",
       "        vertical-align: top;\n",
       "    }\n",
       "\n",
       "    .dataframe thead th {\n",
       "        text-align: right;\n",
       "    }\n",
       "</style>\n",
       "<table border=\"1\" class=\"dataframe\">\n",
       "  <thead>\n",
       "    <tr style=\"text-align: right;\">\n",
       "      <th></th>\n",
       "      <th>회사명</th>\n",
       "      <th>공모가 (원)</th>\n",
       "    </tr>\n",
       "  </thead>\n",
       "  <tbody>\n",
       "    <tr>\n",
       "      <th>0</th>\n",
       "      <td>엠앤씨솔루션</td>\n",
       "      <td>65000.0</td>\n",
       "    </tr>\n",
       "    <tr>\n",
       "      <th>1</th>\n",
       "      <td>더본코리아</td>\n",
       "      <td>34000.0</td>\n",
       "    </tr>\n",
       "    <tr>\n",
       "      <th>2</th>\n",
       "      <td>전진건설로봇</td>\n",
       "      <td>16500.0</td>\n",
       "    </tr>\n",
       "    <tr>\n",
       "      <th>3</th>\n",
       "      <td>산일전기</td>\n",
       "      <td>35000.0</td>\n",
       "    </tr>\n",
       "    <tr>\n",
       "      <th>4</th>\n",
       "      <td>시프트업</td>\n",
       "      <td>60000.0</td>\n",
       "    </tr>\n",
       "  </tbody>\n",
       "</table>\n",
       "</div>"
      ],
      "text/plain": [
       "      회사명  공모가 (원)\n",
       "0  엠앤씨솔루션  65000.0\n",
       "1   더본코리아  34000.0\n",
       "2  전진건설로봇  16500.0\n",
       "3    산일전기  35000.0\n",
       "4    시프트업  60000.0"
      ]
     },
     "execution_count": 27,
     "metadata": {},
     "output_type": "execute_result"
    }
   ],
   "source": [
    "df.rename(columns={'회사명_d1': '회사명'}, inplace=True)\n",
    "\n",
    "\n",
    "df.head()"
   ]
  },
  {
   "cell_type": "code",
   "execution_count": 22,
   "id": "1f214db9",
   "metadata": {},
   "outputs": [
    {
     "data": {
      "text/html": [
       "<div>\n",
       "<style scoped>\n",
       "    .dataframe tbody tr th:only-of-type {\n",
       "        vertical-align: middle;\n",
       "    }\n",
       "\n",
       "    .dataframe tbody tr th {\n",
       "        vertical-align: top;\n",
       "    }\n",
       "\n",
       "    .dataframe thead th {\n",
       "        text-align: right;\n",
       "    }\n",
       "</style>\n",
       "<table border=\"1\" class=\"dataframe\">\n",
       "  <thead>\n",
       "    <tr style=\"text-align: right;\">\n",
       "      <th></th>\n",
       "      <th>회사명</th>\n",
       "      <th>거래소코드</th>\n",
       "      <th>회계년도</th>\n",
       "      <th>종목코드(축약)</th>\n",
       "      <th>매매년월일</th>\n",
       "      <th>상장주식수(주)</th>\n",
       "      <th>액면가(원)</th>\n",
       "      <th>시가(원)</th>\n",
       "      <th>고가(원)</th>\n",
       "      <th>종가(원)</th>\n",
       "      <th>거래량(주)</th>\n",
       "      <th>거래대금(원)</th>\n",
       "    </tr>\n",
       "  </thead>\n",
       "  <tbody>\n",
       "    <tr>\n",
       "      <th>0</th>\n",
       "      <td>가온칩스</td>\n",
       "      <td>399720</td>\n",
       "      <td>2022/05/20</td>\n",
       "      <td>399720</td>\n",
       "      <td>2022/05/20</td>\n",
       "      <td>11,488,320</td>\n",
       "      <td>500</td>\n",
       "      <td>24,150</td>\n",
       "      <td>30,500</td>\n",
       "      <td>27,100</td>\n",
       "      <td>19,492,306</td>\n",
       "      <td>499,287,960,850</td>\n",
       "    </tr>\n",
       "    <tr>\n",
       "      <th>1</th>\n",
       "      <td>가온칩스</td>\n",
       "      <td>399720</td>\n",
       "      <td>2022/05/23</td>\n",
       "      <td>399720</td>\n",
       "      <td>2022/05/23</td>\n",
       "      <td>11,488,320</td>\n",
       "      <td>500</td>\n",
       "      <td>26,400</td>\n",
       "      <td>32,000</td>\n",
       "      <td>26,500</td>\n",
       "      <td>11,860,501</td>\n",
       "      <td>351,710,373,200</td>\n",
       "    </tr>\n",
       "    <tr>\n",
       "      <th>2</th>\n",
       "      <td>가온칩스</td>\n",
       "      <td>399720</td>\n",
       "      <td>2022/05/24</td>\n",
       "      <td>399720</td>\n",
       "      <td>2022/05/24</td>\n",
       "      <td>11,488,320</td>\n",
       "      <td>500</td>\n",
       "      <td>26,650</td>\n",
       "      <td>31,500</td>\n",
       "      <td>30,500</td>\n",
       "      <td>9,796,109</td>\n",
       "      <td>283,808,502,900</td>\n",
       "    </tr>\n",
       "    <tr>\n",
       "      <th>3</th>\n",
       "      <td>가온칩스</td>\n",
       "      <td>399720</td>\n",
       "      <td>2022/05/25</td>\n",
       "      <td>399720</td>\n",
       "      <td>2022/05/25</td>\n",
       "      <td>11,488,320</td>\n",
       "      <td>500</td>\n",
       "      <td>29,650</td>\n",
       "      <td>29,900</td>\n",
       "      <td>28,200</td>\n",
       "      <td>2,555,025</td>\n",
       "      <td>73,653,148,400</td>\n",
       "    </tr>\n",
       "    <tr>\n",
       "      <th>4</th>\n",
       "      <td>가온칩스</td>\n",
       "      <td>399720</td>\n",
       "      <td>2022/05/26</td>\n",
       "      <td>399720</td>\n",
       "      <td>2022/05/26</td>\n",
       "      <td>11,488,320</td>\n",
       "      <td>500</td>\n",
       "      <td>28,550</td>\n",
       "      <td>29,650</td>\n",
       "      <td>27,000</td>\n",
       "      <td>1,966,784</td>\n",
       "      <td>56,029,873,850</td>\n",
       "    </tr>\n",
       "  </tbody>\n",
       "</table>\n",
       "</div>"
      ],
      "text/plain": [
       "    회사명   거래소코드        회계년도  종목코드(축약)       매매년월일    상장주식수(주) 액면가(원)   시가(원)  \\\n",
       "0  가온칩스  399720  2022/05/20    399720  2022/05/20  11,488,320    500  24,150   \n",
       "1  가온칩스  399720  2022/05/23    399720  2022/05/23  11,488,320    500  26,400   \n",
       "2  가온칩스  399720  2022/05/24    399720  2022/05/24  11,488,320    500  26,650   \n",
       "3  가온칩스  399720  2022/05/25    399720  2022/05/25  11,488,320    500  29,650   \n",
       "4  가온칩스  399720  2022/05/26    399720  2022/05/26  11,488,320    500  28,550   \n",
       "\n",
       "    고가(원)   종가(원)      거래량(주)          거래대금(원)  \n",
       "0  30,500  27,100  19,492,306  499,287,960,850  \n",
       "1  32,000  26,500  11,860,501  351,710,373,200  \n",
       "2  31,500  30,500   9,796,109  283,808,502,900  \n",
       "3  29,900  28,200   2,555,025   73,653,148,400  \n",
       "4  29,650  27,000   1,966,784   56,029,873,850  "
      ]
     },
     "execution_count": 22,
     "metadata": {},
     "output_type": "execute_result"
    }
   ],
   "source": [
    "df_merge.head()"
   ]
  },
  {
   "cell_type": "code",
   "execution_count": 23,
   "id": "e59a14f9",
   "metadata": {},
   "outputs": [],
   "source": [
    "df_merge2 = df.copy()\n",
    "\n",
    "df_merge = df_merge[['회사명', '회계년도', '종가(원)']]"
   ]
  },
  {
   "cell_type": "code",
   "execution_count": 32,
   "id": "a62b6239",
   "metadata": {},
   "outputs": [
    {
     "data": {
      "text/html": [
       "<div>\n",
       "<style scoped>\n",
       "    .dataframe tbody tr th:only-of-type {\n",
       "        vertical-align: middle;\n",
       "    }\n",
       "\n",
       "    .dataframe tbody tr th {\n",
       "        vertical-align: top;\n",
       "    }\n",
       "\n",
       "    .dataframe thead th {\n",
       "        text-align: right;\n",
       "    }\n",
       "</style>\n",
       "<table border=\"1\" class=\"dataframe\">\n",
       "  <thead>\n",
       "    <tr style=\"text-align: right;\">\n",
       "      <th></th>\n",
       "      <th>회사명</th>\n",
       "      <th>회계년도</th>\n",
       "      <th>종가(원)</th>\n",
       "    </tr>\n",
       "  </thead>\n",
       "  <tbody>\n",
       "    <tr>\n",
       "      <th>0</th>\n",
       "      <td>가온칩스</td>\n",
       "      <td>2022/05/20</td>\n",
       "      <td>27,100</td>\n",
       "    </tr>\n",
       "    <tr>\n",
       "      <th>1</th>\n",
       "      <td>가온칩스</td>\n",
       "      <td>2022/05/23</td>\n",
       "      <td>26,500</td>\n",
       "    </tr>\n",
       "    <tr>\n",
       "      <th>2</th>\n",
       "      <td>가온칩스</td>\n",
       "      <td>2022/05/24</td>\n",
       "      <td>30,500</td>\n",
       "    </tr>\n",
       "    <tr>\n",
       "      <th>3</th>\n",
       "      <td>가온칩스</td>\n",
       "      <td>2022/05/25</td>\n",
       "      <td>28,200</td>\n",
       "    </tr>\n",
       "    <tr>\n",
       "      <th>4</th>\n",
       "      <td>가온칩스</td>\n",
       "      <td>2022/05/26</td>\n",
       "      <td>27,000</td>\n",
       "    </tr>\n",
       "  </tbody>\n",
       "</table>\n",
       "</div>"
      ],
      "text/plain": [
       "    회사명        회계년도   종가(원)\n",
       "0  가온칩스  2022/05/20  27,100\n",
       "1  가온칩스  2022/05/23  26,500\n",
       "2  가온칩스  2022/05/24  30,500\n",
       "3  가온칩스  2022/05/25  28,200\n",
       "4  가온칩스  2022/05/26  27,000"
      ]
     },
     "execution_count": 32,
     "metadata": {},
     "output_type": "execute_result"
    }
   ],
   "source": [
    "df_merge.columns\n",
    "df_merge.head()"
   ]
  },
  {
   "cell_type": "code",
   "execution_count": null,
   "id": "6cc76d66",
   "metadata": {},
   "outputs": [],
   "source": [
    "df_merge2 = df_merge.merge(df[['회사명', '공모가 (원)']], on='회사명', how='left')\n",
    "\n",
    "unique = df_merge2['회사명'].unique()\n",
    "unique"
   ]
  },
  {
   "cell_type": "code",
   "execution_count": 45,
   "id": "a3e2b140",
   "metadata": {},
   "outputs": [
    {
     "data": {
      "text/html": [
       "<div>\n",
       "<style scoped>\n",
       "    .dataframe tbody tr th:only-of-type {\n",
       "        vertical-align: middle;\n",
       "    }\n",
       "\n",
       "    .dataframe tbody tr th {\n",
       "        vertical-align: top;\n",
       "    }\n",
       "\n",
       "    .dataframe thead th {\n",
       "        text-align: right;\n",
       "    }\n",
       "</style>\n",
       "<table border=\"1\" class=\"dataframe\">\n",
       "  <thead>\n",
       "    <tr style=\"text-align: right;\">\n",
       "      <th></th>\n",
       "      <th>회사명</th>\n",
       "      <th>회계년도</th>\n",
       "      <th>종가(원)</th>\n",
       "      <th>공모가 (원)</th>\n",
       "    </tr>\n",
       "  </thead>\n",
       "  <tbody>\n",
       "    <tr>\n",
       "      <th>0</th>\n",
       "      <td>가온칩스</td>\n",
       "      <td>2022/05/20</td>\n",
       "      <td>27,100</td>\n",
       "      <td>14000.0</td>\n",
       "    </tr>\n",
       "    <tr>\n",
       "      <th>1</th>\n",
       "      <td>가온칩스</td>\n",
       "      <td>2022/05/23</td>\n",
       "      <td>26,500</td>\n",
       "      <td>14000.0</td>\n",
       "    </tr>\n",
       "    <tr>\n",
       "      <th>2</th>\n",
       "      <td>가온칩스</td>\n",
       "      <td>2022/05/24</td>\n",
       "      <td>30,500</td>\n",
       "      <td>14000.0</td>\n",
       "    </tr>\n",
       "    <tr>\n",
       "      <th>3</th>\n",
       "      <td>가온칩스</td>\n",
       "      <td>2022/05/25</td>\n",
       "      <td>28,200</td>\n",
       "      <td>14000.0</td>\n",
       "    </tr>\n",
       "    <tr>\n",
       "      <th>4</th>\n",
       "      <td>가온칩스</td>\n",
       "      <td>2022/05/26</td>\n",
       "      <td>27,000</td>\n",
       "      <td>14000.0</td>\n",
       "    </tr>\n",
       "    <tr>\n",
       "      <th>...</th>\n",
       "      <td>...</td>\n",
       "      <td>...</td>\n",
       "      <td>...</td>\n",
       "      <td>...</td>\n",
       "    </tr>\n",
       "    <tr>\n",
       "      <th>1043417</th>\n",
       "      <td>화승엔터프라이즈보통주</td>\n",
       "      <td>2024/12/23</td>\n",
       "      <td>8,610</td>\n",
       "      <td>NaN</td>\n",
       "    </tr>\n",
       "    <tr>\n",
       "      <th>1043418</th>\n",
       "      <td>화승엔터프라이즈보통주</td>\n",
       "      <td>2024/12/24</td>\n",
       "      <td>8,440</td>\n",
       "      <td>NaN</td>\n",
       "    </tr>\n",
       "    <tr>\n",
       "      <th>1043419</th>\n",
       "      <td>화승엔터프라이즈보통주</td>\n",
       "      <td>2024/12/26</td>\n",
       "      <td>8,390</td>\n",
       "      <td>NaN</td>\n",
       "    </tr>\n",
       "    <tr>\n",
       "      <th>1043420</th>\n",
       "      <td>화승엔터프라이즈보통주</td>\n",
       "      <td>2024/12/27</td>\n",
       "      <td>8,640</td>\n",
       "      <td>NaN</td>\n",
       "    </tr>\n",
       "    <tr>\n",
       "      <th>1043421</th>\n",
       "      <td>화승엔터프라이즈보통주</td>\n",
       "      <td>2024/12/30</td>\n",
       "      <td>8,650</td>\n",
       "      <td>NaN</td>\n",
       "    </tr>\n",
       "  </tbody>\n",
       "</table>\n",
       "<p>1043422 rows × 4 columns</p>\n",
       "</div>"
      ],
      "text/plain": [
       "                 회사명        회계년도   종가(원)  공모가 (원)\n",
       "0               가온칩스  2022/05/20  27,100  14000.0\n",
       "1               가온칩스  2022/05/23  26,500  14000.0\n",
       "2               가온칩스  2022/05/24  30,500  14000.0\n",
       "3               가온칩스  2022/05/25  28,200  14000.0\n",
       "4               가온칩스  2022/05/26  27,000  14000.0\n",
       "...              ...         ...     ...      ...\n",
       "1043417  화승엔터프라이즈보통주  2024/12/23   8,610      NaN\n",
       "1043418  화승엔터프라이즈보통주  2024/12/24   8,440      NaN\n",
       "1043419  화승엔터프라이즈보통주  2024/12/26   8,390      NaN\n",
       "1043420  화승엔터프라이즈보통주  2024/12/27   8,640      NaN\n",
       "1043421  화승엔터프라이즈보통주  2024/12/30   8,650      NaN\n",
       "\n",
       "[1043422 rows x 4 columns]"
      ]
     },
     "execution_count": 45,
     "metadata": {},
     "output_type": "execute_result"
    }
   ],
   "source": [
    "df_merge2[df_merge2['회사명'].isin(unique)]\n"
   ]
  },
  {
   "cell_type": "code",
   "execution_count": 35,
   "id": "0dd340dc",
   "metadata": {},
   "outputs": [
    {
     "name": "stdout",
     "output_type": "stream",
     "text": [
      "<class 'pandas.core.frame.DataFrame'>\n",
      "RangeIndex: 1043422 entries, 0 to 1043421\n",
      "Data columns (total 4 columns):\n",
      " #   Column   Non-Null Count    Dtype  \n",
      "---  ------   --------------    -----  \n",
      " 0   회사명      1043422 non-null  object \n",
      " 1   회계년도     1043422 non-null  object \n",
      " 2   종가(원)    1043422 non-null  object \n",
      " 3   공모가 (원)  473562 non-null   float64\n",
      "dtypes: float64(1), object(3)\n",
      "memory usage: 31.8+ MB\n"
     ]
    }
   ],
   "source": [
    "df_merge2.info()"
   ]
  },
  {
   "cell_type": "code",
   "execution_count": null,
   "id": "189e0c69",
   "metadata": {},
   "outputs": [
    {
     "data": {
      "text/plain": [
       "465"
      ]
     },
     "execution_count": 48,
     "metadata": {},
     "output_type": "execute_result"
    }
   ],
   "source": [
    "unique_names_with_price = df_merge2[df_merge2['공모가 (원)'].notna()]['회사명'].unique()\n",
    "len(unique_names_with_price)"
   ]
  },
  {
   "cell_type": "code",
   "execution_count": 58,
   "id": "f1354fd5",
   "metadata": {},
   "outputs": [
    {
     "name": "stderr",
     "output_type": "stream",
     "text": [
      "C:\\Users\\Ph.D.Huh\\AppData\\Local\\Temp\\ipykernel_69612\\2464434488.py:9: DtypeWarning: Columns (6) have mixed types. Specify dtype option on import or set low_memory=False.\n",
      "  df1 = pd.read_csv('../data/TS2000_주가/KOSDAQ_881_stock_data.csv')\n",
      "C:\\Users\\Ph.D.Huh\\AppData\\Local\\Temp\\ipykernel_69612\\2464434488.py:10: DtypeWarning: Columns (6) have mixed types. Specify dtype option on import or set low_memory=False.\n",
      "  df2 = pd.read_csv('../data/TS2000_주가/KOSPI_110_stock_data.csv')\n"
     ]
    },
    {
     "name": "stdout",
     "output_type": "stream",
     "text": [
      "df에 있는 유니크한 회사 수: 657개\n",
      "df_merge에 있는 유니크한 회사 수: 991개\n",
      "df에는 있지만 df_merge에는 없는 회사 수: 192개\n",
      "df에는 있지만 df_merge에는 없는 회사 목록 (일부): ['아시아나IDT', '에스와이패널', '시프트업', '대유위니아', '스코넥', '베스파', '에어부산', '쏘카', '민앤지', '우진아이엔에스']\n"
     ]
    }
   ],
   "source": [
    "import pandas as pd\n",
    "\n",
    "# df 불러오기 및 전처리\n",
    "df = pd.read_csv('../data/final_ratio_copy2.csv')\n",
    "df = df[['회사명_d1', '공모가 (원)']]\n",
    "df.rename(columns={'회사명_d1': '회사명'}, inplace=True)\n",
    "\n",
    "# df1, df2 불러오기 및 합치기\n",
    "df1 = pd.read_csv('../data/TS2000_주가/KOSDAQ_881_stock_data.csv')\n",
    "df2 = pd.read_csv('../data/TS2000_주가/KOSPI_110_stock_data.csv')\n",
    "df_merge = pd.concat([df1, df2])\n",
    "df_merge = df_merge[['회사명', '회계년도', '종가(원)']]\n",
    "\n",
    "# df에 있는 회사명 집합\n",
    "companies_in_df = set(df['회사명'].unique())\n",
    "\n",
    "# df_merge에 있는 회사명 집합\n",
    "companies_in_df_merge = set(df_merge['회사명'].unique())\n",
    "\n",
    "# df에는 있지만 df_merge에는 없는 회사명들\n",
    "companies_only_in_df = companies_in_df - companies_in_df_merge\n",
    "\n",
    "print(f\"df에 있는 유니크한 회사 수: {len(companies_in_df)}개\")\n",
    "print(f\"df_merge에 있는 유니크한 회사 수: {len(companies_in_df_merge)}개\")\n",
    "print(f\"df에는 있지만 df_merge에는 없는 회사 수: {len(companies_only_in_df)}개\")\n",
    "print(f\"df에는 있지만 df_merge에는 없는 회사 목록 (일부): {list(companies_only_in_df)[:10]}\") # 처음 10개만 출력"
   ]
  },
  {
   "cell_type": "code",
   "execution_count": 59,
   "id": "28357cc5",
   "metadata": {},
   "outputs": [],
   "source": [
    "# 예시: 종가(원) 컬럼 전처리 (필요시)\n",
    "df_merge['종가(원)'] = df_merge['종가(원)'].str.replace(',', '').astype(float)"
   ]
  },
  {
   "cell_type": "code",
   "execution_count": 60,
   "id": "4fbfcdf6",
   "metadata": {},
   "outputs": [
    {
     "data": {
      "text/plain": [
       "465"
      ]
     },
     "execution_count": 60,
     "metadata": {},
     "output_type": "execute_result"
    }
   ],
   "source": [
    "unique_names_with_price = df_merge2[df_merge2['공모가 (원)'].notna()]['회사명'].unique()\n",
    "len(unique_names_with_price)"
   ]
  },
  {
   "cell_type": "code",
   "execution_count": 61,
   "id": "42e2ceea",
   "metadata": {},
   "outputs": [
    {
     "name": "stderr",
     "output_type": "stream",
     "text": [
      "C:\\Users\\Ph.D.Huh\\AppData\\Local\\Temp\\ipykernel_69612\\209108864.py:11: DtypeWarning: Columns (6) have mixed types. Specify dtype option on import or set low_memory=False.\n",
      "  df1 = pd.read_csv('../data/TS2000_주가/KOSDAQ_881_stock_data.csv')\n",
      "C:\\Users\\Ph.D.Huh\\AppData\\Local\\Temp\\ipykernel_69612\\209108864.py:12: DtypeWarning: Columns (6) have mixed types. Specify dtype option on import or set low_memory=False.\n",
      "  df2 = pd.read_csv('../data/TS2000_주가/KOSPI_110_stock_data.csv')\n"
     ]
    },
    {
     "name": "stdout",
     "output_type": "stream",
     "text": [
      "전처리 후, 공모가 정보가 있는 유니크한 회사 수: 472\n",
      "전처리 후 df에는 있지만 df_merge에는 없는 회사 수: 185개\n",
      "전처리 후 df에는 있지만 df_merge에는 없는 회사 목록 (일부): ['아시아나IDT', '에스와이패널', '시프트업', '엘에스전선아시아', '대유위니아', '스코넥', '베스파', '에어부산', '쏘카', '민앤지']\n"
     ]
    }
   ],
   "source": [
    "import pandas as pd\n",
    "\n",
    "# df 불러오기 및 전처리\n",
    "df = pd.read_csv('../data/final_ratio_copy2.csv')\n",
    "df = df[['회사명_d1', '공모가 (원)']]\n",
    "df.rename(columns={'회사명_d1': '회사명'}, inplace=True)\n",
    "\n",
    "# df1, df2 불러오기 및 합치기\n",
    "# DtypeWarning을 명시적으로 처리하고 싶다면 dtype을 지정하거나, read_csv 후 타입을 변환할 수 있습니다.\n",
    "# 여기서는 회사명 전처리에 집중하므로 일단 read_csv는 그대로 둡니다.\n",
    "df1 = pd.read_csv('../data/TS2000_주가/KOSDAQ_881_stock_data.csv')\n",
    "df2 = pd.read_csv('../data/TS2000_주가/KOSPI_110_stock_data.csv')\n",
    "df_merge_raw = pd.concat([df1, df2]) # 전처리 전 원본 df_merge 이름을 다르게 저장\n",
    "\n",
    "df_merge = df_merge_raw[['회사명', '회계년도', '종가(원)']].copy() # SettingWithCopyWarning 방지 위해 .copy() 사용\n",
    "\n",
    "# --- 회사명 전처리 ---\n",
    "# 1. 양쪽 데이터프레임의 '회사명' 컬럼을 문자열 타입으로 강제 변환\n",
    "df['회사명'] = df['회사명'].astype(str)\n",
    "df_merge['회사명'] = df_merge['회사명'].astype(str)\n",
    "\n",
    "# 2. 모든 공백 제거 (띄어쓰기, 탭 등)\n",
    "df['회사명'] = df['회사명'].str.replace(r'\\s+', '', regex=True)\n",
    "df_merge['회사명'] = df_merge['회사명'].str.replace(r'\\s+', '', regex=True)\n",
    "\n",
    "# 3. 영문 대소문자 통일 (모두 대문자 또는 소문자)\n",
    "df['회사명'] = df['회사명'].str.upper()\n",
    "df_merge['회사명'] = df_merge['회사명'].str.upper()\n",
    "\n",
    "# 4. 특수문자 제거 (예: (주), 주식회사 등. 필요시 추가)\n",
    "# 예시: 괄호와 그 안의 내용 제거\n",
    "df['회사명'] = df['회사명'].str.replace(r'\\([^)]*\\)', '', regex=True)\n",
    "df_merge['회사명'] = df_merge['회사명'].str.replace(r'\\([^)]*\\)', '', regex=True)\n",
    "\n",
    "# 예시: '주식회사'나 '(주)' 제거 (더 포괄적으로)\n",
    "df['회사명'] = df['회사명'].str.replace(r'(주식회사|\\(주\\))', '', regex=True)\n",
    "df_merge['회사명'] = df_merge['회사명'].str.replace(r'(주식회사|\\(주\\))', '', regex=True)\n",
    "\n",
    "\n",
    "# 5. 불필요한 공백 다시 제거 (앞선 작업으로 인해 생길 수 있는 양쪽 끝 공백)\n",
    "df['회사명'] = df['회사명'].str.strip()\n",
    "df_merge['회사명'] = df_merge['회사명'].str.strip()\n",
    "\n",
    "\n",
    "# --- 병합 및 확인 ---\n",
    "df_merge2 = df_merge.merge(df[['회사명', '공모가 (원)']], on='회사명', how='left')\n",
    "\n",
    "unique_names_with_price = df_merge2[df_merge2['공모가 (원)'].notna()]['회사명'].unique()\n",
    "print(f\"전처리 후, 공모가 정보가 있는 유니크한 회사 수: {len(unique_names_with_price)}\")\n",
    "\n",
    "# 다시 매칭되지 않은 회사 목록 확인\n",
    "companies_in_df_after_clean = set(df['회사명'].unique())\n",
    "companies_in_df_merge_after_clean = set(df_merge['회사명'].unique())\n",
    "companies_still_only_in_df = companies_in_df_after_clean - companies_in_df_merge_after_clean\n",
    "\n",
    "print(f\"전처리 후 df에는 있지만 df_merge에는 없는 회사 수: {len(companies_still_only_in_df)}개\")\n",
    "print(f\"전처리 후 df에는 있지만 df_merge에는 없는 회사 목록 (일부): {list(companies_still_only_in_df)[:10]}\")"
   ]
  },
  {
   "cell_type": "code",
   "execution_count": 62,
   "id": "ee75cbc7",
   "metadata": {},
   "outputs": [
    {
     "name": "stdout",
     "output_type": "stream",
     "text": [
      "\n",
      "'대유위니아'는 전처리 후에도 df에는 있지만 df_merge에는 없습니다.\n",
      "df에서 '대유위니아'의 실제 값: '대유위니아' (길이: 5)\n",
      "df_merge에서 '대유위니아'의 실제 값: 'df_merge에 없음' (길이: 12)\n"
     ]
    }
   ],
   "source": [
    "# 특정 회사명 불일치 확인 예시 (위 전처리 코드 실행 후)\n",
    "company_name_to_check = '대유위니아' # 전처리된 이름으로 확인\n",
    "\n",
    "if company_name_to_check in companies_in_df_after_clean and \\\n",
    "   company_name_to_check not in companies_in_df_merge_after_clean:\n",
    "\n",
    "    print(f\"\\n'{company_name_to_check}'는 전처리 후에도 df에는 있지만 df_merge에는 없습니다.\")\n",
    "\n",
    "    # 각 데이터프레임에서 실제 저장된 값 확인\n",
    "    df_val = df[df['회사명'] == company_name_to_check]['회사명'].iloc[0] if company_name_to_check in df['회사명'].unique() else \"df에 없음\"\n",
    "    df_merge_val = df_merge[df_merge['회사명'] == company_name_to_check]['회사명'].iloc[0] if company_name_to_check in df_merge['회사명'].unique() else \"df_merge에 없음\"\n",
    "\n",
    "    print(f\"df에서 '{company_name_to_check}'의 실제 값: '{df_val}' (길이: {len(df_val) if isinstance(df_val, str) else 'N/A'})\")\n",
    "    print(f\"df_merge에서 '{company_name_to_check}'의 실제 값: '{df_merge_val}' (길이: {len(df_merge_val) if isinstance(df_merge_val, str) else 'N/A'})\")\n",
    "\n",
    "    # 더 자세한 문자열 비교 (유니코드 값 확인)\n",
    "    if isinstance(df_val, str) and isinstance(df_merge_val, str):\n",
    "        if df_val != \"df에 없음\" and df_merge_val != \"df_merge에 없음\":\n",
    "            print(f\"df_val 유니코드: {[ord(c) for c in df_val]}\")\n",
    "            print(f\"df_merge_val 유니코드: {[ord(c) for c in df_merge_val]}\")"
   ]
  },
  {
   "cell_type": "code",
   "execution_count": 63,
   "id": "1757fdc8",
   "metadata": {},
   "outputs": [
    {
     "name": "stdout",
     "output_type": "stream",
     "text": [
      "'대유위니아'는 전처리 후 df에 존재합니까? True\n",
      "'대유위니아'는 전처리 후 df_merge에 존재합니까? False\n",
      "df에서 '대유위니아'의 실제 값: '대유위니아' (길이: 5)\n",
      "df_val 유니코드: [45824, 50976, 50948, 45768, 50500]\n",
      "'대유위니아'는 df_merge에서 찾을 수 없습니다 (전처리 후).\n"
     ]
    }
   ],
   "source": [
    "# --- 특정 회사명 불일치 확인 ---\n",
    "company_name_to_check = '대유위니아'\n",
    "\n",
    "# df에 '대유위니아'가 실제로 있는지 확인\n",
    "is_in_df = company_name_to_check in df['회사명'].unique()\n",
    "# df_merge에 '대유위니아'가 실제로 있는지 확인\n",
    "is_in_df_merge = company_name_to_check in df_merge['회사명'].unique()\n",
    "\n",
    "print(f\"'{company_name_to_check}'는 전처리 후 df에 존재합니까? {is_in_df}\")\n",
    "print(f\"'{company_name_to_check}'는 전처리 후 df_merge에 존재합니까? {is_in_df_merge}\")\n",
    "\n",
    "\n",
    "if is_in_df:\n",
    "    df_val = df[df['회사명'] == company_name_to_check]['회사명'].iloc[0]\n",
    "    print(f\"df에서 '{company_name_to_check}'의 실제 값: '{df_val}' (길이: {len(df_val)})\")\n",
    "    print(f\"df_val 유니코드: {[ord(c) for c in df_val]}\")\n",
    "else:\n",
    "    print(f\"'{company_name_to_check}'는 df에서 찾을 수 없습니다 (전처리 후).\")\n",
    "\n",
    "\n",
    "if is_in_df_merge:\n",
    "    df_merge_val = df_merge[df_merge['회사명'] == company_name_to_check]['회사명'].iloc[0]\n",
    "    print(f\"df_merge에서 '{company_name_to_check}'의 실제 값: '{df_merge_val}' (길이: {len(df_merge_val)})\")\n",
    "    print(f\"df_merge_val 유니코드: {[ord(c) for c in df_merge_val]}\") # 이 부분을 추가하여 df_merge 쪽 유니코드도 확인합니다.\n",
    "else:\n",
    "    print(f\"'{company_name_to_check}'는 df_merge에서 찾을 수 없습니다 (전처리 후).\")"
   ]
  },
  {
   "cell_type": "code",
   "execution_count": null,
   "id": "3668c80b",
   "metadata": {},
   "outputs": [],
   "source": []
  }
 ],
 "metadata": {
  "kernelspec": {
   "display_name": "base",
   "language": "python",
   "name": "python3"
  },
  "language_info": {
   "codemirror_mode": {
    "name": "ipython",
    "version": 3
   },
   "file_extension": ".py",
   "mimetype": "text/x-python",
   "name": "python",
   "nbconvert_exporter": "python",
   "pygments_lexer": "ipython3",
   "version": "3.12.7"
  }
 },
 "nbformat": 4,
 "nbformat_minor": 5
}

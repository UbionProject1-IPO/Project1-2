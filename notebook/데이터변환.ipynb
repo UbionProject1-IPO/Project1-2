{
 "cells": [
  {
   "cell_type": "code",
   "execution_count": 253,
   "id": "1751891e",
   "metadata": {},
   "outputs": [],
   "source": [
    "import pandas as pd"
   ]
  },
  {
   "cell_type": "code",
   "execution_count": 254,
   "id": "ecfbd7f4",
   "metadata": {},
   "outputs": [],
   "source": [
    "df = pd.read_csv(\"../data/주가수익률/주가수익률_base.csv\")"
   ]
  },
  {
   "cell_type": "code",
   "execution_count": 255,
   "id": "1b660563",
   "metadata": {},
   "outputs": [],
   "source": [
    "pre = pd.read_csv(\"../data/pre_data.csv\")"
   ]
  },
  {
   "cell_type": "code",
   "execution_count": 256,
   "id": "9e0bbcf0",
   "metadata": {},
   "outputs": [],
   "source": [
    "cci = pd.read_csv(\"../data/경기국면/경기국면(경기동행).csv\")\n",
    "csi = pd.read_csv(\"../data/경기국면/경기국면(CSI).csv\")\n",
    "esi = pd.read_csv(\"../data/경기국면/경기국면(ESI).csv\")"
   ]
  },
  {
   "cell_type": "code",
   "execution_count": 257,
   "id": "5f1cc804",
   "metadata": {},
   "outputs": [
    {
     "data": {
      "text/plain": [
       "45"
      ]
     },
     "execution_count": 257,
     "metadata": {},
     "output_type": "execute_result"
    }
   ],
   "source": [
    "len(df.columns)"
   ]
  },
  {
   "cell_type": "code",
   "execution_count": 258,
   "id": "5aa5534c",
   "metadata": {},
   "outputs": [
    {
     "data": {
      "text/plain": [
       "Index(['Unnamed: 0.1', 'Unnamed: 0', '회사명', 'stock_code', '상장일',\n",
       "       'kospi200(-20)', 'nasdaq(-20)', 'putcall(-20)', 'VIXCLS',\n",
       "       '미국10년물국채금리수익률(-20)',\n",
       "       ...\n",
       "       '런던 코코아 선물 과거 데이터(-11~-15)', '런던 코코아 선물 과거 데이터(-16~-20)',\n",
       "       '육우(-1~-5)', '육우(-6~-10)', '육우(-11~-15)', '육우(-16~-20)',\n",
       "       '미국_대두(-1~-5)', '미국_대두(-6~-10)', '미국_대두(-11~-15)',\n",
       "       '미국_대두(-16~-20)'],\n",
       "      dtype='object', length=222)"
      ]
     },
     "execution_count": 258,
     "metadata": {},
     "output_type": "execute_result"
    }
   ],
   "source": [
    "pre.columns"
   ]
  },
  {
   "cell_type": "code",
   "execution_count": 259,
   "id": "8b438888",
   "metadata": {},
   "outputs": [],
   "source": [
    "pre.drop([\"Unnamed: 0\", \"Unnamed: 0.1\", \"WICS_large\", \"target_1d\", \"target_2d\",\n",
    "         \"target_7d\", \"target_15d\", \"target_1m\", \"target_3m\", \"target_6m\",\n",
    "          \"회사명_d1\", \"업종\", \"상장일\", \"유동자산\", \"유동부채\", \"부채총계\",\n",
    "          \"자본금\", \"자본총계\", \"매출액\", \"영업이익\", \"당기순이익\", \"회사명_bs\",\n",
    "          \"z_simplified\", \"corp_code\", \"kospi\", \"call\", \"modified_esi\", \"공모금액 (천원)\",\n",
    "          \"공모가 (원)\", \"상장일_ipo\", \"최초상장주식수 (주)\", \"상장주선인\",\n",
    "          \"log_TA\", \"log_S\", \"TA\", \"WC\", \"capital_deficit\"], axis=1, inplace=True)"
   ]
  },
  {
   "cell_type": "code",
   "execution_count": 260,
   "id": "83cec843",
   "metadata": {},
   "outputs": [
    {
     "data": {
      "text/plain": [
       "Index(['회사명', 'stock_code', 'kospi200(-20)', 'nasdaq(-20)', 'putcall(-20)',\n",
       "       'VIXCLS', '미국10년물국채금리수익률(-20)', '시장금리국고채3년', '환율변동률(-20)',\n",
       "       '코스피변동률(-20)',\n",
       "       ...\n",
       "       '런던 코코아 선물 과거 데이터(-11~-15)', '런던 코코아 선물 과거 데이터(-16~-20)',\n",
       "       '육우(-1~-5)', '육우(-6~-10)', '육우(-11~-15)', '육우(-16~-20)',\n",
       "       '미국_대두(-1~-5)', '미국_대두(-6~-10)', '미국_대두(-11~-15)',\n",
       "       '미국_대두(-16~-20)'],\n",
       "      dtype='object', length=185)"
      ]
     },
     "execution_count": 260,
     "metadata": {},
     "output_type": "execute_result"
    }
   ],
   "source": [
    "pre.columns"
   ]
  },
  {
   "cell_type": "code",
   "execution_count": 261,
   "id": "682020e2",
   "metadata": {},
   "outputs": [
    {
     "data": {
      "text/plain": [
       "185"
      ]
     },
     "execution_count": 261,
     "metadata": {},
     "output_type": "execute_result"
    }
   ],
   "source": [
    "len(pre.columns)"
   ]
  },
  {
   "cell_type": "code",
   "execution_count": null,
   "id": "9a6343f7",
   "metadata": {},
   "outputs": [],
   "source": [
    "fin = pd.merge(df, pre, how='left', on='회사명')"
   ]
  },
  {
   "cell_type": "code",
   "execution_count": 263,
   "id": "cb917aa5",
   "metadata": {},
   "outputs": [
    {
     "data": {
      "text/plain": [
       "Index(['1~5일 수익률 표준편차', '6~10일 수익률 표준편차', '11~15일 수익률 표준편차', '16~20일 수익률 표준편차',\n",
       "       'stock_code_x', 'kospi200(-20)_x', 'nasdaq(-20)_x', 'putcall(-20)_x',\n",
       "       'VIXCLS_x', '미국10년물국채금리수익률(-20)_x',\n",
       "       ...\n",
       "       '런던 코코아 선물 과거 데이터(-11~-15)', '런던 코코아 선물 과거 데이터(-16~-20)',\n",
       "       '육우(-1~-5)', '육우(-6~-10)', '육우(-11~-15)', '육우(-16~-20)',\n",
       "       '미국_대두(-1~-5)', '미국_대두(-6~-10)', '미국_대두(-11~-15)',\n",
       "       '미국_대두(-16~-20)'],\n",
       "      dtype='object', length=229)"
      ]
     },
     "execution_count": 263,
     "metadata": {},
     "output_type": "execute_result"
    }
   ],
   "source": [
    "fin.columns"
   ]
  },
  {
   "cell_type": "code",
   "execution_count": 264,
   "id": "6b9f3094",
   "metadata": {},
   "outputs": [
    {
     "data": {
      "text/html": [
       "<div>\n",
       "<style scoped>\n",
       "    .dataframe tbody tr th:only-of-type {\n",
       "        vertical-align: middle;\n",
       "    }\n",
       "\n",
       "    .dataframe tbody tr th {\n",
       "        vertical-align: top;\n",
       "    }\n",
       "\n",
       "    .dataframe thead th {\n",
       "        text-align: right;\n",
       "    }\n",
       "</style>\n",
       "<table border=\"1\" class=\"dataframe\">\n",
       "  <thead>\n",
       "    <tr style=\"text-align: right;\">\n",
       "      <th></th>\n",
       "      <th>회사명</th>\n",
       "      <th>상장일</th>\n",
       "      <th>경기국면</th>\n",
       "    </tr>\n",
       "  </thead>\n",
       "  <tbody>\n",
       "    <tr>\n",
       "      <th>0</th>\n",
       "      <td>바이오노트</td>\n",
       "      <td>2022-12</td>\n",
       "      <td>0</td>\n",
       "    </tr>\n",
       "    <tr>\n",
       "      <th>1</th>\n",
       "      <td>쏘카</td>\n",
       "      <td>2022-08</td>\n",
       "      <td>0</td>\n",
       "    </tr>\n",
       "    <tr>\n",
       "      <th>2</th>\n",
       "      <td>수산인더스트리</td>\n",
       "      <td>2022-08</td>\n",
       "      <td>0</td>\n",
       "    </tr>\n",
       "    <tr>\n",
       "      <th>3</th>\n",
       "      <td>LG에너지솔루션</td>\n",
       "      <td>2022-01</td>\n",
       "      <td>1</td>\n",
       "    </tr>\n",
       "    <tr>\n",
       "      <th>4</th>\n",
       "      <td>카카오페이</td>\n",
       "      <td>2021-11</td>\n",
       "      <td>1</td>\n",
       "    </tr>\n",
       "  </tbody>\n",
       "</table>\n",
       "</div>"
      ],
      "text/plain": [
       "        회사명      상장일  경기국면\n",
       "0     바이오노트  2022-12     0\n",
       "1        쏘카  2022-08     0\n",
       "2   수산인더스트리  2022-08     0\n",
       "3  LG에너지솔루션  2022-01     1\n",
       "4     카카오페이  2021-11     1"
      ]
     },
     "execution_count": 264,
     "metadata": {},
     "output_type": "execute_result"
    }
   ],
   "source": [
    "cci.head()"
   ]
  },
  {
   "cell_type": "code",
   "execution_count": 265,
   "id": "751e58ab",
   "metadata": {},
   "outputs": [],
   "source": [
    "cci = cci[['회사명','경기국면']]\n",
    "csi = csi[['회사명','경기국면']]\n",
    "esi = esi[['회사명','경기국면']]"
   ]
  },
  {
   "cell_type": "code",
   "execution_count": 266,
   "id": "5e16b730",
   "metadata": {},
   "outputs": [],
   "source": [
    "cci.columns = ['회사명','경기동행_경기국면']\n",
    "csi.columns = ['회사명','cis_경기국면']\n",
    "esi.columns = ['회사명','esi_경기국면']"
   ]
  },
  {
   "cell_type": "code",
   "execution_count": 267,
   "id": "ad829ab3",
   "metadata": {},
   "outputs": [],
   "source": [
    "a =  pd.merge(fin, cci, how = 'left', on = '회사명')"
   ]
  },
  {
   "cell_type": "code",
   "execution_count": 268,
   "id": "686e0d51",
   "metadata": {},
   "outputs": [],
   "source": [
    "b =  pd.merge(a, csi, how = 'left', on = '회사명')"
   ]
  },
  {
   "cell_type": "code",
   "execution_count": 269,
   "id": "aa2c1649",
   "metadata": {},
   "outputs": [],
   "source": [
    "whatjonghowanted =  pd.merge(b, esi, how = 'left', on = '회사명')"
   ]
  },
  {
   "cell_type": "code",
   "execution_count": 270,
   "id": "af2fbf61",
   "metadata": {},
   "outputs": [
    {
     "data": {
      "text/html": [
       "<div>\n",
       "<style scoped>\n",
       "    .dataframe tbody tr th:only-of-type {\n",
       "        vertical-align: middle;\n",
       "    }\n",
       "\n",
       "    .dataframe tbody tr th {\n",
       "        vertical-align: top;\n",
       "    }\n",
       "\n",
       "    .dataframe thead th {\n",
       "        text-align: right;\n",
       "    }\n",
       "</style>\n",
       "<table border=\"1\" class=\"dataframe\">\n",
       "  <thead>\n",
       "    <tr style=\"text-align: right;\">\n",
       "      <th></th>\n",
       "      <th>1~5일 수익률 표준편차</th>\n",
       "      <th>6~10일 수익률 표준편차</th>\n",
       "      <th>11~15일 수익률 표준편차</th>\n",
       "      <th>16~20일 수익률 표준편차</th>\n",
       "      <th>stock_code_x</th>\n",
       "      <th>kospi200(-20)_x</th>\n",
       "      <th>nasdaq(-20)_x</th>\n",
       "      <th>putcall(-20)_x</th>\n",
       "      <th>VIXCLS_x</th>\n",
       "      <th>미국10년물국채금리수익률(-20)_x</th>\n",
       "      <th>...</th>\n",
       "      <th>육우(-6~-10)</th>\n",
       "      <th>육우(-11~-15)</th>\n",
       "      <th>육우(-16~-20)</th>\n",
       "      <th>미국_대두(-1~-5)</th>\n",
       "      <th>미국_대두(-6~-10)</th>\n",
       "      <th>미국_대두(-11~-15)</th>\n",
       "      <th>미국_대두(-16~-20)</th>\n",
       "      <th>경기동행_경기국면</th>\n",
       "      <th>cis_경기국면</th>\n",
       "      <th>esi_경기국면</th>\n",
       "    </tr>\n",
       "  </thead>\n",
       "  <tbody>\n",
       "    <tr>\n",
       "      <th>0</th>\n",
       "      <td>0.089380</td>\n",
       "      <td>0.064986</td>\n",
       "      <td>0.029926</td>\n",
       "      <td>0.042214</td>\n",
       "      <td>95570</td>\n",
       "      <td>0.136329</td>\n",
       "      <td>-0.041492</td>\n",
       "      <td>0.070588</td>\n",
       "      <td>28.03</td>\n",
       "      <td>-0.083554</td>\n",
       "      <td>...</td>\n",
       "      <td>0.000675</td>\n",
       "      <td>0.002814</td>\n",
       "      <td>0.006510</td>\n",
       "      <td>0.026566</td>\n",
       "      <td>0.039119</td>\n",
       "      <td>0.018045</td>\n",
       "      <td>0.007878</td>\n",
       "      <td>0</td>\n",
       "      <td>1</td>\n",
       "      <td>0</td>\n",
       "    </tr>\n",
       "    <tr>\n",
       "      <th>1</th>\n",
       "      <td>0.055183</td>\n",
       "      <td>0.027244</td>\n",
       "      <td>0.010927</td>\n",
       "      <td>0.014312</td>\n",
       "      <td>211270</td>\n",
       "      <td>-0.176910</td>\n",
       "      <td>0.043876</td>\n",
       "      <td>0.194915</td>\n",
       "      <td>16.86</td>\n",
       "      <td>-0.004341</td>\n",
       "      <td>...</td>\n",
       "      <td>0.005886</td>\n",
       "      <td>0.003080</td>\n",
       "      <td>0.012941</td>\n",
       "      <td>0.002933</td>\n",
       "      <td>0.005522</td>\n",
       "      <td>0.002337</td>\n",
       "      <td>0.003509</td>\n",
       "      <td>1</td>\n",
       "      <td>1</td>\n",
       "      <td>0</td>\n",
       "    </tr>\n",
       "    <tr>\n",
       "      <th>2</th>\n",
       "      <td>0.494998</td>\n",
       "      <td>0.054747</td>\n",
       "      <td>0.020483</td>\n",
       "      <td>0.047155</td>\n",
       "      <td>241520</td>\n",
       "      <td>-0.212121</td>\n",
       "      <td>0.021733</td>\n",
       "      <td>-0.145455</td>\n",
       "      <td>11.71</td>\n",
       "      <td>0.123163</td>\n",
       "      <td>...</td>\n",
       "      <td>0.009908</td>\n",
       "      <td>0.009655</td>\n",
       "      <td>0.013420</td>\n",
       "      <td>0.004625</td>\n",
       "      <td>0.006165</td>\n",
       "      <td>0.013232</td>\n",
       "      <td>0.005535</td>\n",
       "      <td>0</td>\n",
       "      <td>0</td>\n",
       "      <td>0</td>\n",
       "    </tr>\n",
       "    <tr>\n",
       "      <th>3</th>\n",
       "      <td>0.358088</td>\n",
       "      <td>0.053057</td>\n",
       "      <td>0.021488</td>\n",
       "      <td>0.044340</td>\n",
       "      <td>245620</td>\n",
       "      <td>0.238400</td>\n",
       "      <td>0.018308</td>\n",
       "      <td>-0.010101</td>\n",
       "      <td>15.92</td>\n",
       "      <td>0.032975</td>\n",
       "      <td>...</td>\n",
       "      <td>0.003425</td>\n",
       "      <td>0.016975</td>\n",
       "      <td>0.004899</td>\n",
       "      <td>0.014253</td>\n",
       "      <td>0.010068</td>\n",
       "      <td>0.009282</td>\n",
       "      <td>0.008099</td>\n",
       "      <td>0</td>\n",
       "      <td>1</td>\n",
       "      <td>0</td>\n",
       "    </tr>\n",
       "    <tr>\n",
       "      <th>4</th>\n",
       "      <td>0.207570</td>\n",
       "      <td>0.075022</td>\n",
       "      <td>0.079149</td>\n",
       "      <td>0.022592</td>\n",
       "      <td>900290</td>\n",
       "      <td>0.009464</td>\n",
       "      <td>0.000777</td>\n",
       "      <td>-0.099237</td>\n",
       "      <td>13.46</td>\n",
       "      <td>0.123410</td>\n",
       "      <td>...</td>\n",
       "      <td>0.013306</td>\n",
       "      <td>0.013063</td>\n",
       "      <td>0.002660</td>\n",
       "      <td>0.006270</td>\n",
       "      <td>0.008804</td>\n",
       "      <td>0.007971</td>\n",
       "      <td>0.003389</td>\n",
       "      <td>0</td>\n",
       "      <td>1</td>\n",
       "      <td>0</td>\n",
       "    </tr>\n",
       "    <tr>\n",
       "      <th>...</th>\n",
       "      <td>...</td>\n",
       "      <td>...</td>\n",
       "      <td>...</td>\n",
       "      <td>...</td>\n",
       "      <td>...</td>\n",
       "      <td>...</td>\n",
       "      <td>...</td>\n",
       "      <td>...</td>\n",
       "      <td>...</td>\n",
       "      <td>...</td>\n",
       "      <td>...</td>\n",
       "      <td>...</td>\n",
       "      <td>...</td>\n",
       "      <td>...</td>\n",
       "      <td>...</td>\n",
       "      <td>...</td>\n",
       "      <td>...</td>\n",
       "      <td>...</td>\n",
       "      <td>...</td>\n",
       "      <td>...</td>\n",
       "      <td>...</td>\n",
       "    </tr>\n",
       "    <tr>\n",
       "      <th>505</th>\n",
       "      <td>0.026507</td>\n",
       "      <td>0.038630</td>\n",
       "      <td>0.021920</td>\n",
       "      <td>0.020494</td>\n",
       "      <td>241590</td>\n",
       "      <td>0.220588</td>\n",
       "      <td>0.004731</td>\n",
       "      <td>0.330000</td>\n",
       "      <td>13.63</td>\n",
       "      <td>0.016240</td>\n",
       "      <td>...</td>\n",
       "      <td>0.004789</td>\n",
       "      <td>0.004015</td>\n",
       "      <td>0.007106</td>\n",
       "      <td>0.008225</td>\n",
       "      <td>0.007027</td>\n",
       "      <td>0.016040</td>\n",
       "      <td>0.013869</td>\n",
       "      <td>0</td>\n",
       "      <td>1</td>\n",
       "      <td>0</td>\n",
       "    </tr>\n",
       "    <tr>\n",
       "      <th>506</th>\n",
       "      <td>0.307025</td>\n",
       "      <td>0.070693</td>\n",
       "      <td>0.081862</td>\n",
       "      <td>0.026760</td>\n",
       "      <td>290270</td>\n",
       "      <td>-0.278547</td>\n",
       "      <td>0.015931</td>\n",
       "      <td>0.328767</td>\n",
       "      <td>12.19</td>\n",
       "      <td>0.060360</td>\n",
       "      <td>...</td>\n",
       "      <td>0.005440</td>\n",
       "      <td>0.010161</td>\n",
       "      <td>0.006652</td>\n",
       "      <td>0.018286</td>\n",
       "      <td>0.006120</td>\n",
       "      <td>0.002248</td>\n",
       "      <td>0.014386</td>\n",
       "      <td>0</td>\n",
       "      <td>1</td>\n",
       "      <td>0</td>\n",
       "    </tr>\n",
       "    <tr>\n",
       "      <th>507</th>\n",
       "      <td>0.066710</td>\n",
       "      <td>0.020265</td>\n",
       "      <td>0.023937</td>\n",
       "      <td>0.013088</td>\n",
       "      <td>145020</td>\n",
       "      <td>0.052092</td>\n",
       "      <td>-0.013723</td>\n",
       "      <td>0.170455</td>\n",
       "      <td>15.74</td>\n",
       "      <td>0.015737</td>\n",
       "      <td>...</td>\n",
       "      <td>0.023168</td>\n",
       "      <td>0.013361</td>\n",
       "      <td>0.009424</td>\n",
       "      <td>0.002930</td>\n",
       "      <td>0.011968</td>\n",
       "      <td>0.004078</td>\n",
       "      <td>0.013324</td>\n",
       "      <td>1</td>\n",
       "      <td>1</td>\n",
       "      <td>0</td>\n",
       "    </tr>\n",
       "    <tr>\n",
       "      <th>508</th>\n",
       "      <td>0.700850</td>\n",
       "      <td>0.009627</td>\n",
       "      <td>0.049481</td>\n",
       "      <td>0.044956</td>\n",
       "      <td>189980</td>\n",
       "      <td>-0.112914</td>\n",
       "      <td>0.011753</td>\n",
       "      <td>0.000000</td>\n",
       "      <td>13.39</td>\n",
       "      <td>-0.089534</td>\n",
       "      <td>...</td>\n",
       "      <td>0.005779</td>\n",
       "      <td>0.005266</td>\n",
       "      <td>0.007570</td>\n",
       "      <td>0.008782</td>\n",
       "      <td>0.009124</td>\n",
       "      <td>0.012911</td>\n",
       "      <td>0.006392</td>\n",
       "      <td>0</td>\n",
       "      <td>1</td>\n",
       "      <td>0</td>\n",
       "    </tr>\n",
       "    <tr>\n",
       "      <th>509</th>\n",
       "      <td>0.299234</td>\n",
       "      <td>0.033815</td>\n",
       "      <td>0.051554</td>\n",
       "      <td>0.020914</td>\n",
       "      <td>238490</td>\n",
       "      <td>-0.050089</td>\n",
       "      <td>0.024237</td>\n",
       "      <td>-0.054545</td>\n",
       "      <td>9.58</td>\n",
       "      <td>0.059235</td>\n",
       "      <td>...</td>\n",
       "      <td>0.012365</td>\n",
       "      <td>0.015722</td>\n",
       "      <td>0.006489</td>\n",
       "      <td>0.004615</td>\n",
       "      <td>0.026142</td>\n",
       "      <td>0.007059</td>\n",
       "      <td>0.014664</td>\n",
       "      <td>1</td>\n",
       "      <td>1</td>\n",
       "      <td>1</td>\n",
       "    </tr>\n",
       "  </tbody>\n",
       "</table>\n",
       "<p>510 rows × 232 columns</p>\n",
       "</div>"
      ],
      "text/plain": [
       "     1~5일 수익률 표준편차  6~10일 수익률 표준편차  11~15일 수익률 표준편차  16~20일 수익률 표준편차  \\\n",
       "0         0.089380        0.064986         0.029926         0.042214   \n",
       "1         0.055183        0.027244         0.010927         0.014312   \n",
       "2         0.494998        0.054747         0.020483         0.047155   \n",
       "3         0.358088        0.053057         0.021488         0.044340   \n",
       "4         0.207570        0.075022         0.079149         0.022592   \n",
       "..             ...             ...              ...              ...   \n",
       "505       0.026507        0.038630         0.021920         0.020494   \n",
       "506       0.307025        0.070693         0.081862         0.026760   \n",
       "507       0.066710        0.020265         0.023937         0.013088   \n",
       "508       0.700850        0.009627         0.049481         0.044956   \n",
       "509       0.299234        0.033815         0.051554         0.020914   \n",
       "\n",
       "     stock_code_x  kospi200(-20)_x  nasdaq(-20)_x  putcall(-20)_x  VIXCLS_x  \\\n",
       "0           95570         0.136329      -0.041492        0.070588     28.03   \n",
       "1          211270        -0.176910       0.043876        0.194915     16.86   \n",
       "2          241520        -0.212121       0.021733       -0.145455     11.71   \n",
       "3          245620         0.238400       0.018308       -0.010101     15.92   \n",
       "4          900290         0.009464       0.000777       -0.099237     13.46   \n",
       "..            ...              ...            ...             ...       ...   \n",
       "505        241590         0.220588       0.004731        0.330000     13.63   \n",
       "506        290270        -0.278547       0.015931        0.328767     12.19   \n",
       "507        145020         0.052092      -0.013723        0.170455     15.74   \n",
       "508        189980        -0.112914       0.011753        0.000000     13.39   \n",
       "509        238490        -0.050089       0.024237       -0.054545      9.58   \n",
       "\n",
       "     미국10년물국채금리수익률(-20)_x  ...  육우(-6~-10)  육우(-11~-15)  육우(-16~-20)  \\\n",
       "0               -0.083554  ...       0.000675        0.002814        0.006510   \n",
       "1               -0.004341  ...       0.005886        0.003080        0.012941   \n",
       "2                0.123163  ...       0.009908        0.009655        0.013420   \n",
       "3                0.032975  ...       0.003425        0.016975        0.004899   \n",
       "4                0.123410  ...       0.013306        0.013063        0.002660   \n",
       "..                    ...  ...            ...             ...             ...   \n",
       "505              0.016240  ...       0.004789        0.004015        0.007106   \n",
       "506              0.060360  ...       0.005440        0.010161        0.006652   \n",
       "507              0.015737  ...       0.023168        0.013361        0.009424   \n",
       "508             -0.089534  ...       0.005779        0.005266        0.007570   \n",
       "509              0.059235  ...       0.012365        0.015722        0.006489   \n",
       "\n",
       "     미국_대두(-1~-5)  미국_대두(-6~-10)  미국_대두(-11~-15)  \\\n",
       "0             0.026566            0.039119             0.018045   \n",
       "1             0.002933            0.005522             0.002337   \n",
       "2             0.004625            0.006165             0.013232   \n",
       "3             0.014253            0.010068             0.009282   \n",
       "4             0.006270            0.008804             0.007971   \n",
       "..                 ...                 ...                  ...   \n",
       "505           0.008225            0.007027             0.016040   \n",
       "506           0.018286            0.006120             0.002248   \n",
       "507           0.002930            0.011968             0.004078   \n",
       "508           0.008782            0.009124             0.012911   \n",
       "509           0.004615            0.026142             0.007059   \n",
       "\n",
       "     미국_대두(-16~-20)  경기동행_경기국면  cis_경기국면  esi_경기국면  \n",
       "0               0.007878          0         1         0  \n",
       "1               0.003509          1         1         0  \n",
       "2               0.005535          0         0         0  \n",
       "3               0.008099          0         1         0  \n",
       "4               0.003389          0         1         0  \n",
       "..                   ...        ...       ...       ...  \n",
       "505             0.013869          0         1         0  \n",
       "506             0.014386          0         1         0  \n",
       "507             0.013324          1         1         0  \n",
       "508             0.006392          0         1         0  \n",
       "509             0.014664          1         1         1  \n",
       "\n",
       "[510 rows x 232 columns]"
      ]
     },
     "execution_count": 270,
     "metadata": {},
     "output_type": "execute_result"
    }
   ],
   "source": [
    "whatjonghowanted"
   ]
  },
  {
   "cell_type": "code",
   "execution_count": 272,
   "id": "a71bff3e",
   "metadata": {},
   "outputs": [
    {
     "name": "stdout",
     "output_type": "stream",
     "text": [
      "중복 컬럼명: []\n"
     ]
    }
   ],
   "source": [
    "dup_cols =whatjonghowanted.columns[whatjonghowanted.columns.duplicated()].tolist()\n",
    "print(\"중복 컬럼명:\", dup_cols)"
   ]
  },
  {
   "cell_type": "code",
   "execution_count": 276,
   "id": "b9b7b726",
   "metadata": {},
   "outputs": [
    {
     "data": {
      "text/plain": [
       "Index(['roe_nan_x', 'stock_code_y', 'kospi200(-20)_y', 'nasdaq(-20)_y',\n",
       "       'putcall(-20)_y', 'VIXCLS_y', '미국10년물국채금리수익률(-20)_y', '시장금리국고채3년_y',\n",
       "       '환율변동률(-20)_y', '코스피변동률(-20)_y', '코스닥변동률(-20)_y', '6개월 확약_y',\n",
       "       '3개월 확약_y', '1개월 확약_y', '15일 확약_y', '미확약_y', '수요예측_최종값_y', '업력_y',\n",
       "       'wc_neg_dummy_y', 'ta_negative_y', 'current_ratio_y', 'wc_sales_y',\n",
       "       'wc_ta_y', 'cl_tl_y', 'de_ratio_y', 'equity_ratio_y', 'cs_te_y',\n",
       "       'debt_asset_y', 'op_margin_y', 'net_margin_y', 'roe_y',\n",
       "       'roe_sign_dummy_y', 'roe_nan_y', 'roa_y', 'oi_ta_y', 'ni_oi_ratio_y',\n",
       "       'asset_turnover_y', 'sales_equity_y', '우리사주조합_y', '기관투자자_y', '일반투자자_y'],\n",
       "      dtype='object')"
      ]
     },
     "execution_count": 276,
     "metadata": {},
     "output_type": "execute_result"
    }
   ],
   "source": [
    "dupe_vals = whatjonghowanted.loc[:, whatjonghowanted.T.duplicated()]   # 내용이 중복된 컬럼만 추출\n",
    "dupe_vals.columns"
   ]
  },
  {
   "cell_type": "code",
   "execution_count": 281,
   "id": "59439f43",
   "metadata": {},
   "outputs": [],
   "source": [
    "whatjonghowanted.to_csv(\n",
    "    r'../data/종호가원한것.csv',\n",
    "    index=False,            # 인덱스 칼럼(왼쪽 0,1,2...) 저장 안 함\n",
    "    encoding=\"utf-8-sig\",   # Excel 한글 깨짐 방지(BOM 포함)\n",
    "    float_format=\"%.4f\"   # 실수 4자리까지 표시 예시\n",
    ")"
   ]
  }
 ],
 "metadata": {
  "kernelspec": {
   "display_name": "base",
   "language": "python",
   "name": "python3"
  },
  "language_info": {
   "codemirror_mode": {
    "name": "ipython",
    "version": 3
   },
   "file_extension": ".py",
   "mimetype": "text/x-python",
   "name": "python",
   "nbconvert_exporter": "python",
   "pygments_lexer": "ipython3",
   "version": "3.12.7"
  }
 },
 "nbformat": 4,
 "nbformat_minor": 5
}

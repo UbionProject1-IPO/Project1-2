{
 "cells": [
  {
   "cell_type": "code",
   "execution_count": 1,
   "id": "db7ace47",
   "metadata": {},
   "outputs": [],
   "source": [
    "import pandas as pd\n",
    "\n"
   ]
  },
  {
   "cell_type": "code",
   "execution_count": 2,
   "id": "b4f6b92e",
   "metadata": {},
   "outputs": [
    {
     "ename": "FileNotFoundError",
     "evalue": "[Errno 2] No such file or directory: 'CSI.xlsx'",
     "output_type": "error",
     "traceback": [
      "\u001b[1;31m---------------------------------------------------------------------------\u001b[0m",
      "\u001b[1;31mFileNotFoundError\u001b[0m                         Traceback (most recent call last)",
      "Cell \u001b[1;32mIn[2], line 3\u001b[0m\n\u001b[0;32m      1\u001b[0m \u001b[38;5;28;01mimport\u001b[39;00m \u001b[38;5;21;01mpandas\u001b[39;00m \u001b[38;5;28;01mas\u001b[39;00m \u001b[38;5;21;01mpd\u001b[39;00m\n\u001b[1;32m----> 3\u001b[0m df \u001b[38;5;241m=\u001b[39m pd\u001b[38;5;241m.\u001b[39mread_excel(\u001b[38;5;124m'\u001b[39m\u001b[38;5;124mCSI.xlsx\u001b[39m\u001b[38;5;124m'\u001b[39m)\n\u001b[0;32m      4\u001b[0m \u001b[38;5;28mprint\u001b[39m(df\u001b[38;5;241m.\u001b[39mhead())\n\u001b[0;32m      5\u001b[0m \u001b[38;5;28mprint\u001b[39m(df\u001b[38;5;241m.\u001b[39mcolumns)\n",
      "File \u001b[1;32mc:\\Users\\user\\anaconda3\\envs\\base_clone\\Lib\\site-packages\\pandas\\io\\excel\\_base.py:495\u001b[0m, in \u001b[0;36mread_excel\u001b[1;34m(io, sheet_name, header, names, index_col, usecols, dtype, engine, converters, true_values, false_values, skiprows, nrows, na_values, keep_default_na, na_filter, verbose, parse_dates, date_parser, date_format, thousands, decimal, comment, skipfooter, storage_options, dtype_backend, engine_kwargs)\u001b[0m\n\u001b[0;32m    493\u001b[0m \u001b[38;5;28;01mif\u001b[39;00m \u001b[38;5;129;01mnot\u001b[39;00m \u001b[38;5;28misinstance\u001b[39m(io, ExcelFile):\n\u001b[0;32m    494\u001b[0m     should_close \u001b[38;5;241m=\u001b[39m \u001b[38;5;28;01mTrue\u001b[39;00m\n\u001b[1;32m--> 495\u001b[0m     io \u001b[38;5;241m=\u001b[39m ExcelFile(\n\u001b[0;32m    496\u001b[0m         io,\n\u001b[0;32m    497\u001b[0m         storage_options\u001b[38;5;241m=\u001b[39mstorage_options,\n\u001b[0;32m    498\u001b[0m         engine\u001b[38;5;241m=\u001b[39mengine,\n\u001b[0;32m    499\u001b[0m         engine_kwargs\u001b[38;5;241m=\u001b[39mengine_kwargs,\n\u001b[0;32m    500\u001b[0m     )\n\u001b[0;32m    501\u001b[0m \u001b[38;5;28;01melif\u001b[39;00m engine \u001b[38;5;129;01mand\u001b[39;00m engine \u001b[38;5;241m!=\u001b[39m io\u001b[38;5;241m.\u001b[39mengine:\n\u001b[0;32m    502\u001b[0m     \u001b[38;5;28;01mraise\u001b[39;00m \u001b[38;5;167;01mValueError\u001b[39;00m(\n\u001b[0;32m    503\u001b[0m         \u001b[38;5;124m\"\u001b[39m\u001b[38;5;124mEngine should not be specified when passing \u001b[39m\u001b[38;5;124m\"\u001b[39m\n\u001b[0;32m    504\u001b[0m         \u001b[38;5;124m\"\u001b[39m\u001b[38;5;124man ExcelFile - ExcelFile already has the engine set\u001b[39m\u001b[38;5;124m\"\u001b[39m\n\u001b[0;32m    505\u001b[0m     )\n",
      "File \u001b[1;32mc:\\Users\\user\\anaconda3\\envs\\base_clone\\Lib\\site-packages\\pandas\\io\\excel\\_base.py:1550\u001b[0m, in \u001b[0;36mExcelFile.__init__\u001b[1;34m(self, path_or_buffer, engine, storage_options, engine_kwargs)\u001b[0m\n\u001b[0;32m   1548\u001b[0m     ext \u001b[38;5;241m=\u001b[39m \u001b[38;5;124m\"\u001b[39m\u001b[38;5;124mxls\u001b[39m\u001b[38;5;124m\"\u001b[39m\n\u001b[0;32m   1549\u001b[0m \u001b[38;5;28;01melse\u001b[39;00m:\n\u001b[1;32m-> 1550\u001b[0m     ext \u001b[38;5;241m=\u001b[39m inspect_excel_format(\n\u001b[0;32m   1551\u001b[0m         content_or_path\u001b[38;5;241m=\u001b[39mpath_or_buffer, storage_options\u001b[38;5;241m=\u001b[39mstorage_options\n\u001b[0;32m   1552\u001b[0m     )\n\u001b[0;32m   1553\u001b[0m     \u001b[38;5;28;01mif\u001b[39;00m ext \u001b[38;5;129;01mis\u001b[39;00m \u001b[38;5;28;01mNone\u001b[39;00m:\n\u001b[0;32m   1554\u001b[0m         \u001b[38;5;28;01mraise\u001b[39;00m \u001b[38;5;167;01mValueError\u001b[39;00m(\n\u001b[0;32m   1555\u001b[0m             \u001b[38;5;124m\"\u001b[39m\u001b[38;5;124mExcel file format cannot be determined, you must specify \u001b[39m\u001b[38;5;124m\"\u001b[39m\n\u001b[0;32m   1556\u001b[0m             \u001b[38;5;124m\"\u001b[39m\u001b[38;5;124man engine manually.\u001b[39m\u001b[38;5;124m\"\u001b[39m\n\u001b[0;32m   1557\u001b[0m         )\n",
      "File \u001b[1;32mc:\\Users\\user\\anaconda3\\envs\\base_clone\\Lib\\site-packages\\pandas\\io\\excel\\_base.py:1402\u001b[0m, in \u001b[0;36minspect_excel_format\u001b[1;34m(content_or_path, storage_options)\u001b[0m\n\u001b[0;32m   1399\u001b[0m \u001b[38;5;28;01mif\u001b[39;00m \u001b[38;5;28misinstance\u001b[39m(content_or_path, \u001b[38;5;28mbytes\u001b[39m):\n\u001b[0;32m   1400\u001b[0m     content_or_path \u001b[38;5;241m=\u001b[39m BytesIO(content_or_path)\n\u001b[1;32m-> 1402\u001b[0m \u001b[38;5;28;01mwith\u001b[39;00m get_handle(\n\u001b[0;32m   1403\u001b[0m     content_or_path, \u001b[38;5;124m\"\u001b[39m\u001b[38;5;124mrb\u001b[39m\u001b[38;5;124m\"\u001b[39m, storage_options\u001b[38;5;241m=\u001b[39mstorage_options, is_text\u001b[38;5;241m=\u001b[39m\u001b[38;5;28;01mFalse\u001b[39;00m\n\u001b[0;32m   1404\u001b[0m ) \u001b[38;5;28;01mas\u001b[39;00m handle:\n\u001b[0;32m   1405\u001b[0m     stream \u001b[38;5;241m=\u001b[39m handle\u001b[38;5;241m.\u001b[39mhandle\n\u001b[0;32m   1406\u001b[0m     stream\u001b[38;5;241m.\u001b[39mseek(\u001b[38;5;241m0\u001b[39m)\n",
      "File \u001b[1;32mc:\\Users\\user\\anaconda3\\envs\\base_clone\\Lib\\site-packages\\pandas\\io\\common.py:882\u001b[0m, in \u001b[0;36mget_handle\u001b[1;34m(path_or_buf, mode, encoding, compression, memory_map, is_text, errors, storage_options)\u001b[0m\n\u001b[0;32m    873\u001b[0m         handle \u001b[38;5;241m=\u001b[39m \u001b[38;5;28mopen\u001b[39m(\n\u001b[0;32m    874\u001b[0m             handle,\n\u001b[0;32m    875\u001b[0m             ioargs\u001b[38;5;241m.\u001b[39mmode,\n\u001b[1;32m   (...)\u001b[0m\n\u001b[0;32m    878\u001b[0m             newline\u001b[38;5;241m=\u001b[39m\u001b[38;5;124m\"\u001b[39m\u001b[38;5;124m\"\u001b[39m,\n\u001b[0;32m    879\u001b[0m         )\n\u001b[0;32m    880\u001b[0m     \u001b[38;5;28;01melse\u001b[39;00m:\n\u001b[0;32m    881\u001b[0m         \u001b[38;5;66;03m# Binary mode\u001b[39;00m\n\u001b[1;32m--> 882\u001b[0m         handle \u001b[38;5;241m=\u001b[39m \u001b[38;5;28mopen\u001b[39m(handle, ioargs\u001b[38;5;241m.\u001b[39mmode)\n\u001b[0;32m    883\u001b[0m     handles\u001b[38;5;241m.\u001b[39mappend(handle)\n\u001b[0;32m    885\u001b[0m \u001b[38;5;66;03m# Convert BytesIO or file objects passed with an encoding\u001b[39;00m\n",
      "\u001b[1;31mFileNotFoundError\u001b[0m: [Errno 2] No such file or directory: 'CSI.xlsx'"
     ]
    }
   ],
   "source": [
    "import pandas as pd\n",
    "\n",
    "df = pd.read_excel('CSI.xlsx')\n",
    "print(df.head())\n",
    "print(df.columns)\n"
   ]
  },
  {
   "cell_type": "code",
   "execution_count": null,
   "id": "903ce84b",
   "metadata": {},
   "outputs": [
    {
     "data": {
      "text/html": [
       "<div>\n",
       "<style scoped>\n",
       "    .dataframe tbody tr th:only-of-type {\n",
       "        vertical-align: middle;\n",
       "    }\n",
       "\n",
       "    .dataframe tbody tr th {\n",
       "        vertical-align: top;\n",
       "    }\n",
       "\n",
       "    .dataframe thead th {\n",
       "        text-align: right;\n",
       "    }\n",
       "</style>\n",
       "<table border=\"1\" class=\"dataframe\">\n",
       "  <thead>\n",
       "    <tr style=\"text-align: right;\">\n",
       "      <th></th>\n",
       "      <th>Unnamed: 0</th>\n",
       "      <th>201501월</th>\n",
       "      <th>201502월</th>\n",
       "      <th>201503월</th>\n",
       "      <th>201504월</th>\n",
       "      <th>201505월</th>\n",
       "      <th>201506월</th>\n",
       "      <th>201507월</th>\n",
       "      <th>201508월</th>\n",
       "      <th>201509월</th>\n",
       "      <th>...</th>\n",
       "      <th>202403월</th>\n",
       "      <th>202404월</th>\n",
       "      <th>202405월</th>\n",
       "      <th>202406월</th>\n",
       "      <th>202407월</th>\n",
       "      <th>202408월</th>\n",
       "      <th>202409월</th>\n",
       "      <th>202410월</th>\n",
       "      <th>202411월</th>\n",
       "      <th>202412월</th>\n",
       "    </tr>\n",
       "  </thead>\n",
       "  <tbody>\n",
       "    <tr>\n",
       "      <th>0</th>\n",
       "      <td>소비자심리지수</td>\n",
       "      <td>103.1</td>\n",
       "      <td>103.8</td>\n",
       "      <td>102.0</td>\n",
       "      <td>104.8</td>\n",
       "      <td>106.2</td>\n",
       "      <td>98.8</td>\n",
       "      <td>100.8</td>\n",
       "      <td>102.2</td>\n",
       "      <td>103.4</td>\n",
       "      <td>...</td>\n",
       "      <td>100.7</td>\n",
       "      <td>100.7</td>\n",
       "      <td>98.4</td>\n",
       "      <td>100.9</td>\n",
       "      <td>103.6</td>\n",
       "      <td>100.8</td>\n",
       "      <td>100.0</td>\n",
       "      <td>101.8</td>\n",
       "      <td>100.7</td>\n",
       "      <td>88.2</td>\n",
       "    </tr>\n",
       "  </tbody>\n",
       "</table>\n",
       "<p>1 rows × 121 columns</p>\n",
       "</div>"
      ],
      "text/plain": [
       "  Unnamed: 0  201501월  201502월  201503월  201504월  201505월  201506월  201507월  \\\n",
       "0    소비자심리지수    103.1    103.8    102.0    104.8    106.2     98.8    100.8   \n",
       "\n",
       "   201508월  201509월  ...  202403월  202404월  202405월  202406월  202407월  \\\n",
       "0    102.2    103.4  ...    100.7    100.7     98.4    100.9    103.6   \n",
       "\n",
       "   202408월  202409월  202410월  202411월  202412월  \n",
       "0    100.8    100.0    101.8    100.7     88.2  \n",
       "\n",
       "[1 rows x 121 columns]"
      ]
     },
     "execution_count": 9,
     "metadata": {},
     "output_type": "execute_result"
    }
   ],
   "source": [
    "df.head()"
   ]
  },
  {
   "cell_type": "code",
   "execution_count": null,
   "id": "82d00faf",
   "metadata": {},
   "outputs": [
    {
     "name": "stdout",
     "output_type": "stream",
     "text": [
      "         소비자심리지수\n",
      "날짜              \n",
      "201501월    103.1\n",
      "201502월    103.8\n",
      "201503월    102.0\n",
      "201504월    104.8\n",
      "201505월    106.2\n"
     ]
    }
   ],
   "source": [
    "import pandas as pd\n",
    "\n",
    "# 1. 엑셀 파일 불러오기\n",
    "df = pd.read_excel('CSI.xlsx')\n",
    "\n",
    "# 2. 첫 번째 행 (0번)을 Series로 추출 (소비자심리지수 값)\n",
    "values = df.iloc[0, 1:]\n",
    "\n",
    "# 3. 첫 번째 행의 열 이름 (1번째 열부터: 날짜들)\n",
    "dates = df.columns[1:]\n",
    "\n",
    "# 4. DataFrame으로 만들기\n",
    "result = pd.DataFrame({\n",
    "    '날짜': dates,\n",
    "    '소비자심리지수': values.values\n",
    "})\n",
    "\n",
    "# 5. '날짜'를 인덱스로 설정하고, 값은 숫자형으로 변환\n",
    "result.set_index('날짜', inplace=True)\n",
    "result['소비자심리지수'] = pd.to_numeric(result['소비자심리지수'], errors='coerce')\n",
    "\n",
    "# 6. 확인\n",
    "print(result.head())\n"
   ]
  },
  {
   "cell_type": "code",
   "execution_count": null,
   "id": "b87cf953",
   "metadata": {},
   "outputs": [
    {
     "name": "stdout",
     "output_type": "stream",
     "text": [
      "            소비자심리지수\n",
      "날짜                 \n",
      "2015-01-01    103.1\n",
      "2015-02-01    103.8\n",
      "2015-03-01    102.0\n",
      "2015-04-01    104.8\n",
      "2015-05-01    106.2\n"
     ]
    }
   ],
   "source": [
    "# '월' 글자 제거\n",
    "result.index = result.index.str.replace('월', '')\n",
    "\n",
    "# datetime 변환 (format='%Y%m')\n",
    "result.index = pd.to_datetime(result.index, format='%Y%m')\n",
    "\n",
    "print(result.head())\n"
   ]
  },
  {
   "cell_type": "code",
   "execution_count": null,
   "id": "8f8c8161",
   "metadata": {},
   "outputs": [],
   "source": [
    "result.to_csv('CSI.csv')"
   ]
  },
  {
   "cell_type": "code",
   "execution_count": 3,
   "id": "0610b798",
   "metadata": {},
   "outputs": [
    {
     "name": "stdout",
     "output_type": "stream",
     "text": [
      "            소비자심리지수\n",
      "날짜                 \n",
      "2015-01-01    103.1\n",
      "2015-02-01    103.8\n",
      "2015-03-01    102.0\n",
      "2015-04-01    104.8\n",
      "2015-05-01    106.2\n"
     ]
    }
   ],
   "source": [
    "# \n",
    "csi = pd.read_csv('../data/CSI.csv', index_col=0, parse_dates=True)\n",
    "print(csi.head())"
   ]
  },
  {
   "cell_type": "code",
   "execution_count": 4,
   "id": "f6db74c5",
   "metadata": {},
   "outputs": [
    {
     "name": "stdout",
     "output_type": "stream",
     "text": [
      "         소비자심리지수\n",
      "날짜              \n",
      "2015-01    103.1\n",
      "2015-02    103.8\n",
      "2015-03    102.0\n",
      "2015-04    104.8\n",
      "2015-05    106.2\n"
     ]
    }
   ],
   "source": [
    "# csi 날짜컬럼 년-월 형태 변환\n",
    "csi.index = csi.index.strftime('%Y-%m')\n",
    "print(csi.head())"
   ]
  },
  {
   "cell_type": "code",
   "execution_count": 5,
   "id": "27c5bd1b",
   "metadata": {},
   "outputs": [
    {
     "name": "stdout",
     "output_type": "stream",
     "text": [
      "         경제심리지수(원계열)  경제심리지수(순환변동치)\n",
      "날짜                                 \n",
      "2024-12         83.3           90.1\n",
      "2024-11         93.0           91.2\n",
      "2024-10         92.8           92.2\n",
      "2024-09         94.0           92.9\n",
      "2024-08         94.5           93.4\n"
     ]
    }
   ],
   "source": [
    "esi = pd.read_csv('../data/ESI.csv', index_col=0, parse_dates=True)\n",
    "# esi 날짜컬럼 년-월 형태 변환\n",
    "esi.index = esi.index.strftime('%Y-%m')\n",
    "print(esi.head())"
   ]
  },
  {
   "cell_type": "code",
   "execution_count": null,
   "id": "ec5fe0a6",
   "metadata": {},
   "outputs": [],
   "source": []
  }
 ],
 "metadata": {
  "kernelspec": {
   "display_name": "base_clone",
   "language": "python",
   "name": "python3"
  },
  "language_info": {
   "codemirror_mode": {
    "name": "ipython",
    "version": 3
   },
   "file_extension": ".py",
   "mimetype": "text/x-python",
   "name": "python",
   "nbconvert_exporter": "python",
   "pygments_lexer": "ipython3",
   "version": "3.12.7"
  }
 },
 "nbformat": 4,
 "nbformat_minor": 5
}

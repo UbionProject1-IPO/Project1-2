{
 "cells": [
  {
   "cell_type": "code",
   "execution_count": null,
   "id": "db7ace47",
   "metadata": {},
   "outputs": [
    {
     "name": "stderr",
     "output_type": "stream",
     "text": [
      "c:\\Users\\Ph.D.Huh\\anaconda3\\Lib\\site-packages\\openpyxl\\styles\\stylesheet.py:237: UserWarning: Workbook contains no default style, apply openpyxl's default\n",
      "  warn(\"Workbook contains no default style, apply openpyxl's default\")\n"
     ]
    }
   ],
   "source": [
    "import pandas as pd\n",
    "\n"
   ]
  },
  {
   "cell_type": "code",
   "execution_count": 36,
   "id": "b4f6b92e",
   "metadata": {},
   "outputs": [
    {
     "name": "stdout",
     "output_type": "stream",
     "text": [
      "  Unnamed: 0  201501월  201502월  201503월  201504월  201505월  201506월  201507월  \\\n",
      "0    소비자심리지수    103.1    103.8    102.0    104.8    106.2     98.8    100.8   \n",
      "\n",
      "   201508월  201509월  ...  202403월  202404월  202405월  202406월  202407월  \\\n",
      "0    102.2    103.4  ...    100.7    100.7     98.4    100.9    103.6   \n",
      "\n",
      "   202408월  202409월  202410월  202411월  202412월  \n",
      "0    100.8    100.0    101.8    100.7     88.2  \n",
      "\n",
      "[1 rows x 121 columns]\n",
      "Index(['Unnamed: 0', '201501월', '201502월', '201503월', '201504월', '201505월',\n",
      "       '201506월', '201507월', '201508월', '201509월',\n",
      "       ...\n",
      "       '202403월', '202404월', '202405월', '202406월', '202407월', '202408월',\n",
      "       '202409월', '202410월', '202411월', '202412월'],\n",
      "      dtype='object', length=121)\n"
     ]
    }
   ],
   "source": [
    "import pandas as pd\n",
    "\n",
    "df = pd.read_excel('CSI.xlsx')\n",
    "print(df.head())\n",
    "print(df.columns)\n"
   ]
  },
  {
   "cell_type": "code",
   "execution_count": 9,
   "id": "903ce84b",
   "metadata": {},
   "outputs": [
    {
     "data": {
      "text/html": [
       "<div>\n",
       "<style scoped>\n",
       "    .dataframe tbody tr th:only-of-type {\n",
       "        vertical-align: middle;\n",
       "    }\n",
       "\n",
       "    .dataframe tbody tr th {\n",
       "        vertical-align: top;\n",
       "    }\n",
       "\n",
       "    .dataframe thead th {\n",
       "        text-align: right;\n",
       "    }\n",
       "</style>\n",
       "<table border=\"1\" class=\"dataframe\">\n",
       "  <thead>\n",
       "    <tr style=\"text-align: right;\">\n",
       "      <th></th>\n",
       "      <th>Unnamed: 0</th>\n",
       "      <th>201501월</th>\n",
       "      <th>201502월</th>\n",
       "      <th>201503월</th>\n",
       "      <th>201504월</th>\n",
       "      <th>201505월</th>\n",
       "      <th>201506월</th>\n",
       "      <th>201507월</th>\n",
       "      <th>201508월</th>\n",
       "      <th>201509월</th>\n",
       "      <th>...</th>\n",
       "      <th>202403월</th>\n",
       "      <th>202404월</th>\n",
       "      <th>202405월</th>\n",
       "      <th>202406월</th>\n",
       "      <th>202407월</th>\n",
       "      <th>202408월</th>\n",
       "      <th>202409월</th>\n",
       "      <th>202410월</th>\n",
       "      <th>202411월</th>\n",
       "      <th>202412월</th>\n",
       "    </tr>\n",
       "  </thead>\n",
       "  <tbody>\n",
       "    <tr>\n",
       "      <th>0</th>\n",
       "      <td>소비자심리지수</td>\n",
       "      <td>103.1</td>\n",
       "      <td>103.8</td>\n",
       "      <td>102.0</td>\n",
       "      <td>104.8</td>\n",
       "      <td>106.2</td>\n",
       "      <td>98.8</td>\n",
       "      <td>100.8</td>\n",
       "      <td>102.2</td>\n",
       "      <td>103.4</td>\n",
       "      <td>...</td>\n",
       "      <td>100.7</td>\n",
       "      <td>100.7</td>\n",
       "      <td>98.4</td>\n",
       "      <td>100.9</td>\n",
       "      <td>103.6</td>\n",
       "      <td>100.8</td>\n",
       "      <td>100.0</td>\n",
       "      <td>101.8</td>\n",
       "      <td>100.7</td>\n",
       "      <td>88.2</td>\n",
       "    </tr>\n",
       "  </tbody>\n",
       "</table>\n",
       "<p>1 rows × 121 columns</p>\n",
       "</div>"
      ],
      "text/plain": [
       "  Unnamed: 0  201501월  201502월  201503월  201504월  201505월  201506월  201507월  \\\n",
       "0    소비자심리지수    103.1    103.8    102.0    104.8    106.2     98.8    100.8   \n",
       "\n",
       "   201508월  201509월  ...  202403월  202404월  202405월  202406월  202407월  \\\n",
       "0    102.2    103.4  ...    100.7    100.7     98.4    100.9    103.6   \n",
       "\n",
       "   202408월  202409월  202410월  202411월  202412월  \n",
       "0    100.8    100.0    101.8    100.7     88.2  \n",
       "\n",
       "[1 rows x 121 columns]"
      ]
     },
     "execution_count": 9,
     "metadata": {},
     "output_type": "execute_result"
    }
   ],
   "source": [
    "df.head()"
   ]
  },
  {
   "cell_type": "code",
   "execution_count": 37,
   "id": "82d00faf",
   "metadata": {},
   "outputs": [
    {
     "name": "stdout",
     "output_type": "stream",
     "text": [
      "         소비자심리지수\n",
      "날짜              \n",
      "201501월    103.1\n",
      "201502월    103.8\n",
      "201503월    102.0\n",
      "201504월    104.8\n",
      "201505월    106.2\n"
     ]
    }
   ],
   "source": [
    "import pandas as pd\n",
    "\n",
    "# 1. 엑셀 파일 불러오기\n",
    "df = pd.read_excel('CSI.xlsx')\n",
    "\n",
    "# 2. 첫 번째 행 (0번)을 Series로 추출 (소비자심리지수 값)\n",
    "values = df.iloc[0, 1:]\n",
    "\n",
    "# 3. 첫 번째 행의 열 이름 (1번째 열부터: 날짜들)\n",
    "dates = df.columns[1:]\n",
    "\n",
    "# 4. DataFrame으로 만들기\n",
    "result = pd.DataFrame({\n",
    "    '날짜': dates,\n",
    "    '소비자심리지수': values.values\n",
    "})\n",
    "\n",
    "# 5. '날짜'를 인덱스로 설정하고, 값은 숫자형으로 변환\n",
    "result.set_index('날짜', inplace=True)\n",
    "result['소비자심리지수'] = pd.to_numeric(result['소비자심리지수'], errors='coerce')\n",
    "\n",
    "# 6. 확인\n",
    "print(result.head())\n"
   ]
  },
  {
   "cell_type": "code",
   "execution_count": 38,
   "id": "b87cf953",
   "metadata": {},
   "outputs": [
    {
     "name": "stdout",
     "output_type": "stream",
     "text": [
      "            소비자심리지수\n",
      "날짜                 \n",
      "2015-01-01    103.1\n",
      "2015-02-01    103.8\n",
      "2015-03-01    102.0\n",
      "2015-04-01    104.8\n",
      "2015-05-01    106.2\n"
     ]
    }
   ],
   "source": [
    "# '월' 글자 제거\n",
    "result.index = result.index.str.replace('월', '')\n",
    "\n",
    "# datetime 변환 (format='%Y%m')\n",
    "result.index = pd.to_datetime(result.index, format='%Y%m')\n",
    "\n",
    "print(result.head())\n"
   ]
  },
  {
   "cell_type": "code",
   "execution_count": 40,
   "id": "8f8c8161",
   "metadata": {},
   "outputs": [],
   "source": [
    "result.to_csv('CSI.csv')"
   ]
  },
  {
   "cell_type": "code",
   "execution_count": null,
   "id": "0610b798",
   "metadata": {},
   "outputs": [],
   "source": []
  }
 ],
 "metadata": {
  "kernelspec": {
   "display_name": "base",
   "language": "python",
   "name": "python3"
  },
  "language_info": {
   "codemirror_mode": {
    "name": "ipython",
    "version": 3
   },
   "file_extension": ".py",
   "mimetype": "text/x-python",
   "name": "python",
   "nbconvert_exporter": "python",
   "pygments_lexer": "ipython3",
   "version": "3.12.7"
  }
 },
 "nbformat": 4,
 "nbformat_minor": 5
}

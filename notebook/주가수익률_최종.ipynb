{
 "cells": [
  {
   "cell_type": "code",
   "execution_count": 16,
   "id": "0db3036f",
   "metadata": {},
   "outputs": [],
   "source": [
    "import pandas as pd"
   ]
  },
  {
   "cell_type": "code",
   "execution_count": 17,
   "id": "950d3fc0",
   "metadata": {},
   "outputs": [],
   "source": [
    "df = pd.read_csv('../data/주가수익률/final_ratio_copy2.csv')"
   ]
  },
  {
   "cell_type": "code",
   "execution_count": 18,
   "id": "52abf5f8",
   "metadata": {},
   "outputs": [
    {
     "data": {
      "text/html": [
       "<div>\n",
       "<style scoped>\n",
       "    .dataframe tbody tr th:only-of-type {\n",
       "        vertical-align: middle;\n",
       "    }\n",
       "\n",
       "    .dataframe tbody tr th {\n",
       "        vertical-align: top;\n",
       "    }\n",
       "\n",
       "    .dataframe thead th {\n",
       "        text-align: right;\n",
       "    }\n",
       "</style>\n",
       "<table border=\"1\" class=\"dataframe\">\n",
       "  <thead>\n",
       "    <tr style=\"text-align: right;\">\n",
       "      <th></th>\n",
       "      <th>회사명_d1</th>\n",
       "      <th>stock_code</th>\n",
       "      <th>공모가 (원)</th>\n",
       "    </tr>\n",
       "  </thead>\n",
       "  <tbody>\n",
       "    <tr>\n",
       "      <th>0</th>\n",
       "      <td>엠앤씨솔루션</td>\n",
       "      <td>484870</td>\n",
       "      <td>65000.0</td>\n",
       "    </tr>\n",
       "    <tr>\n",
       "      <th>1</th>\n",
       "      <td>더본코리아</td>\n",
       "      <td>475560</td>\n",
       "      <td>34000.0</td>\n",
       "    </tr>\n",
       "    <tr>\n",
       "      <th>2</th>\n",
       "      <td>전진건설로봇</td>\n",
       "      <td>79900</td>\n",
       "      <td>16500.0</td>\n",
       "    </tr>\n",
       "    <tr>\n",
       "      <th>3</th>\n",
       "      <td>산일전기</td>\n",
       "      <td>62040</td>\n",
       "      <td>35000.0</td>\n",
       "    </tr>\n",
       "    <tr>\n",
       "      <th>4</th>\n",
       "      <td>시프트업</td>\n",
       "      <td>462870</td>\n",
       "      <td>60000.0</td>\n",
       "    </tr>\n",
       "  </tbody>\n",
       "</table>\n",
       "</div>"
      ],
      "text/plain": [
       "   회사명_d1  stock_code  공모가 (원)\n",
       "0  엠앤씨솔루션      484870  65000.0\n",
       "1   더본코리아      475560  34000.0\n",
       "2  전진건설로봇       79900  16500.0\n",
       "3    산일전기       62040  35000.0\n",
       "4    시프트업      462870  60000.0"
      ]
     },
     "execution_count": 18,
     "metadata": {},
     "output_type": "execute_result"
    }
   ],
   "source": [
    "final_df = df[['회사명_d1', 'stock_code', '공모가 (원)']]\n",
    "final_df.head()"
   ]
  },
  {
   "cell_type": "code",
   "execution_count": 19,
   "id": "999ed4e1",
   "metadata": {},
   "outputs": [
    {
     "name": "stderr",
     "output_type": "stream",
     "text": [
      "C:\\Users\\Ph.D.Huh\\AppData\\Local\\Temp\\ipykernel_71476\\1917119410.py:1: DtypeWarning: Columns (6) have mixed types. Specify dtype option on import or set low_memory=False.\n",
      "  df1 = pd.read_csv('C:/Users/Ph.D.Huh/Documents/GitHub/UbionProject1_IPO/data/raw/TS_Data/KOSPI_110_stock_data.csv')\n"
     ]
    }
   ],
   "source": [
    "df1 = pd.read_csv('C:/Users/Ph.D.Huh/Documents/GitHub/UbionProject1_IPO/data/raw/TS_Data/KOSPI_110_stock_data.csv')"
   ]
  },
  {
   "cell_type": "code",
   "execution_count": 20,
   "id": "51bbbb19",
   "metadata": {},
   "outputs": [
    {
     "name": "stderr",
     "output_type": "stream",
     "text": [
      "C:\\Users\\Ph.D.Huh\\AppData\\Local\\Temp\\ipykernel_71476\\3317744289.py:1: DtypeWarning: Columns (6) have mixed types. Specify dtype option on import or set low_memory=False.\n",
      "  df2 = pd.read_csv('C:/Users/Ph.D.Huh/Documents/GitHub/UbionProject1_IPO/data/raw/TS_Data/KOSDAQ_881_stock_data.csv')\n"
     ]
    }
   ],
   "source": [
    "df2 = pd.read_csv('C:/Users/Ph.D.Huh/Documents/GitHub/UbionProject1_IPO/data/raw/TS_Data/KOSDAQ_881_stock_data.csv')"
   ]
  },
  {
   "cell_type": "code",
   "execution_count": 21,
   "id": "8449e006",
   "metadata": {},
   "outputs": [],
   "source": [
    "merged_df = pd.concat([df1, df2])"
   ]
  },
  {
   "cell_type": "code",
   "execution_count": 22,
   "id": "e3d58564",
   "metadata": {},
   "outputs": [
    {
     "data": {
      "text/html": [
       "<div>\n",
       "<style scoped>\n",
       "    .dataframe tbody tr th:only-of-type {\n",
       "        vertical-align: middle;\n",
       "    }\n",
       "\n",
       "    .dataframe tbody tr th {\n",
       "        vertical-align: top;\n",
       "    }\n",
       "\n",
       "    .dataframe thead th {\n",
       "        text-align: right;\n",
       "    }\n",
       "</style>\n",
       "<table border=\"1\" class=\"dataframe\">\n",
       "  <thead>\n",
       "    <tr style=\"text-align: right;\">\n",
       "      <th></th>\n",
       "      <th>회사명</th>\n",
       "      <th>거래소코드</th>\n",
       "      <th>회계년도</th>\n",
       "      <th>종목코드(축약)</th>\n",
       "      <th>매매년월일</th>\n",
       "      <th>상장주식수(주)</th>\n",
       "      <th>액면가(원)</th>\n",
       "      <th>시가(원)</th>\n",
       "      <th>고가(원)</th>\n",
       "      <th>종가(원)</th>\n",
       "      <th>거래량(주)</th>\n",
       "      <th>거래대금(원)</th>\n",
       "    </tr>\n",
       "  </thead>\n",
       "  <tbody>\n",
       "    <tr>\n",
       "      <th>0</th>\n",
       "      <td>AJ네트웍스보통주</td>\n",
       "      <td>95570</td>\n",
       "      <td>2015/08/21</td>\n",
       "      <td>95570</td>\n",
       "      <td>2015/08/21</td>\n",
       "      <td>9,364,459</td>\n",
       "      <td>5,000</td>\n",
       "      <td>30,900</td>\n",
       "      <td>36,500</td>\n",
       "      <td>35,500</td>\n",
       "      <td>1,994,022</td>\n",
       "      <td>64,841,739,950</td>\n",
       "    </tr>\n",
       "    <tr>\n",
       "      <th>1</th>\n",
       "      <td>AJ네트웍스보통주</td>\n",
       "      <td>95570</td>\n",
       "      <td>2015/08/24</td>\n",
       "      <td>95570</td>\n",
       "      <td>2015/08/24</td>\n",
       "      <td>9,364,459</td>\n",
       "      <td>5,000</td>\n",
       "      <td>33,500</td>\n",
       "      <td>34,700</td>\n",
       "      <td>32,400</td>\n",
       "      <td>392,831</td>\n",
       "      <td>12,926,256,800</td>\n",
       "    </tr>\n",
       "    <tr>\n",
       "      <th>2</th>\n",
       "      <td>AJ네트웍스보통주</td>\n",
       "      <td>95570</td>\n",
       "      <td>2015/08/25</td>\n",
       "      <td>95570</td>\n",
       "      <td>2015/08/25</td>\n",
       "      <td>9,364,459</td>\n",
       "      <td>5,000</td>\n",
       "      <td>33,050</td>\n",
       "      <td>33,650</td>\n",
       "      <td>31,100</td>\n",
       "      <td>242,730</td>\n",
       "      <td>7,808,534,250</td>\n",
       "    </tr>\n",
       "    <tr>\n",
       "      <th>3</th>\n",
       "      <td>AJ네트웍스보통주</td>\n",
       "      <td>95570</td>\n",
       "      <td>2015/08/26</td>\n",
       "      <td>95570</td>\n",
       "      <td>2015/08/26</td>\n",
       "      <td>9,364,459</td>\n",
       "      <td>5,000</td>\n",
       "      <td>31,300</td>\n",
       "      <td>38,800</td>\n",
       "      <td>35,450</td>\n",
       "      <td>703,721</td>\n",
       "      <td>25,144,972,800</td>\n",
       "    </tr>\n",
       "    <tr>\n",
       "      <th>4</th>\n",
       "      <td>AJ네트웍스보통주</td>\n",
       "      <td>95570</td>\n",
       "      <td>2015/08/27</td>\n",
       "      <td>95570</td>\n",
       "      <td>2015/08/27</td>\n",
       "      <td>9,364,459</td>\n",
       "      <td>5,000</td>\n",
       "      <td>36,200</td>\n",
       "      <td>40,300</td>\n",
       "      <td>37,850</td>\n",
       "      <td>499,913</td>\n",
       "      <td>18,764,860,300</td>\n",
       "    </tr>\n",
       "  </tbody>\n",
       "</table>\n",
       "</div>"
      ],
      "text/plain": [
       "         회사명  거래소코드        회계년도  종목코드(축약)       매매년월일   상장주식수(주) 액면가(원)  \\\n",
       "0  AJ네트웍스보통주  95570  2015/08/21     95570  2015/08/21  9,364,459  5,000   \n",
       "1  AJ네트웍스보통주  95570  2015/08/24     95570  2015/08/24  9,364,459  5,000   \n",
       "2  AJ네트웍스보통주  95570  2015/08/25     95570  2015/08/25  9,364,459  5,000   \n",
       "3  AJ네트웍스보통주  95570  2015/08/26     95570  2015/08/26  9,364,459  5,000   \n",
       "4  AJ네트웍스보통주  95570  2015/08/27     95570  2015/08/27  9,364,459  5,000   \n",
       "\n",
       "    시가(원)   고가(원)   종가(원)     거래량(주)         거래대금(원)  \n",
       "0  30,900  36,500  35,500  1,994,022  64,841,739,950  \n",
       "1  33,500  34,700  32,400    392,831  12,926,256,800  \n",
       "2  33,050  33,650  31,100    242,730   7,808,534,250  \n",
       "3  31,300  38,800  35,450    703,721  25,144,972,800  \n",
       "4  36,200  40,300  37,850    499,913  18,764,860,300  "
      ]
     },
     "execution_count": 22,
     "metadata": {},
     "output_type": "execute_result"
    }
   ],
   "source": [
    "merged_df.head()"
   ]
  },
  {
   "cell_type": "code",
   "execution_count": 23,
   "id": "759c6e62",
   "metadata": {},
   "outputs": [],
   "source": [
    "merged_df = merged_df[['회사명', '회계년도', '종목코드(축약)', '종가(원)']]"
   ]
  },
  {
   "cell_type": "code",
   "execution_count": 24,
   "id": "e8f0817b",
   "metadata": {},
   "outputs": [
    {
     "data": {
      "text/html": [
       "<div>\n",
       "<style scoped>\n",
       "    .dataframe tbody tr th:only-of-type {\n",
       "        vertical-align: middle;\n",
       "    }\n",
       "\n",
       "    .dataframe tbody tr th {\n",
       "        vertical-align: top;\n",
       "    }\n",
       "\n",
       "    .dataframe thead th {\n",
       "        text-align: right;\n",
       "    }\n",
       "</style>\n",
       "<table border=\"1\" class=\"dataframe\">\n",
       "  <thead>\n",
       "    <tr style=\"text-align: right;\">\n",
       "      <th></th>\n",
       "      <th>회사명</th>\n",
       "      <th>회계년도</th>\n",
       "      <th>종목코드(축약)</th>\n",
       "      <th>종가(원)</th>\n",
       "    </tr>\n",
       "  </thead>\n",
       "  <tbody>\n",
       "    <tr>\n",
       "      <th>0</th>\n",
       "      <td>AJ네트웍스보통주</td>\n",
       "      <td>2015/08/21</td>\n",
       "      <td>95570</td>\n",
       "      <td>35,500</td>\n",
       "    </tr>\n",
       "    <tr>\n",
       "      <th>1</th>\n",
       "      <td>AJ네트웍스보통주</td>\n",
       "      <td>2015/08/24</td>\n",
       "      <td>95570</td>\n",
       "      <td>32,400</td>\n",
       "    </tr>\n",
       "    <tr>\n",
       "      <th>2</th>\n",
       "      <td>AJ네트웍스보통주</td>\n",
       "      <td>2015/08/25</td>\n",
       "      <td>95570</td>\n",
       "      <td>31,100</td>\n",
       "    </tr>\n",
       "    <tr>\n",
       "      <th>3</th>\n",
       "      <td>AJ네트웍스보통주</td>\n",
       "      <td>2015/08/26</td>\n",
       "      <td>95570</td>\n",
       "      <td>35,450</td>\n",
       "    </tr>\n",
       "    <tr>\n",
       "      <th>4</th>\n",
       "      <td>AJ네트웍스보통주</td>\n",
       "      <td>2015/08/27</td>\n",
       "      <td>95570</td>\n",
       "      <td>37,850</td>\n",
       "    </tr>\n",
       "  </tbody>\n",
       "</table>\n",
       "</div>"
      ],
      "text/plain": [
       "         회사명        회계년도  종목코드(축약)   종가(원)\n",
       "0  AJ네트웍스보통주  2015/08/21     95570  35,500\n",
       "1  AJ네트웍스보통주  2015/08/24     95570  32,400\n",
       "2  AJ네트웍스보통주  2015/08/25     95570  31,100\n",
       "3  AJ네트웍스보통주  2015/08/26     95570  35,450\n",
       "4  AJ네트웍스보통주  2015/08/27     95570  37,850"
      ]
     },
     "execution_count": 24,
     "metadata": {},
     "output_type": "execute_result"
    }
   ],
   "source": [
    "merged_df.head()"
   ]
  },
  {
   "cell_type": "code",
   "execution_count": 25,
   "id": "5d9e3f91",
   "metadata": {},
   "outputs": [
    {
     "data": {
      "text/html": [
       "<div>\n",
       "<style scoped>\n",
       "    .dataframe tbody tr th:only-of-type {\n",
       "        vertical-align: middle;\n",
       "    }\n",
       "\n",
       "    .dataframe tbody tr th {\n",
       "        vertical-align: top;\n",
       "    }\n",
       "\n",
       "    .dataframe thead th {\n",
       "        text-align: right;\n",
       "    }\n",
       "</style>\n",
       "<table border=\"1\" class=\"dataframe\">\n",
       "  <thead>\n",
       "    <tr style=\"text-align: right;\">\n",
       "      <th></th>\n",
       "      <th>회사명_d1</th>\n",
       "      <th>stock_code</th>\n",
       "      <th>공모가 (원)</th>\n",
       "    </tr>\n",
       "  </thead>\n",
       "  <tbody>\n",
       "    <tr>\n",
       "      <th>0</th>\n",
       "      <td>엠앤씨솔루션</td>\n",
       "      <td>484870</td>\n",
       "      <td>65000.0</td>\n",
       "    </tr>\n",
       "    <tr>\n",
       "      <th>1</th>\n",
       "      <td>더본코리아</td>\n",
       "      <td>475560</td>\n",
       "      <td>34000.0</td>\n",
       "    </tr>\n",
       "    <tr>\n",
       "      <th>2</th>\n",
       "      <td>전진건설로봇</td>\n",
       "      <td>79900</td>\n",
       "      <td>16500.0</td>\n",
       "    </tr>\n",
       "    <tr>\n",
       "      <th>3</th>\n",
       "      <td>산일전기</td>\n",
       "      <td>62040</td>\n",
       "      <td>35000.0</td>\n",
       "    </tr>\n",
       "    <tr>\n",
       "      <th>4</th>\n",
       "      <td>시프트업</td>\n",
       "      <td>462870</td>\n",
       "      <td>60000.0</td>\n",
       "    </tr>\n",
       "  </tbody>\n",
       "</table>\n",
       "</div>"
      ],
      "text/plain": [
       "   회사명_d1  stock_code  공모가 (원)\n",
       "0  엠앤씨솔루션      484870  65000.0\n",
       "1   더본코리아      475560  34000.0\n",
       "2  전진건설로봇       79900  16500.0\n",
       "3    산일전기       62040  35000.0\n",
       "4    시프트업      462870  60000.0"
      ]
     },
     "execution_count": 25,
     "metadata": {},
     "output_type": "execute_result"
    }
   ],
   "source": [
    "final_df.head()"
   ]
  },
  {
   "cell_type": "code",
   "execution_count": 28,
   "id": "d46e6c90",
   "metadata": {},
   "outputs": [],
   "source": [
    "df3 = pd.read_csv('C:/Users/Ph.D.Huh/Documents/GitHub/UbionProject1_IPO/Trash/stock_no_specs.csv')"
   ]
  },
  {
   "cell_type": "code",
   "execution_count": 29,
   "id": "616a3c8f",
   "metadata": {},
   "outputs": [
    {
     "name": "stdout",
     "output_type": "stream",
     "text": [
      "<class 'pandas.core.frame.DataFrame'>\n",
      "RangeIndex: 670 entries, 0 to 669\n",
      "Data columns (total 13 columns):\n",
      " #   Column       Non-Null Count  Dtype \n",
      "---  ------       --------------  ----- \n",
      " 0   회사명          670 non-null    object\n",
      " 1   종목코드         670 non-null    int64 \n",
      " 2   상장일          670 non-null    object\n",
      " 3   상장유형         670 non-null    object\n",
      " 4   증권구분         670 non-null    object\n",
      " 5   업종           669 non-null    object\n",
      " 6   국적           670 non-null    object\n",
      " 7   상장주선인        670 non-null    object\n",
      " 8   액면가 (원)      670 non-null    object\n",
      " 9   공모가 (원)      670 non-null    object\n",
      " 10  공모금액 (천원)    670 non-null    object\n",
      " 11  주요제품         666 non-null    object\n",
      " 12  최초상장주식수 (주)  670 non-null    object\n",
      "dtypes: int64(1), object(12)\n",
      "memory usage: 68.2+ KB\n"
     ]
    }
   ],
   "source": [
    "df3.info()"
   ]
  },
  {
   "cell_type": "code",
   "execution_count": 31,
   "id": "f8998c0a",
   "metadata": {},
   "outputs": [],
   "source": [
    "df4 = pd.read_csv('C:/Users/Ph.D.Huh/Documents/GitHub/UbionProject1_IPO/Trash/spec.csv')"
   ]
  },
  {
   "cell_type": "code",
   "execution_count": 32,
   "id": "de2aa9ae",
   "metadata": {},
   "outputs": [
    {
     "name": "stdout",
     "output_type": "stream",
     "text": [
      "<class 'pandas.core.frame.DataFrame'>\n",
      "RangeIndex: 288 entries, 0 to 287\n",
      "Data columns (total 13 columns):\n",
      " #   Column       Non-Null Count  Dtype \n",
      "---  ------       --------------  ----- \n",
      " 0   회사명          288 non-null    object\n",
      " 1   종목코드         288 non-null    int64 \n",
      " 2   상장일          288 non-null    object\n",
      " 3   상장유형         288 non-null    object\n",
      " 4   증권구분         288 non-null    object\n",
      " 5   업종           288 non-null    object\n",
      " 6   국적           288 non-null    object\n",
      " 7   상장주선인        288 non-null    object\n",
      " 8   액면가 (원)      288 non-null    int64 \n",
      " 9   공모가 (원)      288 non-null    object\n",
      " 10  공모금액 (천원)    288 non-null    object\n",
      " 11  주요제품         276 non-null    object\n",
      " 12  최초상장주식수 (주)  288 non-null    object\n",
      "dtypes: int64(2), object(11)\n",
      "memory usage: 29.4+ KB\n"
     ]
    }
   ],
   "source": [
    "df4.info()"
   ]
  },
  {
   "cell_type": "code",
   "execution_count": 33,
   "id": "cc7cd4e6",
   "metadata": {},
   "outputs": [],
   "source": [
    "merged_df = merged_df[~merged_df['회사명'].isin(df4['회사명'])]\n"
   ]
  },
  {
   "cell_type": "code",
   "execution_count": 34,
   "id": "249a1628",
   "metadata": {},
   "outputs": [
    {
     "name": "stdout",
     "output_type": "stream",
     "text": [
      "<class 'pandas.core.frame.DataFrame'>\n",
      "Index: 1043422 entries, 0 to 903426\n",
      "Data columns (total 4 columns):\n",
      " #   Column    Non-Null Count    Dtype \n",
      "---  ------    --------------    ----- \n",
      " 0   회사명       1043422 non-null  object\n",
      " 1   회계년도      1043422 non-null  object\n",
      " 2   종목코드(축약)  1043422 non-null  int64 \n",
      " 3   종가(원)     1043422 non-null  object\n",
      "dtypes: int64(1), object(3)\n",
      "memory usage: 39.8+ MB\n"
     ]
    }
   ],
   "source": [
    "merged_df.info()"
   ]
  },
  {
   "cell_type": "code",
   "execution_count": 35,
   "id": "4e87aa50",
   "metadata": {},
   "outputs": [
    {
     "data": {
      "text/html": [
       "<div>\n",
       "<style scoped>\n",
       "    .dataframe tbody tr th:only-of-type {\n",
       "        vertical-align: middle;\n",
       "    }\n",
       "\n",
       "    .dataframe tbody tr th {\n",
       "        vertical-align: top;\n",
       "    }\n",
       "\n",
       "    .dataframe thead th {\n",
       "        text-align: right;\n",
       "    }\n",
       "</style>\n",
       "<table border=\"1\" class=\"dataframe\">\n",
       "  <thead>\n",
       "    <tr style=\"text-align: right;\">\n",
       "      <th></th>\n",
       "      <th>회사명</th>\n",
       "      <th>회계년도</th>\n",
       "      <th>종목코드(축약)</th>\n",
       "      <th>종가(원)</th>\n",
       "    </tr>\n",
       "  </thead>\n",
       "  <tbody>\n",
       "  </tbody>\n",
       "</table>\n",
       "</div>"
      ],
      "text/plain": [
       "Empty DataFrame\n",
       "Columns: [회사명, 회계년도, 종목코드(축약), 종가(원)]\n",
       "Index: []"
      ]
     },
     "execution_count": 35,
     "metadata": {},
     "output_type": "execute_result"
    }
   ],
   "source": [
    "merged_df[merged_df['회사명'].str.contains('스팩', na=False)]\n"
   ]
  },
  {
   "cell_type": "code",
   "execution_count": 36,
   "id": "74a8720c",
   "metadata": {},
   "outputs": [],
   "source": [
    "merged_df = merged_df[~merged_df['회사명'].str.contains('인수목적', na=False)]\n"
   ]
  },
  {
   "cell_type": "code",
   "execution_count": 37,
   "id": "50b7b347",
   "metadata": {},
   "outputs": [
    {
     "name": "stdout",
     "output_type": "stream",
     "text": [
      "<class 'pandas.core.frame.DataFrame'>\n",
      "Index: 954858 entries, 0 to 903426\n",
      "Data columns (total 4 columns):\n",
      " #   Column    Non-Null Count   Dtype \n",
      "---  ------    --------------   ----- \n",
      " 0   회사명       954858 non-null  object\n",
      " 1   회계년도      954858 non-null  object\n",
      " 2   종목코드(축약)  954858 non-null  int64 \n",
      " 3   종가(원)     954858 non-null  object\n",
      "dtypes: int64(1), object(3)\n",
      "memory usage: 36.4+ MB\n"
     ]
    }
   ],
   "source": [
    "merged_df.info()"
   ]
  },
  {
   "cell_type": "code",
   "execution_count": 38,
   "id": "45f64992",
   "metadata": {},
   "outputs": [],
   "source": [
    "merged_df['회사명'] = merged_df['회사명'].str.replace('보통주', '', regex=False).str.strip()\n"
   ]
  },
  {
   "cell_type": "code",
   "execution_count": 39,
   "id": "70622bef",
   "metadata": {},
   "outputs": [
    {
     "data": {
      "text/plain": [
       "794"
      ]
     },
     "execution_count": 39,
     "metadata": {},
     "output_type": "execute_result"
    }
   ],
   "source": [
    "len(merged_df['회사명'].unique())"
   ]
  },
  {
   "cell_type": "code",
   "execution_count": 40,
   "id": "0f2495f6",
   "metadata": {},
   "outputs": [],
   "source": [
    "spac_to_remove = ['케이프이에스제4호', '엔에이치스펙5호', '하나금융7호SPAC', '코디엠', '한국자산신탁',\n",
    "                  '미래에셋생명', '코리아에셋투자증권', '미래에셋벤처투자', '윙입푸드',\n",
    "                  '아주IB투자', '나우아이비캐피탈', '카카오뱅크', '아이엔지생명']\n",
    "\n",
    "merged_df = merged_df[~merged_df['회사명'].isin(spac_to_remove)]\n"
   ]
  },
  {
   "cell_type": "code",
   "execution_count": 41,
   "id": "9818edaf",
   "metadata": {},
   "outputs": [
    {
     "data": {
      "text/plain": [
       "789"
      ]
     },
     "execution_count": 41,
     "metadata": {},
     "output_type": "execute_result"
    }
   ],
   "source": [
    "len(merged_df['회사명'].unique())"
   ]
  },
  {
   "cell_type": "code",
   "execution_count": 42,
   "id": "09f35e30",
   "metadata": {},
   "outputs": [
    {
     "data": {
      "text/html": [
       "<div>\n",
       "<style scoped>\n",
       "    .dataframe tbody tr th:only-of-type {\n",
       "        vertical-align: middle;\n",
       "    }\n",
       "\n",
       "    .dataframe tbody tr th {\n",
       "        vertical-align: top;\n",
       "    }\n",
       "\n",
       "    .dataframe thead th {\n",
       "        text-align: right;\n",
       "    }\n",
       "</style>\n",
       "<table border=\"1\" class=\"dataframe\">\n",
       "  <thead>\n",
       "    <tr style=\"text-align: right;\">\n",
       "      <th></th>\n",
       "      <th>회사명_d1</th>\n",
       "      <th>stock_code</th>\n",
       "      <th>공모가 (원)</th>\n",
       "    </tr>\n",
       "  </thead>\n",
       "  <tbody>\n",
       "    <tr>\n",
       "      <th>5</th>\n",
       "      <td>HD현대마린솔루션</td>\n",
       "      <td>443060</td>\n",
       "      <td>83400.0</td>\n",
       "    </tr>\n",
       "    <tr>\n",
       "      <th>18</th>\n",
       "      <td>현대중공업</td>\n",
       "      <td>329180</td>\n",
       "      <td>60000.0</td>\n",
       "    </tr>\n",
       "    <tr>\n",
       "      <th>26</th>\n",
       "      <td>SK바이오사이언스</td>\n",
       "      <td>302440</td>\n",
       "      <td>65000.0</td>\n",
       "    </tr>\n",
       "    <tr>\n",
       "      <th>31</th>\n",
       "      <td>빅히트</td>\n",
       "      <td>352820</td>\n",
       "      <td>135000.0</td>\n",
       "    </tr>\n",
       "    <tr>\n",
       "      <th>33</th>\n",
       "      <td>센트랄모텍</td>\n",
       "      <td>308170</td>\n",
       "      <td>6000.0</td>\n",
       "    </tr>\n",
       "    <tr>\n",
       "      <th>...</th>\n",
       "      <td>...</td>\n",
       "      <td>...</td>\n",
       "      <td>...</td>\n",
       "    </tr>\n",
       "    <tr>\n",
       "      <th>649</th>\n",
       "      <td>에스엔텍</td>\n",
       "      <td>160600</td>\n",
       "      <td>6500.0</td>\n",
       "    </tr>\n",
       "    <tr>\n",
       "      <th>650</th>\n",
       "      <td>코아스템</td>\n",
       "      <td>166480</td>\n",
       "      <td>16000.0</td>\n",
       "    </tr>\n",
       "    <tr>\n",
       "      <th>651</th>\n",
       "      <td>세미콘라이트</td>\n",
       "      <td>214310</td>\n",
       "      <td>11300.0</td>\n",
       "    </tr>\n",
       "    <tr>\n",
       "      <th>654</th>\n",
       "      <td>제노포커스</td>\n",
       "      <td>187420</td>\n",
       "      <td>11000.0</td>\n",
       "    </tr>\n",
       "    <tr>\n",
       "      <th>655</th>\n",
       "      <td>유지인트</td>\n",
       "      <td>195990</td>\n",
       "      <td>15000.0</td>\n",
       "    </tr>\n",
       "  </tbody>\n",
       "</table>\n",
       "<p>128 rows × 3 columns</p>\n",
       "</div>"
      ],
      "text/plain": [
       "        회사명_d1  stock_code   공모가 (원)\n",
       "5    HD현대마린솔루션      443060   83400.0\n",
       "18       현대중공업      329180   60000.0\n",
       "26   SK바이오사이언스      302440   65000.0\n",
       "31         빅히트      352820  135000.0\n",
       "33       센트랄모텍      308170    6000.0\n",
       "..         ...         ...       ...\n",
       "649       에스엔텍      160600    6500.0\n",
       "650       코아스템      166480   16000.0\n",
       "651     세미콘라이트      214310   11300.0\n",
       "654      제노포커스      187420   11000.0\n",
       "655       유지인트      195990   15000.0\n",
       "\n",
       "[128 rows x 3 columns]"
      ]
     },
     "execution_count": 42,
     "metadata": {},
     "output_type": "execute_result"
    }
   ],
   "source": [
    "missing_companies = final_df[~final_df['회사명_d1'].isin(merged_df['회사명'])]\n",
    "missing_companies"
   ]
  },
  {
   "cell_type": "code",
   "execution_count": 43,
   "id": "f1460612",
   "metadata": {},
   "outputs": [
    {
     "data": {
      "text/plain": [
       "0      엠앤씨솔루션\n",
       "1       더본코리아\n",
       "2      전진건설로봇\n",
       "3        산일전기\n",
       "4        시프트업\n",
       "        ...  \n",
       "652      싸이맥스\n",
       "653     픽셀플러스\n",
       "654     제노포커스\n",
       "655      유지인트\n",
       "656      포시에스\n",
       "Name: 회사명_d1, Length: 657, dtype: object"
      ]
     },
     "execution_count": 43,
     "metadata": {},
     "output_type": "execute_result"
    }
   ],
   "source": [
    "final_df['회사명_d1']"
   ]
  },
  {
   "cell_type": "code",
   "execution_count": 44,
   "id": "5256db93",
   "metadata": {},
   "outputs": [
    {
     "data": {
      "text/html": [
       "<div>\n",
       "<style scoped>\n",
       "    .dataframe tbody tr th:only-of-type {\n",
       "        vertical-align: middle;\n",
       "    }\n",
       "\n",
       "    .dataframe tbody tr th {\n",
       "        vertical-align: top;\n",
       "    }\n",
       "\n",
       "    .dataframe thead th {\n",
       "        text-align: right;\n",
       "    }\n",
       "</style>\n",
       "<table border=\"1\" class=\"dataframe\">\n",
       "  <thead>\n",
       "    <tr style=\"text-align: right;\">\n",
       "      <th></th>\n",
       "      <th>회사명</th>\n",
       "      <th>회계년도</th>\n",
       "      <th>종목코드(축약)</th>\n",
       "      <th>종가(원)</th>\n",
       "    </tr>\n",
       "  </thead>\n",
       "  <tbody>\n",
       "    <tr>\n",
       "      <th>73727</th>\n",
       "      <td>에스케이바이오사이언스</td>\n",
       "      <td>2021/03/18</td>\n",
       "      <td>302440</td>\n",
       "      <td>169,000</td>\n",
       "    </tr>\n",
       "    <tr>\n",
       "      <th>73728</th>\n",
       "      <td>에스케이바이오사이언스</td>\n",
       "      <td>2021/03/19</td>\n",
       "      <td>302440</td>\n",
       "      <td>166,500</td>\n",
       "    </tr>\n",
       "    <tr>\n",
       "      <th>73729</th>\n",
       "      <td>에스케이바이오사이언스</td>\n",
       "      <td>2021/03/22</td>\n",
       "      <td>302440</td>\n",
       "      <td>144,000</td>\n",
       "    </tr>\n",
       "    <tr>\n",
       "      <th>73730</th>\n",
       "      <td>에스케이바이오사이언스</td>\n",
       "      <td>2021/03/23</td>\n",
       "      <td>302440</td>\n",
       "      <td>140,500</td>\n",
       "    </tr>\n",
       "    <tr>\n",
       "      <th>73731</th>\n",
       "      <td>에스케이바이오사이언스</td>\n",
       "      <td>2021/03/24</td>\n",
       "      <td>302440</td>\n",
       "      <td>136,500</td>\n",
       "    </tr>\n",
       "    <tr>\n",
       "      <th>...</th>\n",
       "      <td>...</td>\n",
       "      <td>...</td>\n",
       "      <td>...</td>\n",
       "      <td>...</td>\n",
       "    </tr>\n",
       "    <tr>\n",
       "      <th>74655</th>\n",
       "      <td>에스케이바이오사이언스</td>\n",
       "      <td>2024/12/23</td>\n",
       "      <td>302440</td>\n",
       "      <td>52,500</td>\n",
       "    </tr>\n",
       "    <tr>\n",
       "      <th>74656</th>\n",
       "      <td>에스케이바이오사이언스</td>\n",
       "      <td>2024/12/24</td>\n",
       "      <td>302440</td>\n",
       "      <td>50,300</td>\n",
       "    </tr>\n",
       "    <tr>\n",
       "      <th>74657</th>\n",
       "      <td>에스케이바이오사이언스</td>\n",
       "      <td>2024/12/26</td>\n",
       "      <td>302440</td>\n",
       "      <td>49,250</td>\n",
       "    </tr>\n",
       "    <tr>\n",
       "      <th>74658</th>\n",
       "      <td>에스케이바이오사이언스</td>\n",
       "      <td>2024/12/27</td>\n",
       "      <td>302440</td>\n",
       "      <td>49,950</td>\n",
       "    </tr>\n",
       "    <tr>\n",
       "      <th>74659</th>\n",
       "      <td>에스케이바이오사이언스</td>\n",
       "      <td>2024/12/30</td>\n",
       "      <td>302440</td>\n",
       "      <td>50,400</td>\n",
       "    </tr>\n",
       "  </tbody>\n",
       "</table>\n",
       "<p>933 rows × 4 columns</p>\n",
       "</div>"
      ],
      "text/plain": [
       "               회사명        회계년도  종목코드(축약)    종가(원)\n",
       "73727  에스케이바이오사이언스  2021/03/18    302440  169,000\n",
       "73728  에스케이바이오사이언스  2021/03/19    302440  166,500\n",
       "73729  에스케이바이오사이언스  2021/03/22    302440  144,000\n",
       "73730  에스케이바이오사이언스  2021/03/23    302440  140,500\n",
       "73731  에스케이바이오사이언스  2021/03/24    302440  136,500\n",
       "...            ...         ...       ...      ...\n",
       "74655  에스케이바이오사이언스  2024/12/23    302440   52,500\n",
       "74656  에스케이바이오사이언스  2024/12/24    302440   50,300\n",
       "74657  에스케이바이오사이언스  2024/12/26    302440   49,250\n",
       "74658  에스케이바이오사이언스  2024/12/27    302440   49,950\n",
       "74659  에스케이바이오사이언스  2024/12/30    302440   50,400\n",
       "\n",
       "[933 rows x 4 columns]"
      ]
     },
     "execution_count": 44,
     "metadata": {},
     "output_type": "execute_result"
    }
   ],
   "source": [
    "merged_df[merged_df['종목코드(축약)'] == 302440]\n"
   ]
  },
  {
   "cell_type": "code",
   "execution_count": 45,
   "id": "d072f31d",
   "metadata": {},
   "outputs": [],
   "source": [
    "result_df = pd.merge(final_df, merged_df, left_on='stock_code', right_on='종목코드(축약)', how='inner')\n"
   ]
  },
  {
   "cell_type": "code",
   "execution_count": 46,
   "id": "377342f5",
   "metadata": {},
   "outputs": [
    {
     "name": "stdout",
     "output_type": "stream",
     "text": [
      "<class 'pandas.core.frame.DataFrame'>\n",
      "RangeIndex: 743628 entries, 0 to 743627\n",
      "Data columns (total 7 columns):\n",
      " #   Column      Non-Null Count   Dtype  \n",
      "---  ------      --------------   -----  \n",
      " 0   회사명_d1      743628 non-null  object \n",
      " 1   stock_code  743628 non-null  int64  \n",
      " 2   공모가 (원)     743628 non-null  float64\n",
      " 3   회사명         743628 non-null  object \n",
      " 4   회계년도        743628 non-null  object \n",
      " 5   종목코드(축약)    743628 non-null  int64  \n",
      " 6   종가(원)       743628 non-null  object \n",
      "dtypes: float64(1), int64(2), object(4)\n",
      "memory usage: 39.7+ MB\n"
     ]
    }
   ],
   "source": [
    "result_df.info()"
   ]
  },
  {
   "cell_type": "code",
   "execution_count": 47,
   "id": "42d69bbc",
   "metadata": {},
   "outputs": [
    {
     "data": {
      "text/plain": [
       "657"
      ]
     },
     "execution_count": 47,
     "metadata": {},
     "output_type": "execute_result"
    }
   ],
   "source": [
    "len(result_df['회사명'].unique())"
   ]
  },
  {
   "cell_type": "code",
   "execution_count": 48,
   "id": "5c5469bc",
   "metadata": {},
   "outputs": [],
   "source": [
    "# 1. 특정 컬럼 삭제\n",
    "result_df = result_df.drop(columns=['회사명', 'stock_code', '종목코드(축약)'])\n",
    "\n",
    "# 2. 컬럼명 변경\n",
    "result_df = result_df.rename(columns={'회사명_d1': '회사명'})\n"
   ]
  },
  {
   "cell_type": "code",
   "execution_count": 49,
   "id": "4a19e92b",
   "metadata": {},
   "outputs": [
    {
     "name": "stdout",
     "output_type": "stream",
     "text": [
      "<class 'pandas.core.frame.DataFrame'>\n",
      "RangeIndex: 743628 entries, 0 to 743627\n",
      "Data columns (total 4 columns):\n",
      " #   Column   Non-Null Count   Dtype  \n",
      "---  ------   --------------   -----  \n",
      " 0   회사명      743628 non-null  object \n",
      " 1   공모가 (원)  743628 non-null  float64\n",
      " 2   회계년도     743628 non-null  object \n",
      " 3   종가(원)    743628 non-null  object \n",
      "dtypes: float64(1), object(3)\n",
      "memory usage: 22.7+ MB\n"
     ]
    }
   ],
   "source": [
    "result_df.info()"
   ]
  },
  {
   "cell_type": "code",
   "execution_count": 50,
   "id": "43b0c5d5",
   "metadata": {},
   "outputs": [
    {
     "data": {
      "text/plain": [
       "657"
      ]
     },
     "execution_count": 50,
     "metadata": {},
     "output_type": "execute_result"
    }
   ],
   "source": [
    "len(result_df['회사명'].unique())"
   ]
  },
  {
   "cell_type": "code",
   "execution_count": 51,
   "id": "1b74726d",
   "metadata": {},
   "outputs": [
    {
     "data": {
      "text/html": [
       "<div>\n",
       "<style scoped>\n",
       "    .dataframe tbody tr th:only-of-type {\n",
       "        vertical-align: middle;\n",
       "    }\n",
       "\n",
       "    .dataframe tbody tr th {\n",
       "        vertical-align: top;\n",
       "    }\n",
       "\n",
       "    .dataframe thead th {\n",
       "        text-align: right;\n",
       "    }\n",
       "</style>\n",
       "<table border=\"1\" class=\"dataframe\">\n",
       "  <thead>\n",
       "    <tr style=\"text-align: right;\">\n",
       "      <th></th>\n",
       "      <th>회사명</th>\n",
       "      <th>공모가 (원)</th>\n",
       "      <th>회계년도</th>\n",
       "      <th>종가(원)</th>\n",
       "    </tr>\n",
       "  </thead>\n",
       "  <tbody>\n",
       "    <tr>\n",
       "      <th>0</th>\n",
       "      <td>엠앤씨솔루션</td>\n",
       "      <td>65000.0</td>\n",
       "      <td>2024/12/16</td>\n",
       "      <td>51,800</td>\n",
       "    </tr>\n",
       "    <tr>\n",
       "      <th>1</th>\n",
       "      <td>엠앤씨솔루션</td>\n",
       "      <td>65000.0</td>\n",
       "      <td>2024/12/17</td>\n",
       "      <td>52,800</td>\n",
       "    </tr>\n",
       "    <tr>\n",
       "      <th>2</th>\n",
       "      <td>엠앤씨솔루션</td>\n",
       "      <td>65000.0</td>\n",
       "      <td>2024/12/18</td>\n",
       "      <td>52,900</td>\n",
       "    </tr>\n",
       "    <tr>\n",
       "      <th>3</th>\n",
       "      <td>엠앤씨솔루션</td>\n",
       "      <td>65000.0</td>\n",
       "      <td>2024/12/19</td>\n",
       "      <td>54,000</td>\n",
       "    </tr>\n",
       "    <tr>\n",
       "      <th>4</th>\n",
       "      <td>엠앤씨솔루션</td>\n",
       "      <td>65000.0</td>\n",
       "      <td>2024/12/20</td>\n",
       "      <td>49,700</td>\n",
       "    </tr>\n",
       "  </tbody>\n",
       "</table>\n",
       "</div>"
      ],
      "text/plain": [
       "      회사명  공모가 (원)        회계년도   종가(원)\n",
       "0  엠앤씨솔루션  65000.0  2024/12/16  51,800\n",
       "1  엠앤씨솔루션  65000.0  2024/12/17  52,800\n",
       "2  엠앤씨솔루션  65000.0  2024/12/18  52,900\n",
       "3  엠앤씨솔루션  65000.0  2024/12/19  54,000\n",
       "4  엠앤씨솔루션  65000.0  2024/12/20  49,700"
      ]
     },
     "execution_count": 51,
     "metadata": {},
     "output_type": "execute_result"
    }
   ],
   "source": [
    "result_df.head()"
   ]
  },
  {
   "cell_type": "code",
   "execution_count": 52,
   "id": "e3eaf5a0",
   "metadata": {},
   "outputs": [],
   "source": [
    "import pandas as pd\n",
    "\n",
    "# 날짜 타입 변환\n",
    "result_df['회계년도'] = pd.to_datetime(result_df['회계년도'], errors='coerce')\n",
    "\n",
    "# 숫자 타입 변환 (콤마 제거 포함)\n",
    "result_df['종가(원)'] = result_df['종가(원)'].astype(str).str.replace(',', '', regex=False)\n",
    "result_df['종가(원)'] = pd.to_numeric(result_df['종가(원)'], errors='coerce')\n",
    "\n",
    "result_df['공모가 (원)'] = result_df['공모가 (원)'].astype(str).str.replace(',', '', regex=False)\n",
    "result_df['공모가 (원)'] = pd.to_numeric(result_df['공모가 (원)'], errors='coerce')\n",
    "\n",
    "# 회사명, 날짜 기준으로 정렬\n",
    "result_df = result_df.sort_values(by=['회사명', '회계년도']).reset_index(drop=True)\n",
    "\n",
    "# 이전 종가 컬럼 생성 (shift 사용, 같은 회사 내에서만)\n",
    "result_df['prev_close'] = result_df.groupby('회사명')['종가(원)'].shift(1)\n",
    "\n",
    "# 수익률 계산 (조건문 사용)\n",
    "def calc_row_return(row):\n",
    "    if pd.isna(row['prev_close']):  # 첫 거래일 (이전 종가 없음)\n",
    "        return (row['종가(원)'] - row['공모가 (원)']) / row['공모가 (원)']\n",
    "    else:\n",
    "        return (row['종가(원)'] - row['prev_close']) / row['prev_close']\n",
    "\n",
    "result_df['수익률'] = result_df.apply(calc_row_return, axis=1)\n",
    "\n",
    "# 소수점 4자리로 반올림\n",
    "result_df['수익률'] = result_df['수익률'].round(4)\n",
    "\n",
    "# 'prev_close' 컬럼 제거\n",
    "result_df = result_df.drop(columns=['prev_close'])\n"
   ]
  },
  {
   "cell_type": "code",
   "execution_count": 53,
   "id": "a3c27c08",
   "metadata": {},
   "outputs": [
    {
     "name": "stdout",
     "output_type": "stream",
     "text": [
      "<class 'pandas.core.frame.DataFrame'>\n",
      "RangeIndex: 743628 entries, 0 to 743627\n",
      "Data columns (total 5 columns):\n",
      " #   Column   Non-Null Count   Dtype         \n",
      "---  ------   --------------   -----         \n",
      " 0   회사명      743628 non-null  object        \n",
      " 1   공모가 (원)  743628 non-null  float64       \n",
      " 2   회계년도     743628 non-null  datetime64[ns]\n",
      " 3   종가(원)    743628 non-null  int64         \n",
      " 4   수익률      743628 non-null  float64       \n",
      "dtypes: datetime64[ns](1), float64(2), int64(1), object(1)\n",
      "memory usage: 28.4+ MB\n"
     ]
    }
   ],
   "source": [
    "result_df.info()"
   ]
  },
  {
   "cell_type": "code",
   "execution_count": 54,
   "id": "70cc3587",
   "metadata": {},
   "outputs": [
    {
     "data": {
      "text/plain": [
       "0         0.0350\n",
       "1        -0.0873\n",
       "2        -0.0401\n",
       "3         0.1399\n",
       "4         0.0677\n",
       "           ...  \n",
       "743623    0.0114\n",
       "743624   -0.0099\n",
       "743625   -0.0156\n",
       "743626   -0.0043\n",
       "743627    0.0029\n",
       "Name: 수익률, Length: 743628, dtype: float64"
      ]
     },
     "execution_count": 54,
     "metadata": {},
     "output_type": "execute_result"
    }
   ],
   "source": [
    "# 첫 날 수익률 = (첫 날 종가 / 공모가) - 1\n",
    "# 첫 날 이외의 수익률 계산식 = (당일 종가 / 전 날 종가) - 1 \n",
    " \n",
    "result_df['수익률']"
   ]
  },
  {
   "cell_type": "code",
   "execution_count": 55,
   "id": "0ad3590b",
   "metadata": {},
   "outputs": [
    {
     "data": {
      "text/html": [
       "<div>\n",
       "<style scoped>\n",
       "    .dataframe tbody tr th:only-of-type {\n",
       "        vertical-align: middle;\n",
       "    }\n",
       "\n",
       "    .dataframe tbody tr th {\n",
       "        vertical-align: top;\n",
       "    }\n",
       "\n",
       "    .dataframe thead th {\n",
       "        text-align: right;\n",
       "    }\n",
       "</style>\n",
       "<table border=\"1\" class=\"dataframe\">\n",
       "  <thead>\n",
       "    <tr style=\"text-align: right;\">\n",
       "      <th></th>\n",
       "      <th>회사명</th>\n",
       "      <th>공모가 (원)</th>\n",
       "      <th>회계년도</th>\n",
       "      <th>종가(원)</th>\n",
       "      <th>수익률</th>\n",
       "    </tr>\n",
       "  </thead>\n",
       "  <tbody>\n",
       "    <tr>\n",
       "      <th>0</th>\n",
       "      <td>AJ네트웍스</td>\n",
       "      <td>34300.0</td>\n",
       "      <td>2015-08-21</td>\n",
       "      <td>35500</td>\n",
       "      <td>0.0350</td>\n",
       "    </tr>\n",
       "    <tr>\n",
       "      <th>1</th>\n",
       "      <td>AJ네트웍스</td>\n",
       "      <td>34300.0</td>\n",
       "      <td>2015-08-24</td>\n",
       "      <td>32400</td>\n",
       "      <td>-0.0873</td>\n",
       "    </tr>\n",
       "    <tr>\n",
       "      <th>2</th>\n",
       "      <td>AJ네트웍스</td>\n",
       "      <td>34300.0</td>\n",
       "      <td>2015-08-25</td>\n",
       "      <td>31100</td>\n",
       "      <td>-0.0401</td>\n",
       "    </tr>\n",
       "    <tr>\n",
       "      <th>3</th>\n",
       "      <td>AJ네트웍스</td>\n",
       "      <td>34300.0</td>\n",
       "      <td>2015-08-26</td>\n",
       "      <td>35450</td>\n",
       "      <td>0.1399</td>\n",
       "    </tr>\n",
       "    <tr>\n",
       "      <th>4</th>\n",
       "      <td>AJ네트웍스</td>\n",
       "      <td>34300.0</td>\n",
       "      <td>2015-08-27</td>\n",
       "      <td>37850</td>\n",
       "      <td>0.0677</td>\n",
       "    </tr>\n",
       "  </tbody>\n",
       "</table>\n",
       "</div>"
      ],
      "text/plain": [
       "      회사명  공모가 (원)       회계년도  종가(원)     수익률\n",
       "0  AJ네트웍스  34300.0 2015-08-21  35500  0.0350\n",
       "1  AJ네트웍스  34300.0 2015-08-24  32400 -0.0873\n",
       "2  AJ네트웍스  34300.0 2015-08-25  31100 -0.0401\n",
       "3  AJ네트웍스  34300.0 2015-08-26  35450  0.1399\n",
       "4  AJ네트웍스  34300.0 2015-08-27  37850  0.0677"
      ]
     },
     "execution_count": 55,
     "metadata": {},
     "output_type": "execute_result"
    }
   ],
   "source": [
    "result_df.head()"
   ]
  },
  {
   "cell_type": "code",
   "execution_count": 56,
   "id": "ab8922e4",
   "metadata": {},
   "outputs": [],
   "source": [
    "# 1) 회사별 날짜 순서대로 일자 번호 붙이기\n",
    "result_df['일자순번'] = result_df.groupby('회사명').cumcount() + 1"
   ]
  },
  {
   "cell_type": "code",
   "execution_count": 57,
   "id": "51269a5c",
   "metadata": {},
   "outputs": [
    {
     "name": "stdout",
     "output_type": "stream",
     "text": [
      "           회사명  일자순번  기간구간     수익률  수익률_표준편차\n",
      "0       AJ네트웍스     1  1~5일  0.0350  0.089380\n",
      "1       AJ네트웍스     2  1~5일 -0.0873  0.089380\n",
      "2       AJ네트웍스     3  1~5일 -0.0401  0.089380\n",
      "3       AJ네트웍스     4  1~5일  0.1399  0.089380\n",
      "4       AJ네트웍스     5  1~5일  0.0677  0.089380\n",
      "...        ...   ...   ...     ...       ...\n",
      "743623      힘스  1825    기타  0.0114  0.035187\n",
      "743624      힘스  1826    기타 -0.0099  0.035187\n",
      "743625      힘스  1827    기타 -0.0156  0.035187\n",
      "743626      힘스  1828    기타 -0.0043  0.035187\n",
      "743627      힘스  1829    기타  0.0029  0.035187\n",
      "\n",
      "[743628 rows x 5 columns]\n"
     ]
    }
   ],
   "source": [
    "# 1) 회사별 날짜 순서대로 일자 번호 붙이기\n",
    "result_df['일자순번'] = result_df.groupby('회사명').cumcount() + 1\n",
    "\n",
    "# 2) 구간 나누기 함수\n",
    "def 기간구간(day):\n",
    "    if 1 <= day <= 5:\n",
    "        return '1~5일'\n",
    "    elif 6 <= day <= 10:\n",
    "        return '6~10일'\n",
    "    elif 11 <= day <= 15:\n",
    "        return '11~15일'\n",
    "    elif 16 <= day <= 20:\n",
    "        return '16~20일'\n",
    "    else:\n",
    "        return '기타'\n",
    "\n",
    "result_df['기간구간'] = result_df['일자순번'].apply(기간구간)\n",
    "\n",
    "# 3) 회사별, 구간별 수익률 표준편차 계산 (Series 형태)\n",
    "std_series = result_df.groupby(['회사명', '기간구간'])['수익률'].transform('std')\n",
    "\n",
    "# 4) 새로운 컬럼으로 추가\n",
    "result_df['수익률_표준편차'] = std_series\n",
    "\n",
    "# 결과 확인\n",
    "print(result_df[['회사명', '일자순번', '기간구간', '수익률', '수익률_표준편차']])\n"
   ]
  },
  {
   "cell_type": "code",
   "execution_count": null,
   "id": "e4524e5e",
   "metadata": {},
   "outputs": [],
   "source": [
    "result_df.head(30)"
   ]
  },
  {
   "cell_type": "code",
   "execution_count": 59,
   "id": "bede6c09",
   "metadata": {},
   "outputs": [],
   "source": [
    "result_df.to_csv('주가수익률_표준편차.csv', encoding='cp949')"
   ]
  },
  {
   "cell_type": "code",
   "execution_count": 60,
   "id": "f0ef59f8",
   "metadata": {},
   "outputs": [
    {
     "data": {
      "text/plain": [
       "657"
      ]
     },
     "execution_count": 60,
     "metadata": {},
     "output_type": "execute_result"
    }
   ],
   "source": [
    "len(result_df['회사명'].unique())"
   ]
  },
  {
   "cell_type": "code",
   "execution_count": 61,
   "id": "9311b3e6",
   "metadata": {},
   "outputs": [
    {
     "data": {
      "text/plain": [
       "0         0.0350\n",
       "1        -0.0873\n",
       "2        -0.0401\n",
       "3         0.1399\n",
       "4         0.0677\n",
       "           ...  \n",
       "743623    0.0114\n",
       "743624   -0.0099\n",
       "743625   -0.0156\n",
       "743626   -0.0043\n",
       "743627    0.0029\n",
       "Name: 수익률, Length: 743628, dtype: float64"
      ]
     },
     "execution_count": 61,
     "metadata": {},
     "output_type": "execute_result"
    }
   ],
   "source": [
    "# 첫 날 수익률 = (첫 날 종가 / 공모가) - 1\n",
    "# 첫 날 이외의 수익률 계산식 = (당일 종가 / 전 날 종가) - 1 \n",
    " \n",
    "result_df['수익률']"
   ]
  },
  {
   "cell_type": "code",
   "execution_count": 63,
   "id": "b88277c0",
   "metadata": {},
   "outputs": [
    {
     "data": {
      "text/html": [
       "<div>\n",
       "<style scoped>\n",
       "    .dataframe tbody tr th:only-of-type {\n",
       "        vertical-align: middle;\n",
       "    }\n",
       "\n",
       "    .dataframe tbody tr th {\n",
       "        vertical-align: top;\n",
       "    }\n",
       "\n",
       "    .dataframe thead th {\n",
       "        text-align: right;\n",
       "    }\n",
       "</style>\n",
       "<table border=\"1\" class=\"dataframe\">\n",
       "  <thead>\n",
       "    <tr style=\"text-align: right;\">\n",
       "      <th></th>\n",
       "      <th>회사명</th>\n",
       "      <th>공모가 (원)</th>\n",
       "      <th>회계년도</th>\n",
       "      <th>종가(원)</th>\n",
       "      <th>수익률</th>\n",
       "      <th>일자순번</th>\n",
       "      <th>기간구간</th>\n",
       "      <th>수익률_표준편차</th>\n",
       "    </tr>\n",
       "  </thead>\n",
       "  <tbody>\n",
       "    <tr>\n",
       "      <th>0</th>\n",
       "      <td>AJ네트웍스</td>\n",
       "      <td>34300.0</td>\n",
       "      <td>2015-08-21</td>\n",
       "      <td>35500</td>\n",
       "      <td>0.0350</td>\n",
       "      <td>1</td>\n",
       "      <td>1~5일</td>\n",
       "      <td>0.08938</td>\n",
       "    </tr>\n",
       "    <tr>\n",
       "      <th>1</th>\n",
       "      <td>AJ네트웍스</td>\n",
       "      <td>34300.0</td>\n",
       "      <td>2015-08-24</td>\n",
       "      <td>32400</td>\n",
       "      <td>-0.0873</td>\n",
       "      <td>2</td>\n",
       "      <td>1~5일</td>\n",
       "      <td>0.08938</td>\n",
       "    </tr>\n",
       "    <tr>\n",
       "      <th>2</th>\n",
       "      <td>AJ네트웍스</td>\n",
       "      <td>34300.0</td>\n",
       "      <td>2015-08-25</td>\n",
       "      <td>31100</td>\n",
       "      <td>-0.0401</td>\n",
       "      <td>3</td>\n",
       "      <td>1~5일</td>\n",
       "      <td>0.08938</td>\n",
       "    </tr>\n",
       "    <tr>\n",
       "      <th>3</th>\n",
       "      <td>AJ네트웍스</td>\n",
       "      <td>34300.0</td>\n",
       "      <td>2015-08-26</td>\n",
       "      <td>35450</td>\n",
       "      <td>0.1399</td>\n",
       "      <td>4</td>\n",
       "      <td>1~5일</td>\n",
       "      <td>0.08938</td>\n",
       "    </tr>\n",
       "    <tr>\n",
       "      <th>4</th>\n",
       "      <td>AJ네트웍스</td>\n",
       "      <td>34300.0</td>\n",
       "      <td>2015-08-27</td>\n",
       "      <td>37850</td>\n",
       "      <td>0.0677</td>\n",
       "      <td>5</td>\n",
       "      <td>1~5일</td>\n",
       "      <td>0.08938</td>\n",
       "    </tr>\n",
       "  </tbody>\n",
       "</table>\n",
       "</div>"
      ],
      "text/plain": [
       "      회사명  공모가 (원)       회계년도  종가(원)     수익률  일자순번  기간구간  수익률_표준편차\n",
       "0  AJ네트웍스  34300.0 2015-08-21  35500  0.0350     1  1~5일   0.08938\n",
       "1  AJ네트웍스  34300.0 2015-08-24  32400 -0.0873     2  1~5일   0.08938\n",
       "2  AJ네트웍스  34300.0 2015-08-25  31100 -0.0401     3  1~5일   0.08938\n",
       "3  AJ네트웍스  34300.0 2015-08-26  35450  0.1399     4  1~5일   0.08938\n",
       "4  AJ네트웍스  34300.0 2015-08-27  37850  0.0677     5  1~5일   0.08938"
      ]
     },
     "execution_count": 63,
     "metadata": {},
     "output_type": "execute_result"
    }
   ],
   "source": [
    "result_df.head()"
   ]
  },
  {
   "cell_type": "code",
   "execution_count": 67,
   "id": "2e87e2cb",
   "metadata": {},
   "outputs": [],
   "source": [
    "gi_df2 = pd.read_csv('../data/gi.csv')"
   ]
  },
  {
   "cell_type": "code",
   "execution_count": 68,
   "id": "25002da2",
   "metadata": {},
   "outputs": [],
   "source": [
    "gi_df = gi_df[['회사명', '상장일']]"
   ]
  },
  {
   "cell_type": "code",
   "execution_count": 69,
   "id": "718c88c1",
   "metadata": {},
   "outputs": [
    {
     "data": {
      "text/html": [
       "<div>\n",
       "<style scoped>\n",
       "    .dataframe tbody tr th:only-of-type {\n",
       "        vertical-align: middle;\n",
       "    }\n",
       "\n",
       "    .dataframe tbody tr th {\n",
       "        vertical-align: top;\n",
       "    }\n",
       "\n",
       "    .dataframe thead th {\n",
       "        text-align: right;\n",
       "    }\n",
       "</style>\n",
       "<table border=\"1\" class=\"dataframe\">\n",
       "  <thead>\n",
       "    <tr style=\"text-align: right;\">\n",
       "      <th></th>\n",
       "      <th>회사명</th>\n",
       "      <th>상장일</th>\n",
       "    </tr>\n",
       "  </thead>\n",
       "  <tbody>\n",
       "    <tr>\n",
       "      <th>0</th>\n",
       "      <td>바이오노트</td>\n",
       "      <td>2022-12-22</td>\n",
       "    </tr>\n",
       "    <tr>\n",
       "      <th>1</th>\n",
       "      <td>쏘카</td>\n",
       "      <td>2022-08-22</td>\n",
       "    </tr>\n",
       "    <tr>\n",
       "      <th>2</th>\n",
       "      <td>수산인더스트리</td>\n",
       "      <td>2022-08-01</td>\n",
       "    </tr>\n",
       "    <tr>\n",
       "      <th>3</th>\n",
       "      <td>LG에너지솔루션</td>\n",
       "      <td>2022-01-27</td>\n",
       "    </tr>\n",
       "    <tr>\n",
       "      <th>4</th>\n",
       "      <td>카카오페이</td>\n",
       "      <td>2021-11-03</td>\n",
       "    </tr>\n",
       "  </tbody>\n",
       "</table>\n",
       "</div>"
      ],
      "text/plain": [
       "        회사명         상장일\n",
       "0     바이오노트  2022-12-22\n",
       "1        쏘카  2022-08-22\n",
       "2   수산인더스트리  2022-08-01\n",
       "3  LG에너지솔루션  2022-01-27\n",
       "4     카카오페이  2021-11-03"
      ]
     },
     "execution_count": 69,
     "metadata": {},
     "output_type": "execute_result"
    }
   ],
   "source": [
    "gi_df.head()"
   ]
  },
  {
   "cell_type": "code",
   "execution_count": 70,
   "id": "2e139b96",
   "metadata": {},
   "outputs": [],
   "source": [
    "import pandas as pd\n",
    "\n",
    "# 예시: 회사명 기준으로 inner join\n",
    "merged_df = pd.merge(result_df, gi_df, on='회사명', how='inner')\n"
   ]
  },
  {
   "cell_type": "code",
   "execution_count": 71,
   "id": "9babb963",
   "metadata": {},
   "outputs": [
    {
     "name": "stdout",
     "output_type": "stream",
     "text": [
      "<class 'pandas.core.frame.DataFrame'>\n",
      "RangeIndex: 720492 entries, 0 to 720491\n",
      "Data columns (total 9 columns):\n",
      " #   Column    Non-Null Count   Dtype         \n",
      "---  ------    --------------   -----         \n",
      " 0   회사명       720492 non-null  object        \n",
      " 1   공모가 (원)   720492 non-null  float64       \n",
      " 2   회계년도      720492 non-null  datetime64[ns]\n",
      " 3   종가(원)     720492 non-null  int64         \n",
      " 4   수익률       720492 non-null  float64       \n",
      " 5   일자순번      720492 non-null  int64         \n",
      " 6   기간구간      720492 non-null  object        \n",
      " 7   수익률_표준편차  720492 non-null  float64       \n",
      " 8   상장일       720492 non-null  object        \n",
      "dtypes: datetime64[ns](1), float64(3), int64(2), object(3)\n",
      "memory usage: 49.5+ MB\n"
     ]
    }
   ],
   "source": [
    "merged_df.info()"
   ]
  },
  {
   "cell_type": "code",
   "execution_count": 72,
   "id": "e8d42b90",
   "metadata": {},
   "outputs": [
    {
     "data": {
      "text/plain": [
       "533"
      ]
     },
     "execution_count": 72,
     "metadata": {},
     "output_type": "execute_result"
    }
   ],
   "source": [
    "len(merged_df['회사명'].unique())"
   ]
  },
  {
   "cell_type": "code",
   "execution_count": 73,
   "id": "159be8cd",
   "metadata": {},
   "outputs": [],
   "source": [
    "merged_df.to_csv('주가수익률_gi.csv')"
   ]
  },
  {
   "cell_type": "code",
   "execution_count": 74,
   "id": "ca1c9cec",
   "metadata": {},
   "outputs": [
    {
     "name": "stdout",
     "output_type": "stream",
     "text": [
      "<class 'pandas.core.frame.DataFrame'>\n",
      "RangeIndex: 720492 entries, 0 to 720491\n",
      "Data columns (total 9 columns):\n",
      " #   Column    Non-Null Count   Dtype         \n",
      "---  ------    --------------   -----         \n",
      " 0   회사명       720492 non-null  object        \n",
      " 1   공모가 (원)   720492 non-null  float64       \n",
      " 2   회계년도      720492 non-null  datetime64[ns]\n",
      " 3   종가(원)     720492 non-null  int64         \n",
      " 4   수익률       720492 non-null  float64       \n",
      " 5   일자순번      720492 non-null  int64         \n",
      " 6   기간구간      720492 non-null  object        \n",
      " 7   수익률_표준편차  720492 non-null  float64       \n",
      " 8   상장일       720492 non-null  object        \n",
      "dtypes: datetime64[ns](1), float64(3), int64(2), object(3)\n",
      "memory usage: 49.5+ MB\n"
     ]
    }
   ],
   "source": [
    "merged_df.info()"
   ]
  },
  {
   "cell_type": "code",
   "execution_count": null,
   "id": "44dd7b1c",
   "metadata": {},
   "outputs": [],
   "source": [
    "merged_df"
   ]
  }
 ],
 "metadata": {
  "kernelspec": {
   "display_name": "base",
   "language": "python",
   "name": "python3"
  },
  "language_info": {
   "codemirror_mode": {
    "name": "ipython",
    "version": 3
   },
   "file_extension": ".py",
   "mimetype": "text/x-python",
   "name": "python",
   "nbconvert_exporter": "python",
   "pygments_lexer": "ipython3",
   "version": "3.12.7"
  }
 },
 "nbformat": 4,
 "nbformat_minor": 5
}

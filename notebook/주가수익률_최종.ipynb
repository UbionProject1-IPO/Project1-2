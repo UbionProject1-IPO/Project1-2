{
 "cells": [
  {
   "cell_type": "code",
   "execution_count": 1,
   "id": "0db3036f",
   "metadata": {},
   "outputs": [],
   "source": [
    "import pandas as pd"
   ]
  },
  {
   "cell_type": "code",
   "execution_count": 4,
   "id": "0e7e4532",
   "metadata": {},
   "outputs": [],
   "source": [
    "df = pd.read_csv('C:/Users/Admin/Documents/GitHub/UbionProject1_IPO/Final_Folder/final_ratio_copy2.csv')"
   ]
  },
  {
   "cell_type": "code",
   "execution_count": 5,
   "id": "55639e78",
   "metadata": {},
   "outputs": [
    {
     "data": {
      "text/plain": [
       "Index(['회사명_d1', 'stock_code', '업종', '상장주선인', '공모가 (원)', '공모금액 (천원)',\n",
       "       '최초상장주식수 (주)', 'call', 'kospi', 'modified_esi', '6개월 확약', '3개월 확약',\n",
       "       '1개월 확약', '15일 확약', '미확약', '수요예측_최종값', '회사명_bs', 'corp_code', '상장일',\n",
       "       '업력', '유동자산', '유동부채', '부채총계', '자본금', '자본총계', '매출액', '영업이익', '당기순이익',\n",
       "       'target', 'TA', 'WC', 'log_TA', 'log_S', 'capital_deficit',\n",
       "       'wc_neg_dummy', 'ta_negative', 'current_ratio', 'wc_sales', 'wc_ta',\n",
       "       'cl_tl', 'de_ratio', 'equity_ratio', 'cs_te', 'debt_asset', 'op_margin',\n",
       "       'net_margin', 'roe', 'roe_sign_dummy', 'roe_nan', 'roa', 'oi_ta',\n",
       "       'ni_oi_ratio', 'asset_turnover', 'sales_equity', 'z_simplified',\n",
       "       'WICS_large'],\n",
       "      dtype='object')"
      ]
     },
     "execution_count": 5,
     "metadata": {},
     "output_type": "execute_result"
    }
   ],
   "source": [
    "df.columns"
   ]
  },
  {
   "cell_type": "code",
   "execution_count": 6,
   "id": "52abf5f8",
   "metadata": {},
   "outputs": [
    {
     "data": {
      "text/html": [
       "<div>\n",
       "<style scoped>\n",
       "    .dataframe tbody tr th:only-of-type {\n",
       "        vertical-align: middle;\n",
       "    }\n",
       "\n",
       "    .dataframe tbody tr th {\n",
       "        vertical-align: top;\n",
       "    }\n",
       "\n",
       "    .dataframe thead th {\n",
       "        text-align: right;\n",
       "    }\n",
       "</style>\n",
       "<table border=\"1\" class=\"dataframe\">\n",
       "  <thead>\n",
       "    <tr style=\"text-align: right;\">\n",
       "      <th></th>\n",
       "      <th>회사명_d1</th>\n",
       "      <th>stock_code</th>\n",
       "      <th>공모가 (원)</th>\n",
       "    </tr>\n",
       "  </thead>\n",
       "  <tbody>\n",
       "    <tr>\n",
       "      <th>0</th>\n",
       "      <td>엠앤씨솔루션</td>\n",
       "      <td>484870</td>\n",
       "      <td>65000.0</td>\n",
       "    </tr>\n",
       "    <tr>\n",
       "      <th>1</th>\n",
       "      <td>더본코리아</td>\n",
       "      <td>475560</td>\n",
       "      <td>34000.0</td>\n",
       "    </tr>\n",
       "    <tr>\n",
       "      <th>2</th>\n",
       "      <td>전진건설로봇</td>\n",
       "      <td>79900</td>\n",
       "      <td>16500.0</td>\n",
       "    </tr>\n",
       "    <tr>\n",
       "      <th>3</th>\n",
       "      <td>산일전기</td>\n",
       "      <td>62040</td>\n",
       "      <td>35000.0</td>\n",
       "    </tr>\n",
       "    <tr>\n",
       "      <th>4</th>\n",
       "      <td>시프트업</td>\n",
       "      <td>462870</td>\n",
       "      <td>60000.0</td>\n",
       "    </tr>\n",
       "  </tbody>\n",
       "</table>\n",
       "</div>"
      ],
      "text/plain": [
       "   회사명_d1  stock_code  공모가 (원)\n",
       "0  엠앤씨솔루션      484870  65000.0\n",
       "1   더본코리아      475560  34000.0\n",
       "2  전진건설로봇       79900  16500.0\n",
       "3    산일전기       62040  35000.0\n",
       "4    시프트업      462870  60000.0"
      ]
     },
     "execution_count": 6,
     "metadata": {},
     "output_type": "execute_result"
    }
   ],
   "source": [
    "final_df = df[['회사명_d1', 'stock_code', '공모가 (원)']]\n",
    "final_df.head()"
   ]
  },
  {
   "cell_type": "code",
   "execution_count": null,
   "id": "999ed4e1",
   "metadata": {},
   "outputs": [
    {
     "name": "stderr",
     "output_type": "stream",
     "text": [
      "C:\\Users\\Admin\\AppData\\Local\\Temp\\ipykernel_2452\\3035567227.py:1: DtypeWarning: Columns (6) have mixed types. Specify dtype option on import or set low_memory=False.\n",
      "  df1 = pd.read_csv('C:/Users/Admin/Documents/GitHub/UbionProject1_IPO/data/raw/TS_Data/KOSPI_110_stock_data.csv')\n"
     ]
    }
   ],
   "source": [
    "df1 = pd.read_csv('C:/Users/Admin/Documents/GitHub/UbionProject1_IPO/data/raw/TS_Data/KOSPI_110_stock_data.csv')"
   ]
  },
  {
   "cell_type": "code",
   "execution_count": 8,
   "id": "26a455f2",
   "metadata": {},
   "outputs": [
    {
     "data": {
      "text/plain": [
       "Index(['회사명', '거래소코드', '회계년도', '종목코드(축약)', '매매년월일', '상장주식수(주)', '액면가(원)',\n",
       "       '시가(원)', '고가(원)', '종가(원)', '거래량(주)', '거래대금(원)'],\n",
       "      dtype='object')"
      ]
     },
     "execution_count": 8,
     "metadata": {},
     "output_type": "execute_result"
    }
   ],
   "source": [
    "df1.columns"
   ]
  },
  {
   "cell_type": "code",
   "execution_count": 10,
   "id": "51bbbb19",
   "metadata": {},
   "outputs": [
    {
     "name": "stderr",
     "output_type": "stream",
     "text": [
      "C:\\Users\\Admin\\AppData\\Local\\Temp\\ipykernel_2452\\4159649632.py:1: DtypeWarning: Columns (6) have mixed types. Specify dtype option on import or set low_memory=False.\n",
      "  df2 = pd.read_csv('C:/Users/Admin/Documents/GitHub/UbionProject1_IPO/data/raw/TS_Data/KOSDAQ_881_stock_data.csv')\n"
     ]
    }
   ],
   "source": [
    "df2 = pd.read_csv('C:/Users/Admin/Documents/GitHub/UbionProject1_IPO/data/raw/TS_Data/KOSDAQ_881_stock_data.csv')"
   ]
  },
  {
   "cell_type": "code",
   "execution_count": 12,
   "id": "8449e006",
   "metadata": {},
   "outputs": [],
   "source": [
    "merged_df = pd.concat([df1, df2])"
   ]
  },
  {
   "cell_type": "code",
   "execution_count": 13,
   "id": "e3d58564",
   "metadata": {},
   "outputs": [
    {
     "data": {
      "text/html": [
       "<div>\n",
       "<style scoped>\n",
       "    .dataframe tbody tr th:only-of-type {\n",
       "        vertical-align: middle;\n",
       "    }\n",
       "\n",
       "    .dataframe tbody tr th {\n",
       "        vertical-align: top;\n",
       "    }\n",
       "\n",
       "    .dataframe thead th {\n",
       "        text-align: right;\n",
       "    }\n",
       "</style>\n",
       "<table border=\"1\" class=\"dataframe\">\n",
       "  <thead>\n",
       "    <tr style=\"text-align: right;\">\n",
       "      <th></th>\n",
       "      <th>회사명</th>\n",
       "      <th>거래소코드</th>\n",
       "      <th>회계년도</th>\n",
       "      <th>종목코드(축약)</th>\n",
       "      <th>매매년월일</th>\n",
       "      <th>상장주식수(주)</th>\n",
       "      <th>액면가(원)</th>\n",
       "      <th>시가(원)</th>\n",
       "      <th>고가(원)</th>\n",
       "      <th>종가(원)</th>\n",
       "      <th>거래량(주)</th>\n",
       "      <th>거래대금(원)</th>\n",
       "    </tr>\n",
       "  </thead>\n",
       "  <tbody>\n",
       "    <tr>\n",
       "      <th>0</th>\n",
       "      <td>AJ네트웍스보통주</td>\n",
       "      <td>95570</td>\n",
       "      <td>2015/08/21</td>\n",
       "      <td>95570</td>\n",
       "      <td>2015/08/21</td>\n",
       "      <td>9,364,459</td>\n",
       "      <td>5,000</td>\n",
       "      <td>30,900</td>\n",
       "      <td>36,500</td>\n",
       "      <td>35,500</td>\n",
       "      <td>1,994,022</td>\n",
       "      <td>64,841,739,950</td>\n",
       "    </tr>\n",
       "    <tr>\n",
       "      <th>1</th>\n",
       "      <td>AJ네트웍스보통주</td>\n",
       "      <td>95570</td>\n",
       "      <td>2015/08/24</td>\n",
       "      <td>95570</td>\n",
       "      <td>2015/08/24</td>\n",
       "      <td>9,364,459</td>\n",
       "      <td>5,000</td>\n",
       "      <td>33,500</td>\n",
       "      <td>34,700</td>\n",
       "      <td>32,400</td>\n",
       "      <td>392,831</td>\n",
       "      <td>12,926,256,800</td>\n",
       "    </tr>\n",
       "    <tr>\n",
       "      <th>2</th>\n",
       "      <td>AJ네트웍스보통주</td>\n",
       "      <td>95570</td>\n",
       "      <td>2015/08/25</td>\n",
       "      <td>95570</td>\n",
       "      <td>2015/08/25</td>\n",
       "      <td>9,364,459</td>\n",
       "      <td>5,000</td>\n",
       "      <td>33,050</td>\n",
       "      <td>33,650</td>\n",
       "      <td>31,100</td>\n",
       "      <td>242,730</td>\n",
       "      <td>7,808,534,250</td>\n",
       "    </tr>\n",
       "    <tr>\n",
       "      <th>3</th>\n",
       "      <td>AJ네트웍스보통주</td>\n",
       "      <td>95570</td>\n",
       "      <td>2015/08/26</td>\n",
       "      <td>95570</td>\n",
       "      <td>2015/08/26</td>\n",
       "      <td>9,364,459</td>\n",
       "      <td>5,000</td>\n",
       "      <td>31,300</td>\n",
       "      <td>38,800</td>\n",
       "      <td>35,450</td>\n",
       "      <td>703,721</td>\n",
       "      <td>25,144,972,800</td>\n",
       "    </tr>\n",
       "    <tr>\n",
       "      <th>4</th>\n",
       "      <td>AJ네트웍스보통주</td>\n",
       "      <td>95570</td>\n",
       "      <td>2015/08/27</td>\n",
       "      <td>95570</td>\n",
       "      <td>2015/08/27</td>\n",
       "      <td>9,364,459</td>\n",
       "      <td>5,000</td>\n",
       "      <td>36,200</td>\n",
       "      <td>40,300</td>\n",
       "      <td>37,850</td>\n",
       "      <td>499,913</td>\n",
       "      <td>18,764,860,300</td>\n",
       "    </tr>\n",
       "  </tbody>\n",
       "</table>\n",
       "</div>"
      ],
      "text/plain": [
       "         회사명  거래소코드        회계년도  종목코드(축약)       매매년월일   상장주식수(주) 액면가(원)  \\\n",
       "0  AJ네트웍스보통주  95570  2015/08/21     95570  2015/08/21  9,364,459  5,000   \n",
       "1  AJ네트웍스보통주  95570  2015/08/24     95570  2015/08/24  9,364,459  5,000   \n",
       "2  AJ네트웍스보통주  95570  2015/08/25     95570  2015/08/25  9,364,459  5,000   \n",
       "3  AJ네트웍스보통주  95570  2015/08/26     95570  2015/08/26  9,364,459  5,000   \n",
       "4  AJ네트웍스보통주  95570  2015/08/27     95570  2015/08/27  9,364,459  5,000   \n",
       "\n",
       "    시가(원)   고가(원)   종가(원)     거래량(주)         거래대금(원)  \n",
       "0  30,900  36,500  35,500  1,994,022  64,841,739,950  \n",
       "1  33,500  34,700  32,400    392,831  12,926,256,800  \n",
       "2  33,050  33,650  31,100    242,730   7,808,534,250  \n",
       "3  31,300  38,800  35,450    703,721  25,144,972,800  \n",
       "4  36,200  40,300  37,850    499,913  18,764,860,300  "
      ]
     },
     "execution_count": 13,
     "metadata": {},
     "output_type": "execute_result"
    }
   ],
   "source": [
    "merged_df.head()"
   ]
  },
  {
   "cell_type": "code",
   "execution_count": 15,
   "id": "759c6e62",
   "metadata": {},
   "outputs": [],
   "source": [
    "merged_df = merged_df[['회사명', '회계년도', '종목코드(축약)', '종가(원)']]"
   ]
  },
  {
   "cell_type": "code",
   "execution_count": 16,
   "id": "e8f0817b",
   "metadata": {},
   "outputs": [
    {
     "data": {
      "text/html": [
       "<div>\n",
       "<style scoped>\n",
       "    .dataframe tbody tr th:only-of-type {\n",
       "        vertical-align: middle;\n",
       "    }\n",
       "\n",
       "    .dataframe tbody tr th {\n",
       "        vertical-align: top;\n",
       "    }\n",
       "\n",
       "    .dataframe thead th {\n",
       "        text-align: right;\n",
       "    }\n",
       "</style>\n",
       "<table border=\"1\" class=\"dataframe\">\n",
       "  <thead>\n",
       "    <tr style=\"text-align: right;\">\n",
       "      <th></th>\n",
       "      <th>회사명</th>\n",
       "      <th>회계년도</th>\n",
       "      <th>종목코드(축약)</th>\n",
       "      <th>종가(원)</th>\n",
       "    </tr>\n",
       "  </thead>\n",
       "  <tbody>\n",
       "    <tr>\n",
       "      <th>0</th>\n",
       "      <td>AJ네트웍스보통주</td>\n",
       "      <td>2015/08/21</td>\n",
       "      <td>95570</td>\n",
       "      <td>35,500</td>\n",
       "    </tr>\n",
       "    <tr>\n",
       "      <th>1</th>\n",
       "      <td>AJ네트웍스보통주</td>\n",
       "      <td>2015/08/24</td>\n",
       "      <td>95570</td>\n",
       "      <td>32,400</td>\n",
       "    </tr>\n",
       "    <tr>\n",
       "      <th>2</th>\n",
       "      <td>AJ네트웍스보통주</td>\n",
       "      <td>2015/08/25</td>\n",
       "      <td>95570</td>\n",
       "      <td>31,100</td>\n",
       "    </tr>\n",
       "    <tr>\n",
       "      <th>3</th>\n",
       "      <td>AJ네트웍스보통주</td>\n",
       "      <td>2015/08/26</td>\n",
       "      <td>95570</td>\n",
       "      <td>35,450</td>\n",
       "    </tr>\n",
       "    <tr>\n",
       "      <th>4</th>\n",
       "      <td>AJ네트웍스보통주</td>\n",
       "      <td>2015/08/27</td>\n",
       "      <td>95570</td>\n",
       "      <td>37,850</td>\n",
       "    </tr>\n",
       "  </tbody>\n",
       "</table>\n",
       "</div>"
      ],
      "text/plain": [
       "         회사명        회계년도  종목코드(축약)   종가(원)\n",
       "0  AJ네트웍스보통주  2015/08/21     95570  35,500\n",
       "1  AJ네트웍스보통주  2015/08/24     95570  32,400\n",
       "2  AJ네트웍스보통주  2015/08/25     95570  31,100\n",
       "3  AJ네트웍스보통주  2015/08/26     95570  35,450\n",
       "4  AJ네트웍스보통주  2015/08/27     95570  37,850"
      ]
     },
     "execution_count": 16,
     "metadata": {},
     "output_type": "execute_result"
    }
   ],
   "source": [
    "merged_df.head()"
   ]
  },
  {
   "cell_type": "code",
   "execution_count": 17,
   "id": "5d9e3f91",
   "metadata": {},
   "outputs": [
    {
     "data": {
      "text/html": [
       "<div>\n",
       "<style scoped>\n",
       "    .dataframe tbody tr th:only-of-type {\n",
       "        vertical-align: middle;\n",
       "    }\n",
       "\n",
       "    .dataframe tbody tr th {\n",
       "        vertical-align: top;\n",
       "    }\n",
       "\n",
       "    .dataframe thead th {\n",
       "        text-align: right;\n",
       "    }\n",
       "</style>\n",
       "<table border=\"1\" class=\"dataframe\">\n",
       "  <thead>\n",
       "    <tr style=\"text-align: right;\">\n",
       "      <th></th>\n",
       "      <th>회사명_d1</th>\n",
       "      <th>stock_code</th>\n",
       "      <th>공모가 (원)</th>\n",
       "    </tr>\n",
       "  </thead>\n",
       "  <tbody>\n",
       "    <tr>\n",
       "      <th>0</th>\n",
       "      <td>엠앤씨솔루션</td>\n",
       "      <td>484870</td>\n",
       "      <td>65000.0</td>\n",
       "    </tr>\n",
       "    <tr>\n",
       "      <th>1</th>\n",
       "      <td>더본코리아</td>\n",
       "      <td>475560</td>\n",
       "      <td>34000.0</td>\n",
       "    </tr>\n",
       "    <tr>\n",
       "      <th>2</th>\n",
       "      <td>전진건설로봇</td>\n",
       "      <td>79900</td>\n",
       "      <td>16500.0</td>\n",
       "    </tr>\n",
       "    <tr>\n",
       "      <th>3</th>\n",
       "      <td>산일전기</td>\n",
       "      <td>62040</td>\n",
       "      <td>35000.0</td>\n",
       "    </tr>\n",
       "    <tr>\n",
       "      <th>4</th>\n",
       "      <td>시프트업</td>\n",
       "      <td>462870</td>\n",
       "      <td>60000.0</td>\n",
       "    </tr>\n",
       "  </tbody>\n",
       "</table>\n",
       "</div>"
      ],
      "text/plain": [
       "   회사명_d1  stock_code  공모가 (원)\n",
       "0  엠앤씨솔루션      484870  65000.0\n",
       "1   더본코리아      475560  34000.0\n",
       "2  전진건설로봇       79900  16500.0\n",
       "3    산일전기       62040  35000.0\n",
       "4    시프트업      462870  60000.0"
      ]
     },
     "execution_count": 17,
     "metadata": {},
     "output_type": "execute_result"
    }
   ],
   "source": [
    "final_df.head()"
   ]
  },
  {
   "cell_type": "code",
   "execution_count": 19,
   "id": "d46e6c90",
   "metadata": {},
   "outputs": [],
   "source": [
    "df3 = pd.read_csv('C:/Users/Admin/Documents/GitHub/UbionProject1_IPO/Trash/stock_no_specs.csv')"
   ]
  },
  {
   "cell_type": "code",
   "execution_count": 20,
   "id": "616a3c8f",
   "metadata": {},
   "outputs": [
    {
     "name": "stdout",
     "output_type": "stream",
     "text": [
      "<class 'pandas.core.frame.DataFrame'>\n",
      "RangeIndex: 670 entries, 0 to 669\n",
      "Data columns (total 13 columns):\n",
      " #   Column       Non-Null Count  Dtype \n",
      "---  ------       --------------  ----- \n",
      " 0   회사명          670 non-null    object\n",
      " 1   종목코드         670 non-null    int64 \n",
      " 2   상장일          670 non-null    object\n",
      " 3   상장유형         670 non-null    object\n",
      " 4   증권구분         670 non-null    object\n",
      " 5   업종           669 non-null    object\n",
      " 6   국적           670 non-null    object\n",
      " 7   상장주선인        670 non-null    object\n",
      " 8   액면가 (원)      670 non-null    object\n",
      " 9   공모가 (원)      670 non-null    object\n",
      " 10  공모금액 (천원)    670 non-null    object\n",
      " 11  주요제품         666 non-null    object\n",
      " 12  최초상장주식수 (주)  670 non-null    object\n",
      "dtypes: int64(1), object(12)\n",
      "memory usage: 68.2+ KB\n"
     ]
    }
   ],
   "source": [
    "df3.info()"
   ]
  },
  {
   "cell_type": "code",
   "execution_count": 22,
   "id": "f8998c0a",
   "metadata": {},
   "outputs": [],
   "source": [
    "df4 = pd.read_csv('C:/Users/Admin/Documents/GitHub/UbionProject1_IPO/Trash/spec.csv')"
   ]
  },
  {
   "cell_type": "code",
   "execution_count": 24,
   "id": "de2aa9ae",
   "metadata": {},
   "outputs": [
    {
     "name": "stdout",
     "output_type": "stream",
     "text": [
      "<class 'pandas.core.frame.DataFrame'>\n",
      "RangeIndex: 288 entries, 0 to 287\n",
      "Data columns (total 13 columns):\n",
      " #   Column       Non-Null Count  Dtype \n",
      "---  ------       --------------  ----- \n",
      " 0   회사명          288 non-null    object\n",
      " 1   종목코드         288 non-null    int64 \n",
      " 2   상장일          288 non-null    object\n",
      " 3   상장유형         288 non-null    object\n",
      " 4   증권구분         288 non-null    object\n",
      " 5   업종           288 non-null    object\n",
      " 6   국적           288 non-null    object\n",
      " 7   상장주선인        288 non-null    object\n",
      " 8   액면가 (원)      288 non-null    int64 \n",
      " 9   공모가 (원)      288 non-null    object\n",
      " 10  공모금액 (천원)    288 non-null    object\n",
      " 11  주요제품         276 non-null    object\n",
      " 12  최초상장주식수 (주)  288 non-null    object\n",
      "dtypes: int64(2), object(11)\n",
      "memory usage: 29.4+ KB\n"
     ]
    }
   ],
   "source": [
    "df4.info()"
   ]
  },
  {
   "cell_type": "code",
   "execution_count": 25,
   "id": "cc7cd4e6",
   "metadata": {},
   "outputs": [],
   "source": [
    "merged_df = merged_df[~merged_df['회사명'].isin(df4['회사명'])]\n"
   ]
  },
  {
   "cell_type": "code",
   "execution_count": 26,
   "id": "249a1628",
   "metadata": {},
   "outputs": [
    {
     "name": "stdout",
     "output_type": "stream",
     "text": [
      "<class 'pandas.core.frame.DataFrame'>\n",
      "Index: 1043422 entries, 0 to 903426\n",
      "Data columns (total 4 columns):\n",
      " #   Column    Non-Null Count    Dtype \n",
      "---  ------    --------------    ----- \n",
      " 0   회사명       1043422 non-null  object\n",
      " 1   회계년도      1043422 non-null  object\n",
      " 2   종목코드(축약)  1043422 non-null  int64 \n",
      " 3   종가(원)     1043422 non-null  object\n",
      "dtypes: int64(1), object(3)\n",
      "memory usage: 39.8+ MB\n"
     ]
    }
   ],
   "source": [
    "merged_df.info()"
   ]
  },
  {
   "cell_type": "code",
   "execution_count": 29,
   "id": "4e87aa50",
   "metadata": {},
   "outputs": [
    {
     "data": {
      "text/html": [
       "<div>\n",
       "<style scoped>\n",
       "    .dataframe tbody tr th:only-of-type {\n",
       "        vertical-align: middle;\n",
       "    }\n",
       "\n",
       "    .dataframe tbody tr th {\n",
       "        vertical-align: top;\n",
       "    }\n",
       "\n",
       "    .dataframe thead th {\n",
       "        text-align: right;\n",
       "    }\n",
       "</style>\n",
       "<table border=\"1\" class=\"dataframe\">\n",
       "  <thead>\n",
       "    <tr style=\"text-align: right;\">\n",
       "      <th></th>\n",
       "      <th>회사명</th>\n",
       "      <th>회계년도</th>\n",
       "      <th>종목코드(축약)</th>\n",
       "      <th>종가(원)</th>\n",
       "    </tr>\n",
       "  </thead>\n",
       "  <tbody>\n",
       "  </tbody>\n",
       "</table>\n",
       "</div>"
      ],
      "text/plain": [
       "Empty DataFrame\n",
       "Columns: [회사명, 회계년도, 종목코드(축약), 종가(원)]\n",
       "Index: []"
      ]
     },
     "execution_count": 29,
     "metadata": {},
     "output_type": "execute_result"
    }
   ],
   "source": [
    "merged_df[merged_df['회사명'].str.contains('스팩', na=False)]\n"
   ]
  },
  {
   "cell_type": "code",
   "execution_count": 32,
   "id": "f2ec07f4",
   "metadata": {},
   "outputs": [],
   "source": [
    "merged_df.to_csv('1.csv')"
   ]
  },
  {
   "cell_type": "code",
   "execution_count": 33,
   "id": "74a8720c",
   "metadata": {},
   "outputs": [],
   "source": [
    "merged_df = merged_df[~merged_df['회사명'].str.contains('인수목적', na=False)]\n"
   ]
  },
  {
   "cell_type": "code",
   "execution_count": 34,
   "id": "50b7b347",
   "metadata": {},
   "outputs": [
    {
     "name": "stdout",
     "output_type": "stream",
     "text": [
      "<class 'pandas.core.frame.DataFrame'>\n",
      "Index: 954858 entries, 0 to 903426\n",
      "Data columns (total 4 columns):\n",
      " #   Column    Non-Null Count   Dtype \n",
      "---  ------    --------------   ----- \n",
      " 0   회사명       954858 non-null  object\n",
      " 1   회계년도      954858 non-null  object\n",
      " 2   종목코드(축약)  954858 non-null  int64 \n",
      " 3   종가(원)     954858 non-null  object\n",
      "dtypes: int64(1), object(3)\n",
      "memory usage: 36.4+ MB\n"
     ]
    }
   ],
   "source": [
    "merged_df.info()"
   ]
  },
  {
   "cell_type": "code",
   "execution_count": 36,
   "id": "45f64992",
   "metadata": {},
   "outputs": [
    {
     "name": "stderr",
     "output_type": "stream",
     "text": [
      "C:\\Users\\Admin\\AppData\\Local\\Temp\\ipykernel_2452\\2898489943.py:1: SettingWithCopyWarning: \n",
      "A value is trying to be set on a copy of a slice from a DataFrame.\n",
      "Try using .loc[row_indexer,col_indexer] = value instead\n",
      "\n",
      "See the caveats in the documentation: https://pandas.pydata.org/pandas-docs/stable/user_guide/indexing.html#returning-a-view-versus-a-copy\n",
      "  merged_df['회사명'] = merged_df['회사명'].str.replace('보통주', '', regex=False).str.strip()\n"
     ]
    }
   ],
   "source": [
    "merged_df['회사명'] = merged_df['회사명'].str.replace('보통주', '', regex=False).str.strip()\n"
   ]
  },
  {
   "cell_type": "code",
   "execution_count": 39,
   "id": "70622bef",
   "metadata": {},
   "outputs": [
    {
     "data": {
      "text/plain": [
       "794"
      ]
     },
     "execution_count": 39,
     "metadata": {},
     "output_type": "execute_result"
    }
   ],
   "source": [
    "len(merged_df['회사명'].unique())"
   ]
  },
  {
   "cell_type": "code",
   "execution_count": 40,
   "id": "0f2495f6",
   "metadata": {},
   "outputs": [],
   "source": [
    "spac_to_remove = ['케이프이에스제4호', '엔에이치스펙5호', '하나금융7호SPAC', '코디엠', '한국자산신탁',\n",
    "                  '미래에셋생명', '코리아에셋투자증권', '미래에셋벤처투자', '윙입푸드',\n",
    "                  '아주IB투자', '나우아이비캐피탈', '카카오뱅크', '아이엔지생명']\n",
    "\n",
    "merged_df = merged_df[~merged_df['회사명'].isin(spac_to_remove)]\n"
   ]
  },
  {
   "cell_type": "code",
   "execution_count": 41,
   "id": "9818edaf",
   "metadata": {},
   "outputs": [
    {
     "data": {
      "text/plain": [
       "789"
      ]
     },
     "execution_count": 41,
     "metadata": {},
     "output_type": "execute_result"
    }
   ],
   "source": [
    "len(merged_df['회사명'].unique())"
   ]
  },
  {
   "cell_type": "code",
   "execution_count": 42,
   "id": "09f35e30",
   "metadata": {},
   "outputs": [
    {
     "data": {
      "text/html": [
       "<div>\n",
       "<style scoped>\n",
       "    .dataframe tbody tr th:only-of-type {\n",
       "        vertical-align: middle;\n",
       "    }\n",
       "\n",
       "    .dataframe tbody tr th {\n",
       "        vertical-align: top;\n",
       "    }\n",
       "\n",
       "    .dataframe thead th {\n",
       "        text-align: right;\n",
       "    }\n",
       "</style>\n",
       "<table border=\"1\" class=\"dataframe\">\n",
       "  <thead>\n",
       "    <tr style=\"text-align: right;\">\n",
       "      <th></th>\n",
       "      <th>회사명_d1</th>\n",
       "      <th>stock_code</th>\n",
       "      <th>공모가 (원)</th>\n",
       "    </tr>\n",
       "  </thead>\n",
       "  <tbody>\n",
       "    <tr>\n",
       "      <th>5</th>\n",
       "      <td>HD현대마린솔루션</td>\n",
       "      <td>443060</td>\n",
       "      <td>83400.0</td>\n",
       "    </tr>\n",
       "    <tr>\n",
       "      <th>18</th>\n",
       "      <td>현대중공업</td>\n",
       "      <td>329180</td>\n",
       "      <td>60000.0</td>\n",
       "    </tr>\n",
       "    <tr>\n",
       "      <th>26</th>\n",
       "      <td>SK바이오사이언스</td>\n",
       "      <td>302440</td>\n",
       "      <td>65000.0</td>\n",
       "    </tr>\n",
       "    <tr>\n",
       "      <th>31</th>\n",
       "      <td>빅히트</td>\n",
       "      <td>352820</td>\n",
       "      <td>135000.0</td>\n",
       "    </tr>\n",
       "    <tr>\n",
       "      <th>33</th>\n",
       "      <td>센트랄모텍</td>\n",
       "      <td>308170</td>\n",
       "      <td>6000.0</td>\n",
       "    </tr>\n",
       "    <tr>\n",
       "      <th>...</th>\n",
       "      <td>...</td>\n",
       "      <td>...</td>\n",
       "      <td>...</td>\n",
       "    </tr>\n",
       "    <tr>\n",
       "      <th>649</th>\n",
       "      <td>에스엔텍</td>\n",
       "      <td>160600</td>\n",
       "      <td>6500.0</td>\n",
       "    </tr>\n",
       "    <tr>\n",
       "      <th>650</th>\n",
       "      <td>코아스템</td>\n",
       "      <td>166480</td>\n",
       "      <td>16000.0</td>\n",
       "    </tr>\n",
       "    <tr>\n",
       "      <th>651</th>\n",
       "      <td>세미콘라이트</td>\n",
       "      <td>214310</td>\n",
       "      <td>11300.0</td>\n",
       "    </tr>\n",
       "    <tr>\n",
       "      <th>654</th>\n",
       "      <td>제노포커스</td>\n",
       "      <td>187420</td>\n",
       "      <td>11000.0</td>\n",
       "    </tr>\n",
       "    <tr>\n",
       "      <th>655</th>\n",
       "      <td>유지인트</td>\n",
       "      <td>195990</td>\n",
       "      <td>15000.0</td>\n",
       "    </tr>\n",
       "  </tbody>\n",
       "</table>\n",
       "<p>128 rows × 3 columns</p>\n",
       "</div>"
      ],
      "text/plain": [
       "        회사명_d1  stock_code   공모가 (원)\n",
       "5    HD현대마린솔루션      443060   83400.0\n",
       "18       현대중공업      329180   60000.0\n",
       "26   SK바이오사이언스      302440   65000.0\n",
       "31         빅히트      352820  135000.0\n",
       "33       센트랄모텍      308170    6000.0\n",
       "..         ...         ...       ...\n",
       "649       에스엔텍      160600    6500.0\n",
       "650       코아스템      166480   16000.0\n",
       "651     세미콘라이트      214310   11300.0\n",
       "654      제노포커스      187420   11000.0\n",
       "655       유지인트      195990   15000.0\n",
       "\n",
       "[128 rows x 3 columns]"
      ]
     },
     "execution_count": 42,
     "metadata": {},
     "output_type": "execute_result"
    }
   ],
   "source": [
    "missing_companies = final_df[~final_df['회사명_d1'].isin(merged_df['회사명'])]\n",
    "missing_companies"
   ]
  },
  {
   "cell_type": "code",
   "execution_count": 50,
   "id": "f1460612",
   "metadata": {},
   "outputs": [
    {
     "data": {
      "text/plain": [
       "0      엠앤씨솔루션\n",
       "1       더본코리아\n",
       "2      전진건설로봇\n",
       "3        산일전기\n",
       "4        시프트업\n",
       "        ...  \n",
       "652      싸이맥스\n",
       "653     픽셀플러스\n",
       "654     제노포커스\n",
       "655      유지인트\n",
       "656      포시에스\n",
       "Name: 회사명_d1, Length: 657, dtype: object"
      ]
     },
     "execution_count": 50,
     "metadata": {},
     "output_type": "execute_result"
    }
   ],
   "source": [
    "final_df['회사명_d1']"
   ]
  },
  {
   "cell_type": "code",
   "execution_count": 46,
   "id": "5256db93",
   "metadata": {},
   "outputs": [
    {
     "data": {
      "text/html": [
       "<div>\n",
       "<style scoped>\n",
       "    .dataframe tbody tr th:only-of-type {\n",
       "        vertical-align: middle;\n",
       "    }\n",
       "\n",
       "    .dataframe tbody tr th {\n",
       "        vertical-align: top;\n",
       "    }\n",
       "\n",
       "    .dataframe thead th {\n",
       "        text-align: right;\n",
       "    }\n",
       "</style>\n",
       "<table border=\"1\" class=\"dataframe\">\n",
       "  <thead>\n",
       "    <tr style=\"text-align: right;\">\n",
       "      <th></th>\n",
       "      <th>회사명</th>\n",
       "      <th>회계년도</th>\n",
       "      <th>종목코드(축약)</th>\n",
       "      <th>종가(원)</th>\n",
       "    </tr>\n",
       "  </thead>\n",
       "  <tbody>\n",
       "    <tr>\n",
       "      <th>73727</th>\n",
       "      <td>에스케이바이오사이언스</td>\n",
       "      <td>2021/03/18</td>\n",
       "      <td>302440</td>\n",
       "      <td>169,000</td>\n",
       "    </tr>\n",
       "    <tr>\n",
       "      <th>73728</th>\n",
       "      <td>에스케이바이오사이언스</td>\n",
       "      <td>2021/03/19</td>\n",
       "      <td>302440</td>\n",
       "      <td>166,500</td>\n",
       "    </tr>\n",
       "    <tr>\n",
       "      <th>73729</th>\n",
       "      <td>에스케이바이오사이언스</td>\n",
       "      <td>2021/03/22</td>\n",
       "      <td>302440</td>\n",
       "      <td>144,000</td>\n",
       "    </tr>\n",
       "    <tr>\n",
       "      <th>73730</th>\n",
       "      <td>에스케이바이오사이언스</td>\n",
       "      <td>2021/03/23</td>\n",
       "      <td>302440</td>\n",
       "      <td>140,500</td>\n",
       "    </tr>\n",
       "    <tr>\n",
       "      <th>73731</th>\n",
       "      <td>에스케이바이오사이언스</td>\n",
       "      <td>2021/03/24</td>\n",
       "      <td>302440</td>\n",
       "      <td>136,500</td>\n",
       "    </tr>\n",
       "    <tr>\n",
       "      <th>...</th>\n",
       "      <td>...</td>\n",
       "      <td>...</td>\n",
       "      <td>...</td>\n",
       "      <td>...</td>\n",
       "    </tr>\n",
       "    <tr>\n",
       "      <th>74655</th>\n",
       "      <td>에스케이바이오사이언스</td>\n",
       "      <td>2024/12/23</td>\n",
       "      <td>302440</td>\n",
       "      <td>52,500</td>\n",
       "    </tr>\n",
       "    <tr>\n",
       "      <th>74656</th>\n",
       "      <td>에스케이바이오사이언스</td>\n",
       "      <td>2024/12/24</td>\n",
       "      <td>302440</td>\n",
       "      <td>50,300</td>\n",
       "    </tr>\n",
       "    <tr>\n",
       "      <th>74657</th>\n",
       "      <td>에스케이바이오사이언스</td>\n",
       "      <td>2024/12/26</td>\n",
       "      <td>302440</td>\n",
       "      <td>49,250</td>\n",
       "    </tr>\n",
       "    <tr>\n",
       "      <th>74658</th>\n",
       "      <td>에스케이바이오사이언스</td>\n",
       "      <td>2024/12/27</td>\n",
       "      <td>302440</td>\n",
       "      <td>49,950</td>\n",
       "    </tr>\n",
       "    <tr>\n",
       "      <th>74659</th>\n",
       "      <td>에스케이바이오사이언스</td>\n",
       "      <td>2024/12/30</td>\n",
       "      <td>302440</td>\n",
       "      <td>50,400</td>\n",
       "    </tr>\n",
       "  </tbody>\n",
       "</table>\n",
       "<p>933 rows × 4 columns</p>\n",
       "</div>"
      ],
      "text/plain": [
       "               회사명        회계년도  종목코드(축약)    종가(원)\n",
       "73727  에스케이바이오사이언스  2021/03/18    302440  169,000\n",
       "73728  에스케이바이오사이언스  2021/03/19    302440  166,500\n",
       "73729  에스케이바이오사이언스  2021/03/22    302440  144,000\n",
       "73730  에스케이바이오사이언스  2021/03/23    302440  140,500\n",
       "73731  에스케이바이오사이언스  2021/03/24    302440  136,500\n",
       "...            ...         ...       ...      ...\n",
       "74655  에스케이바이오사이언스  2024/12/23    302440   52,500\n",
       "74656  에스케이바이오사이언스  2024/12/24    302440   50,300\n",
       "74657  에스케이바이오사이언스  2024/12/26    302440   49,250\n",
       "74658  에스케이바이오사이언스  2024/12/27    302440   49,950\n",
       "74659  에스케이바이오사이언스  2024/12/30    302440   50,400\n",
       "\n",
       "[933 rows x 4 columns]"
      ]
     },
     "execution_count": 46,
     "metadata": {},
     "output_type": "execute_result"
    }
   ],
   "source": [
    "merged_df[merged_df['종목코드(축약)'] == 302440]\n"
   ]
  },
  {
   "cell_type": "code",
   "execution_count": 47,
   "id": "d072f31d",
   "metadata": {},
   "outputs": [],
   "source": [
    "result_df = pd.merge(final_df, merged_df, left_on='stock_code', right_on='종목코드(축약)', how='inner')\n"
   ]
  },
  {
   "cell_type": "code",
   "execution_count": 48,
   "id": "377342f5",
   "metadata": {},
   "outputs": [
    {
     "name": "stdout",
     "output_type": "stream",
     "text": [
      "<class 'pandas.core.frame.DataFrame'>\n",
      "RangeIndex: 743628 entries, 0 to 743627\n",
      "Data columns (total 7 columns):\n",
      " #   Column      Non-Null Count   Dtype  \n",
      "---  ------      --------------   -----  \n",
      " 0   회사명_d1      743628 non-null  object \n",
      " 1   stock_code  743628 non-null  int64  \n",
      " 2   공모가 (원)     743628 non-null  float64\n",
      " 3   회사명         743628 non-null  object \n",
      " 4   회계년도        743628 non-null  object \n",
      " 5   종목코드(축약)    743628 non-null  int64  \n",
      " 6   종가(원)       743628 non-null  object \n",
      "dtypes: float64(1), int64(2), object(4)\n",
      "memory usage: 39.7+ MB\n"
     ]
    }
   ],
   "source": [
    "result_df.info()"
   ]
  },
  {
   "cell_type": "code",
   "execution_count": 49,
   "id": "42d69bbc",
   "metadata": {},
   "outputs": [
    {
     "data": {
      "text/plain": [
       "657"
      ]
     },
     "execution_count": 49,
     "metadata": {},
     "output_type": "execute_result"
    }
   ],
   "source": [
    "len(result_df['회사명'].unique())"
   ]
  },
  {
   "cell_type": "code",
   "execution_count": 51,
   "id": "5c5469bc",
   "metadata": {},
   "outputs": [],
   "source": [
    "# 1. 특정 컬럼 삭제\n",
    "result_df = result_df.drop(columns=['회사명', 'stock_code', '종목코드(축약)'])\n",
    "\n",
    "# 2. 컬럼명 변경\n",
    "result_df = result_df.rename(columns={'회사명_d1': '회사명'})\n"
   ]
  },
  {
   "cell_type": "code",
   "execution_count": 52,
   "id": "4a19e92b",
   "metadata": {},
   "outputs": [
    {
     "name": "stdout",
     "output_type": "stream",
     "text": [
      "<class 'pandas.core.frame.DataFrame'>\n",
      "RangeIndex: 743628 entries, 0 to 743627\n",
      "Data columns (total 4 columns):\n",
      " #   Column   Non-Null Count   Dtype  \n",
      "---  ------   --------------   -----  \n",
      " 0   회사명      743628 non-null  object \n",
      " 1   공모가 (원)  743628 non-null  float64\n",
      " 2   회계년도     743628 non-null  object \n",
      " 3   종가(원)    743628 non-null  object \n",
      "dtypes: float64(1), object(3)\n",
      "memory usage: 22.7+ MB\n"
     ]
    }
   ],
   "source": [
    "result_df.info()"
   ]
  },
  {
   "cell_type": "code",
   "execution_count": 53,
   "id": "43b0c5d5",
   "metadata": {},
   "outputs": [
    {
     "data": {
      "text/plain": [
       "657"
      ]
     },
     "execution_count": 53,
     "metadata": {},
     "output_type": "execute_result"
    }
   ],
   "source": [
    "len(result_df['회사명'].unique())"
   ]
  },
  {
   "cell_type": "code",
   "execution_count": 55,
   "id": "1b74726d",
   "metadata": {},
   "outputs": [
    {
     "data": {
      "text/html": [
       "<div>\n",
       "<style scoped>\n",
       "    .dataframe tbody tr th:only-of-type {\n",
       "        vertical-align: middle;\n",
       "    }\n",
       "\n",
       "    .dataframe tbody tr th {\n",
       "        vertical-align: top;\n",
       "    }\n",
       "\n",
       "    .dataframe thead th {\n",
       "        text-align: right;\n",
       "    }\n",
       "</style>\n",
       "<table border=\"1\" class=\"dataframe\">\n",
       "  <thead>\n",
       "    <tr style=\"text-align: right;\">\n",
       "      <th></th>\n",
       "      <th>회사명</th>\n",
       "      <th>공모가 (원)</th>\n",
       "      <th>회계년도</th>\n",
       "      <th>종가(원)</th>\n",
       "    </tr>\n",
       "  </thead>\n",
       "  <tbody>\n",
       "    <tr>\n",
       "      <th>0</th>\n",
       "      <td>엠앤씨솔루션</td>\n",
       "      <td>65000.0</td>\n",
       "      <td>2024/12/16</td>\n",
       "      <td>51,800</td>\n",
       "    </tr>\n",
       "    <tr>\n",
       "      <th>1</th>\n",
       "      <td>엠앤씨솔루션</td>\n",
       "      <td>65000.0</td>\n",
       "      <td>2024/12/17</td>\n",
       "      <td>52,800</td>\n",
       "    </tr>\n",
       "    <tr>\n",
       "      <th>2</th>\n",
       "      <td>엠앤씨솔루션</td>\n",
       "      <td>65000.0</td>\n",
       "      <td>2024/12/18</td>\n",
       "      <td>52,900</td>\n",
       "    </tr>\n",
       "    <tr>\n",
       "      <th>3</th>\n",
       "      <td>엠앤씨솔루션</td>\n",
       "      <td>65000.0</td>\n",
       "      <td>2024/12/19</td>\n",
       "      <td>54,000</td>\n",
       "    </tr>\n",
       "    <tr>\n",
       "      <th>4</th>\n",
       "      <td>엠앤씨솔루션</td>\n",
       "      <td>65000.0</td>\n",
       "      <td>2024/12/20</td>\n",
       "      <td>49,700</td>\n",
       "    </tr>\n",
       "  </tbody>\n",
       "</table>\n",
       "</div>"
      ],
      "text/plain": [
       "      회사명  공모가 (원)        회계년도   종가(원)\n",
       "0  엠앤씨솔루션  65000.0  2024/12/16  51,800\n",
       "1  엠앤씨솔루션  65000.0  2024/12/17  52,800\n",
       "2  엠앤씨솔루션  65000.0  2024/12/18  52,900\n",
       "3  엠앤씨솔루션  65000.0  2024/12/19  54,000\n",
       "4  엠앤씨솔루션  65000.0  2024/12/20  49,700"
      ]
     },
     "execution_count": 55,
     "metadata": {},
     "output_type": "execute_result"
    }
   ],
   "source": [
    "result_df.head()"
   ]
  },
  {
   "cell_type": "code",
   "execution_count": 56,
   "id": "8bf4a5c8",
   "metadata": {},
   "outputs": [],
   "source": [
    "result_df.to_csv('종가_공모가_데이터.csv')"
   ]
  },
  {
   "cell_type": "code",
   "execution_count": null,
   "id": "b4e7370d",
   "metadata": {},
   "outputs": [],
   "source": []
  }
 ],
 "metadata": {
  "kernelspec": {
   "display_name": "base",
   "language": "python",
   "name": "python3"
  },
  "language_info": {
   "codemirror_mode": {
    "name": "ipython",
    "version": 3
   },
   "file_extension": ".py",
   "mimetype": "text/x-python",
   "name": "python",
   "nbconvert_exporter": "python",
   "pygments_lexer": "ipython3",
   "version": "3.12.7"
  }
 },
 "nbformat": 4,
 "nbformat_minor": 5
}
